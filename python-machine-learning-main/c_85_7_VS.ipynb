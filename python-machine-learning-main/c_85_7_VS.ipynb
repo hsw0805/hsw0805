{
  "cells": [
    {
      "cell_type": "markdown",
      "metadata": {},
      "source": [
        "## `deep learning for life science`에서 발췌"
      ]
    },
    {
      "cell_type": "markdown",
      "metadata": {
        "id": "FJpHthE60TBJ"
      },
      "source": [
        "# 가상 스크리닝\n",
        "\n",
        "- ERK2 단백질을 억제하는 분자를 예측하는 모델을 만든다\n",
        " - extracellular signal-regulated kinase (다수의 생화학적 신호에 관여하고 세포의 증식 분화 전사조절에 관여한다)\n",
        " - 비소세포성 폐암 non-small cell lung cancer과 흑색종(피부암)에 대해 임상시험중\n",
        "\n",
        "- 그래프 합성곱 모델 사용\n",
        "- DUD-E 데이터베이스에서 활성 및 비활성 분자 데이터 사용\n",
        "- 특성값 추가하기"
      ]
    },
    {
      "cell_type": "markdown",
      "metadata": {
        "id": "2OpzBVDCDT3t"
      },
      "source": [
        "# import"
      ]
    },
    {
      "cell_type": "code",
      "execution_count": 1,
      "metadata": {
        "colab": {
          "base_uri": "https://localhost:8080/"
        },
        "id": "bd95Jgdy2As-",
        "outputId": "2b3d0a2f-ffd7-4473-891d-19b427813f69"
      },
      "outputs": [
        {
          "name": "stdout",
          "output_type": "stream",
          "text": [
            "Looking in indexes: https://pypi.org/simple, https://us-python.pkg.dev/colab-wheels/public/simple/\n",
            "Collecting DeepChem\n",
            "  Downloading deepchem-2.6.1-py3-none-any.whl (608 kB)\n",
            "\u001b[K     |████████████████████████████████| 608 kB 4.7 MB/s \n",
            "\u001b[?25hRequirement already satisfied: scipy in /usr/local/lib/python3.7/dist-packages (from DeepChem) (1.7.3)\n",
            "Requirement already satisfied: joblib in /usr/local/lib/python3.7/dist-packages (from DeepChem) (1.2.0)\n",
            "Requirement already satisfied: numpy>=1.21 in /usr/local/lib/python3.7/dist-packages (from DeepChem) (1.21.6)\n",
            "Collecting rdkit-pypi\n",
            "  Downloading rdkit_pypi-2022.9.1-cp37-cp37m-manylinux_2_17_x86_64.manylinux2014_x86_64.whl (29.5 MB)\n",
            "\u001b[K     |████████████████████████████████| 29.5 MB 1.5 MB/s \n",
            "\u001b[?25hRequirement already satisfied: scikit-learn in /usr/local/lib/python3.7/dist-packages (from DeepChem) (1.0.2)\n",
            "Requirement already satisfied: pandas in /usr/local/lib/python3.7/dist-packages (from DeepChem) (1.3.5)\n",
            "Requirement already satisfied: python-dateutil>=2.7.3 in /usr/local/lib/python3.7/dist-packages (from pandas->DeepChem) (2.8.2)\n",
            "Requirement already satisfied: pytz>=2017.3 in /usr/local/lib/python3.7/dist-packages (from pandas->DeepChem) (2022.6)\n",
            "Requirement already satisfied: six>=1.5 in /usr/local/lib/python3.7/dist-packages (from python-dateutil>=2.7.3->pandas->DeepChem) (1.15.0)\n",
            "Requirement already satisfied: Pillow in /usr/local/lib/python3.7/dist-packages (from rdkit-pypi->DeepChem) (7.1.2)\n",
            "Requirement already satisfied: threadpoolctl>=2.0.0 in /usr/local/lib/python3.7/dist-packages (from scikit-learn->DeepChem) (3.1.0)\n",
            "Installing collected packages: rdkit-pypi, DeepChem\n",
            "Successfully installed DeepChem-2.6.1 rdkit-pypi-2022.9.1\n"
          ]
        }
      ],
      "source": [
        "!pip install DeepChem"
      ]
    },
    {
      "cell_type": "code",
      "execution_count": 1,
      "metadata": {
        "id": "UGcjm8HGz4yT"
      },
      "outputs": [
        {
          "name": "stderr",
          "output_type": "stream",
          "text": [
            "/usr/local/lib/python3.9/site-packages/tqdm/auto.py:22: TqdmWarning: IProgress not found. Please update jupyter and ipywidgets. See https://ipywidgets.readthedocs.io/en/stable/user_install.html\n",
            "  from .autonotebook import tqdm as notebook_tqdm\n"
          ]
        }
      ],
      "source": [
        "import deepchem as dc\n",
        "from rdkit import Chem\n",
        "from rdkit.Chem import AllChem\n",
        "from rdkit.Chem import Draw\n",
        "from rdkit.Chem.Draw import IPythonConsole\n",
        "from rdkit.Chem import PandasTools\n",
        "from rdkit.Chem import Descriptors\n",
        "from rdkit.Chem import rdmolops\n",
        "from rdkit import DataStructs\n",
        "from rdkit.ML.Cluster import Butina\n",
        "from rdkit.Chem import rdMolDescriptors as rdmd\n",
        "from deepchem.models import GraphConvModel\n"
      ]
    },
    {
      "cell_type": "code",
      "execution_count": 2,
      "metadata": {
        "id": "WtF6y49KFIN4"
      },
      "outputs": [],
      "source": [
        "import numpy as np\n",
        "import pandas as pd\n",
        "import sys\n",
        "import seaborn as sns\n",
        "%config InlineBackend.figure_format = 'retina'\n",
        "from tqdm.auto import tqdm"
      ]
    },
    {
      "cell_type": "code",
      "execution_count": 3,
      "metadata": {
        "id": "j8gfrBZaOG6V"
      },
      "outputs": [],
      "source": [
        "import warnings\n",
        "warnings.filterwarnings(\"ignore\")"
      ]
    },
    {
      "cell_type": "markdown",
      "metadata": {
        "id": "PzA-0qesDcZS"
      },
      "source": [
        "# 데이터\n",
        "\n",
        "- 분자 데이터는 SMILES 형식이다. 이를 데이터프레임에 불러온다\n",
        "- AddMoleculeColumnToFrame()를 사용해 SMILES에 해당하는 Mol 객체를 데이터프레임이 추가한다"
      ]
    },
    {
      "cell_type": "code",
      "execution_count": 4,
      "metadata": {
        "colab": {
          "base_uri": "https://localhost:8080/",
          "height": 161
        },
        "id": "CPqIv1_8z4yU",
        "outputId": "8ba9c6bd-776a-46f8-c708-455b78a99e7a"
      },
      "outputs": [
        {
          "name": "stdout",
          "output_type": "stream",
          "text": [
            "(79, 3)\n"
          ]
        },
        {
          "data": {
            "text/html": [
              "<div>\n",
              "<style scoped>\n",
              "    .dataframe tbody tr th:only-of-type {\n",
              "        vertical-align: middle;\n",
              "    }\n",
              "\n",
              "    .dataframe tbody tr th {\n",
              "        vertical-align: top;\n",
              "    }\n",
              "\n",
              "    .dataframe thead th {\n",
              "        text-align: right;\n",
              "    }\n",
              "</style>\n",
              "<table border=\"1\" class=\"dataframe\">\n",
              "  <thead>\n",
              "    <tr style=\"text-align: right;\">\n",
              "      <th></th>\n",
              "      <th>0</th>\n",
              "      <th>1</th>\n",
              "      <th>2</th>\n",
              "    </tr>\n",
              "  </thead>\n",
              "  <tbody>\n",
              "    <tr>\n",
              "      <th>0</th>\n",
              "      <td>Cn1ccnc1Sc2ccc(cc2Cl)Nc3c4cc(c(cc4ncc3C#N)OCCC...</td>\n",
              "      <td>168691</td>\n",
              "      <td>CHEMBL318804</td>\n",
              "    </tr>\n",
              "    <tr>\n",
              "      <th>1</th>\n",
              "      <td>C[C@@]12[C@@H]([C@@H](CC(O1)n3c4ccccc4c5c3c6n2...</td>\n",
              "      <td>86358</td>\n",
              "      <td>CHEMBL162</td>\n",
              "    </tr>\n",
              "    <tr>\n",
              "      <th>2</th>\n",
              "      <td>Cc1cnc(nc1c2cc([nH]c2)C(=O)N[C@H](CO)c3cccc(c3...</td>\n",
              "      <td>575087</td>\n",
              "      <td>CHEMBL576683</td>\n",
              "    </tr>\n",
              "  </tbody>\n",
              "</table>\n",
              "</div>"
            ],
            "text/plain": [
              "                                                   0       1             2\n",
              "0  Cn1ccnc1Sc2ccc(cc2Cl)Nc3c4cc(c(cc4ncc3C#N)OCCC...  168691  CHEMBL318804\n",
              "1  C[C@@]12[C@@H]([C@@H](CC(O1)n3c4ccccc4c5c3c6n2...   86358     CHEMBL162\n",
              "2  Cc1cnc(nc1c2cc([nH]c2)C(=O)N[C@H](CO)c3cccc(c3...  575087  CHEMBL576683"
            ]
          },
          "execution_count": 4,
          "metadata": {},
          "output_type": "execute_result"
        }
      ],
      "source": [
        "active_df = pd.read_csv(\"https://raw.githubusercontent.com/deepchem/DeepLearningLifeSciences/master/Chapter11/mk01/actives_final.ism\",\n",
        "                        header=None,sep=\" \")\n",
        "print(active_df.shape)\n",
        "active_df[:3]"
      ]
    },
    {
      "cell_type": "code",
      "execution_count": 5,
      "metadata": {
        "id": "H_-k5gyHsoeM"
      },
      "outputs": [],
      "source": [
        "active_rows, active_cols = active_df.shape\n",
        "active_df.columns = [\"SMILES\",\"ID\",\"ChEMBL_ID\"]\n",
        "active_df[\"label\"] = [\"Active\"]*active_rows\n",
        "PandasTools.AddMoleculeColumnToFrame(active_df,\"SMILES\",\"Mol\")\n"
      ]
    },
    {
      "cell_type": "code",
      "execution_count": 6,
      "metadata": {
        "colab": {
          "base_uri": "https://localhost:8080/",
          "height": 143
        },
        "id": "Q_1JyOPgs8A-",
        "outputId": "ce0332cc-7feb-4867-eabb-4571a8c1a221"
      },
      "outputs": [
        {
          "data": {
            "text/html": [
              "<div>\n",
              "<style scoped>\n",
              "    .dataframe tbody tr th:only-of-type {\n",
              "        vertical-align: middle;\n",
              "    }\n",
              "\n",
              "    .dataframe tbody tr th {\n",
              "        vertical-align: top;\n",
              "    }\n",
              "\n",
              "    .dataframe thead th {\n",
              "        text-align: right;\n",
              "    }\n",
              "</style>\n",
              "<table border=\"1\" class=\"dataframe\">\n",
              "  <thead>\n",
              "    <tr style=\"text-align: right;\">\n",
              "      <th></th>\n",
              "      <th>SMILES</th>\n",
              "      <th>ID</th>\n",
              "      <th>ChEMBL_ID</th>\n",
              "      <th>label</th>\n",
              "      <th>Mol</th>\n",
              "    </tr>\n",
              "  </thead>\n",
              "  <tbody>\n",
              "    <tr>\n",
              "      <th>0</th>\n",
              "      <td>Cn1ccnc1Sc2ccc(cc2Cl)Nc3c4cc(c(cc4ncc3C#N)OCCC...</td>\n",
              "      <td>168691</td>\n",
              "      <td>CHEMBL318804</td>\n",
              "      <td>Active</td>\n",
              "      <td>&lt;rdkit.Chem.rdchem.Mol object at 0x149224b80&gt;</td>\n",
              "    </tr>\n",
              "    <tr>\n",
              "      <th>1</th>\n",
              "      <td>C[C@@]12[C@@H]([C@@H](CC(O1)n3c4ccccc4c5c3c6n2...</td>\n",
              "      <td>86358</td>\n",
              "      <td>CHEMBL162</td>\n",
              "      <td>Active</td>\n",
              "      <td>&lt;rdkit.Chem.rdchem.Mol object at 0x149224b20&gt;</td>\n",
              "    </tr>\n",
              "    <tr>\n",
              "      <th>2</th>\n",
              "      <td>Cc1cnc(nc1c2cc([nH]c2)C(=O)N[C@H](CO)c3cccc(c3...</td>\n",
              "      <td>575087</td>\n",
              "      <td>CHEMBL576683</td>\n",
              "      <td>Active</td>\n",
              "      <td>&lt;rdkit.Chem.rdchem.Mol object at 0x149224280&gt;</td>\n",
              "    </tr>\n",
              "  </tbody>\n",
              "</table>\n",
              "</div>"
            ],
            "text/plain": [
              "                                              SMILES      ID     ChEMBL_ID  \\\n",
              "0  Cn1ccnc1Sc2ccc(cc2Cl)Nc3c4cc(c(cc4ncc3C#N)OCCC...  168691  CHEMBL318804   \n",
              "1  C[C@@]12[C@@H]([C@@H](CC(O1)n3c4ccccc4c5c3c6n2...   86358     CHEMBL162   \n",
              "2  Cc1cnc(nc1c2cc([nH]c2)C(=O)N[C@H](CO)c3cccc(c3...  575087  CHEMBL576683   \n",
              "\n",
              "    label                                            Mol  \n",
              "0  Active  <rdkit.Chem.rdchem.Mol object at 0x149224b80>  \n",
              "1  Active  <rdkit.Chem.rdchem.Mol object at 0x149224b20>  \n",
              "2  Active  <rdkit.Chem.rdchem.Mol object at 0x149224280>  "
            ]
          },
          "execution_count": 6,
          "metadata": {},
          "output_type": "execute_result"
        }
      ],
      "source": [
        "active_df[:3]"
      ]
    },
    {
      "cell_type": "markdown",
      "metadata": {
        "id": "m5xtBXHRz4yU"
      },
      "source": [
        "## 데이터프레임에 계산된 특성값을 추가\n",
        "- 분자량 molecular weight, \n",
        "- 분배 계수 partition coefficeint(LogP) - 유성물질(옥탄올)에서 물로 분리되는 능력\n",
        "- 전하 charge (양인지 음인지)"
      ]
    },
    {
      "cell_type": "code",
      "execution_count": 7,
      "metadata": {
        "id": "IqjKaT8Ez4yU"
      },
      "outputs": [],
      "source": [
        "def add_property_columns_to_df(df_in):\n",
        "    df_in[\"mw\"] = [Descriptors.MolWt(mol) for mol in df_in.Mol]\n",
        "    df_in[\"logP\"] = [Descriptors.MolLogP(mol) for mol in df_in.Mol]\n",
        "    df_in[\"charge\"] = [rdmolops.GetFormalCharge(mol) for mol in df_in.Mol]"
      ]
    },
    {
      "cell_type": "code",
      "execution_count": 8,
      "metadata": {
        "colab": {
          "base_uri": "https://localhost:8080/",
          "height": 337
        },
        "id": "hS4OpyOiz4yV",
        "outputId": "d3ef387a-2232-49ad-edfd-99b3efe91f92"
      },
      "outputs": [
        {
          "data": {
            "text/html": [
              "<div>\n",
              "<style scoped>\n",
              "    .dataframe tbody tr th:only-of-type {\n",
              "        vertical-align: middle;\n",
              "    }\n",
              "\n",
              "    .dataframe tbody tr th {\n",
              "        vertical-align: top;\n",
              "    }\n",
              "\n",
              "    .dataframe thead th {\n",
              "        text-align: right;\n",
              "    }\n",
              "</style>\n",
              "<table border=\"1\" class=\"dataframe\">\n",
              "  <thead>\n",
              "    <tr style=\"text-align: right;\">\n",
              "      <th></th>\n",
              "      <th>SMILES</th>\n",
              "      <th>ID</th>\n",
              "      <th>ChEMBL_ID</th>\n",
              "      <th>label</th>\n",
              "      <th>Mol</th>\n",
              "      <th>mw</th>\n",
              "      <th>logP</th>\n",
              "      <th>charge</th>\n",
              "    </tr>\n",
              "  </thead>\n",
              "  <tbody>\n",
              "    <tr>\n",
              "      <th>0</th>\n",
              "      <td>Cn1ccnc1Sc2ccc(cc2Cl)Nc3c4cc(c(cc4ncc3C#N)OCCC...</td>\n",
              "      <td>168691</td>\n",
              "      <td>CHEMBL318804</td>\n",
              "      <td>Active</td>\n",
              "      <td>&lt;rdkit.Chem.rdchem.Mol object at 0x149224b80&gt;</td>\n",
              "      <td>565.099</td>\n",
              "      <td>5.49788</td>\n",
              "      <td>0</td>\n",
              "    </tr>\n",
              "    <tr>\n",
              "      <th>1</th>\n",
              "      <td>C[C@@]12[C@@H]([C@@H](CC(O1)n3c4ccccc4c5c3c6n2...</td>\n",
              "      <td>86358</td>\n",
              "      <td>CHEMBL162</td>\n",
              "      <td>Active</td>\n",
              "      <td>&lt;rdkit.Chem.rdchem.Mol object at 0x149224b20&gt;</td>\n",
              "      <td>466.541</td>\n",
              "      <td>4.35400</td>\n",
              "      <td>0</td>\n",
              "    </tr>\n",
              "    <tr>\n",
              "      <th>2</th>\n",
              "      <td>Cc1cnc(nc1c2cc([nH]c2)C(=O)N[C@H](CO)c3cccc(c3...</td>\n",
              "      <td>575087</td>\n",
              "      <td>CHEMBL576683</td>\n",
              "      <td>Active</td>\n",
              "      <td>&lt;rdkit.Chem.rdchem.Mol object at 0x149224280&gt;</td>\n",
              "      <td>527.915</td>\n",
              "      <td>4.96202</td>\n",
              "      <td>0</td>\n",
              "    </tr>\n",
              "    <tr>\n",
              "      <th>3</th>\n",
              "      <td>Cc1cnc(nc1c2cc([nH]c2)C(=O)N[C@H](CO)c3cccc(c3...</td>\n",
              "      <td>575065</td>\n",
              "      <td>CHEMBL571484</td>\n",
              "      <td>Active</td>\n",
              "      <td>&lt;rdkit.Chem.rdchem.Mol object at 0x149224700&gt;</td>\n",
              "      <td>491.935</td>\n",
              "      <td>4.36922</td>\n",
              "      <td>0</td>\n",
              "    </tr>\n",
              "    <tr>\n",
              "      <th>4</th>\n",
              "      <td>Cc1cnc(nc1c2cc([nH]c2)C(=O)N[C@H](CO)c3cccc(c3...</td>\n",
              "      <td>575047</td>\n",
              "      <td>CHEMBL568937</td>\n",
              "      <td>Active</td>\n",
              "      <td>&lt;rdkit.Chem.rdchem.Mol object at 0x149224340&gt;</td>\n",
              "      <td>487.991</td>\n",
              "      <td>5.12922</td>\n",
              "      <td>0</td>\n",
              "    </tr>\n",
              "  </tbody>\n",
              "</table>\n",
              "</div>"
            ],
            "text/plain": [
              "                                              SMILES      ID     ChEMBL_ID  \\\n",
              "0  Cn1ccnc1Sc2ccc(cc2Cl)Nc3c4cc(c(cc4ncc3C#N)OCCC...  168691  CHEMBL318804   \n",
              "1  C[C@@]12[C@@H]([C@@H](CC(O1)n3c4ccccc4c5c3c6n2...   86358     CHEMBL162   \n",
              "2  Cc1cnc(nc1c2cc([nH]c2)C(=O)N[C@H](CO)c3cccc(c3...  575087  CHEMBL576683   \n",
              "3  Cc1cnc(nc1c2cc([nH]c2)C(=O)N[C@H](CO)c3cccc(c3...  575065  CHEMBL571484   \n",
              "4  Cc1cnc(nc1c2cc([nH]c2)C(=O)N[C@H](CO)c3cccc(c3...  575047  CHEMBL568937   \n",
              "\n",
              "    label                                            Mol       mw     logP  \\\n",
              "0  Active  <rdkit.Chem.rdchem.Mol object at 0x149224b80>  565.099  5.49788   \n",
              "1  Active  <rdkit.Chem.rdchem.Mol object at 0x149224b20>  466.541  4.35400   \n",
              "2  Active  <rdkit.Chem.rdchem.Mol object at 0x149224280>  527.915  4.96202   \n",
              "3  Active  <rdkit.Chem.rdchem.Mol object at 0x149224700>  491.935  4.36922   \n",
              "4  Active  <rdkit.Chem.rdchem.Mol object at 0x149224340>  487.991  5.12922   \n",
              "\n",
              "   charge  \n",
              "0       0  \n",
              "1       0  \n",
              "2       0  \n",
              "3       0  \n",
              "4       0  "
            ]
          },
          "execution_count": 8,
          "metadata": {},
          "output_type": "execute_result"
        }
      ],
      "source": [
        "add_property_columns_to_df(active_df)\n",
        "active_df.head()"
      ]
    },
    {
      "cell_type": "markdown",
      "metadata": {
        "id": "zjnUULUtz4yW"
      },
      "source": [
        "## 같은 작업을 decoy molecules에 대해서도 수행"
      ]
    },
    {
      "cell_type": "code",
      "execution_count": 9,
      "metadata": {
        "id": "YI5vDzKfz4yX"
      },
      "outputs": [],
      "source": [
        "decoy_df = pd.read_csv(\"https://raw.githubusercontent.com/deepchem/DeepLearningLifeSciences/master/Chapter11/mk01/decoys_final.ism\",\n",
        "                       header=None,sep=\" \")\n",
        "decoy_df.columns = [\"SMILES\",\"ID\"]\n",
        "decoy_rows, decoy_cols = decoy_df.shape\n",
        "decoy_df[\"label\"] = [\"Decoy\"]*decoy_rows\n",
        "PandasTools.AddMoleculeColumnToFrame(decoy_df,\"SMILES\",\"Mol\")\n",
        "add_property_columns_to_df(decoy_df)"
      ]
    },
    {
      "cell_type": "markdown",
      "metadata": {
        "id": "3r8nfyuPEfAX"
      },
      "source": [
        "- 데이터를 합친다"
      ]
    },
    {
      "cell_type": "code",
      "execution_count": 10,
      "metadata": {
        "id": "0OrArJbcz4yX"
      },
      "outputs": [],
      "source": [
        "tmp_df = active_df.append(decoy_df)"
      ]
    },
    {
      "cell_type": "code",
      "execution_count": 11,
      "metadata": {
        "colab": {
          "base_uri": "https://localhost:8080/"
        },
        "id": "ZPNRAEq4uaXo",
        "outputId": "69fce7c8-5f7e-42cc-90a0-ce4363b0116c"
      },
      "outputs": [
        {
          "data": {
            "text/plain": [
              "(4629, 8)"
            ]
          },
          "execution_count": 11,
          "metadata": {},
          "output_type": "execute_result"
        }
      ],
      "source": [
        "tmp_df.shape"
      ]
    },
    {
      "cell_type": "markdown",
      "metadata": {
        "id": "KxfG36Osz4yX"
      },
      "source": [
        "- violin plot"
      ]
    },
    {
      "cell_type": "code",
      "execution_count": 12,
      "metadata": {
        "colab": {
          "base_uri": "https://localhost:8080/",
          "height": 278
        },
        "id": "B0NyoEDmz4yX",
        "outputId": "502c9101-62c4-4eab-9a68-fa6a64f719ff"
      },
      "outputs": [
        {
          "data": {
            "image/png": "[encoded data removed]",
            "text/plain": [
              "<Figure size 432x288 with 1 Axes>"
            ]
          },
          "metadata": {
            "image/png": {
              "height": 261,
              "width": 388
            },
            "needs_background": "light"
          },
          "output_type": "display_data"
        }
      ],
      "source": [
        "sns.violinplot(x=tmp_df[\"label\"],y=tmp_df[\"mw\"]);"
      ]
    },
    {
      "cell_type": "markdown",
      "metadata": {
        "id": "FzLVdAN5z4yX"
      },
      "source": [
        "- 위 그래프를 보면 분자량 분포는 비슷하다\n",
        "- 400mw 이하의 분자들이 비활성 분자 데이터셋에 좀 더 많이 들어 있다"
      ]
    },
    {
      "cell_type": "code",
      "execution_count": 13,
      "metadata": {
        "colab": {
          "base_uri": "https://localhost:8080/",
          "height": 278
        },
        "id": "MCGBGDW8z4yY",
        "outputId": "ed2dd534-5443-4dd8-dc67-97e7ce18e6d9"
      },
      "outputs": [
        {
          "data": {
            "image/png": "[encoded data removed]",
            "text/plain": [
              "<Figure size 432x288 with 1 Axes>"
            ]
          },
          "metadata": {
            "image/png": {
              "height": 261,
              "width": 384
            },
            "needs_background": "light"
          },
          "output_type": "display_data"
        }
      ],
      "source": [
        "sns.violinplot(x=tmp_df[\"label\"],y=tmp_df[\"logP\"]);"
      ]
    },
    {
      "cell_type": "code",
      "execution_count": 14,
      "metadata": {
        "colab": {
          "base_uri": "https://localhost:8080/",
          "height": 278
        },
        "id": "M2cvDR9mz4yY",
        "outputId": "93e9eedd-de8e-44bf-e566-404c4358c589"
      },
      "outputs": [
        {
          "data": {
            "image/png": "[encoded data removed]",
            "text/plain": [
              "<Figure size 432x288 with 1 Axes>"
            ]
          },
          "metadata": {
            "image/png": {
              "height": 261,
              "width": 394
            },
            "needs_background": "light"
          },
          "output_type": "display_data"
        }
      ],
      "source": [
        "sns.violinplot(x=tmp_df[\"label\"],y=tmp_df[\"charge\"]);"
      ]
    },
    {
      "cell_type": "markdown",
      "metadata": {
        "id": "EnY2ge1Ez4yY"
      },
      "source": [
        "- 활성 분자는 모두 중성이다\n",
        "- 비활성 분자는 일부 +1과 -1이 있다"
      ]
    },
    {
      "cell_type": "code",
      "execution_count": 15,
      "metadata": {
        "id": "nsxlupqbz4yY"
      },
      "outputs": [],
      "source": [
        "charged = decoy_df[decoy_df[\"charge\"] != 0]"
      ]
    },
    {
      "cell_type": "code",
      "execution_count": 16,
      "metadata": {
        "colab": {
          "base_uri": "https://localhost:8080/"
        },
        "id": "m4ae1YHqz4yZ",
        "outputId": "a330cf82-de50-49db-bf69-806b11ab26ce"
      },
      "outputs": [
        {
          "data": {
            "text/plain": [
              "0.16175824175824177"
            ]
          },
          "execution_count": 16,
          "metadata": {},
          "output_type": "execute_result"
        }
      ],
      "source": [
        "charged.shape[0]/decoy_df.shape[0]"
      ]
    },
    {
      "cell_type": "markdown",
      "metadata": {
        "id": "fNEBUWSuz4yZ"
      },
      "source": [
        "- 비활성 분자의 16%가 전하를 띠고 있다\n",
        "- 전하 차이에 의해 머신러닝 모델이 바이어스가 생기게 되므로, 비활성 분자의 화학 구조를 수정하여 전하를 제거하겠다\n",
        "- 아래는 이를 위한 함수 정의이다"
      ]
    },
    {
      "cell_type": "code",
      "execution_count": 17,
      "metadata": {
        "id": "YebLfFHFDkdk"
      },
      "outputs": [],
      "source": [
        "def _InitialiseNeutralisationReactions():\n",
        "    patts= (\n",
        "        # Imidazoles\n",
        "        ('[n+;H]','n'),\n",
        "        # Amines\n",
        "        ('[N+;!H0]','N'),\n",
        "        # Carboxylic acids and alcohols\n",
        "        ('[$([O-]);!$([O-][#7])]','O'),\n",
        "        # Thiols\n",
        "        ('[S-;X1]','S'),\n",
        "        # Sulfonamides\n",
        "        ('[$([N-;X2]S(=O)=O)]','N'),\n",
        "        # Enamines\n",
        "        ('[$([N-;X2][C,N]=C)]','N'),\n",
        "        # Tetrazoles\n",
        "        ('[n-]','[nH]'),\n",
        "        # Sulfoxides\n",
        "        ('[$([S-]=O)]','S'),\n",
        "        # Amides\n",
        "        ('[$([N-]C=O)]','N'),\n",
        "        )\n",
        "    return [(Chem.MolFromSmarts(x),Chem.MolFromSmiles(y,False)) for x,y in patts]\n",
        "\n",
        "_reactions=None\n",
        "\n",
        "def NeutraliseCharges(smiles, reactions=None):\n",
        "    global _reactions\n",
        "    if reactions is None:\n",
        "        if _reactions is None:\n",
        "            _reactions=_InitialiseNeutralisationReactions()\n",
        "        reactions=_reactions\n",
        "    mol = Chem.MolFromSmiles(smiles)\n",
        "    replaced = False\n",
        "    for i,(reactant, product) in enumerate(reactions):\n",
        "        while mol.HasSubstructMatch(reactant):\n",
        "            replaced = True\n",
        "            rms = AllChem.ReplaceSubstructs(mol, reactant, product)\n",
        "            mol = rms[0]\n",
        "    if replaced:\n",
        "        return (Chem.MolToSmiles(mol,True), True)\n",
        "    else:\n",
        "        return (smiles, False)"
      ]
    },
    {
      "cell_type": "code",
      "execution_count": 18,
      "metadata": {
        "id": "v9zT1W4lz4yZ"
      },
      "outputs": [],
      "source": [
        "revised_decoy_df = decoy_df[[\"SMILES\",\"ID\",\"label\"]].copy()"
      ]
    },
    {
      "cell_type": "markdown",
      "metadata": {
        "id": "HjqjW_sSz4yZ"
      },
      "source": [
        "- 중성화된 SMILES만 사용하면 되므로 첫 번째 컬럼만 사용한다 (두번째 컬럼에는 전하여부를 나타내는 불리언 변수가 들어 있다)"
      ]
    },
    {
      "cell_type": "code",
      "execution_count": 19,
      "metadata": {
        "id": "kmCa_bK0z4yZ"
      },
      "outputs": [],
      "source": [
        "revised_decoy_df[\"SMILES\"] = [NeutraliseCharges(x)[0] for x in revised_decoy_df[\"SMILES\"]]\n"
      ]
    },
    {
      "cell_type": "code",
      "execution_count": 20,
      "metadata": {
        "colab": {
          "base_uri": "https://localhost:8080/"
        },
        "id": "biGul6sTuVXT",
        "outputId": "2d5a9077-130b-4b8a-dfde-c595dc96b935"
      },
      "outputs": [
        {
          "data": {
            "text/plain": [
              "(4550, 3)"
            ]
          },
          "execution_count": 20,
          "metadata": {},
          "output_type": "execute_result"
        }
      ],
      "source": [
        "revised_decoy_df.shape"
      ]
    },
    {
      "cell_type": "markdown",
      "metadata": {
        "id": "RJAuMomNz4yZ"
      },
      "source": [
        "- 특성을 다시 계산한다\n",
        "- 전하를 띤 샘플의 수가 감소했다"
      ]
    },
    {
      "cell_type": "code",
      "execution_count": 21,
      "metadata": {
        "id": "HO9X1SmLz4yZ"
      },
      "outputs": [],
      "source": [
        "PandasTools.AddMoleculeColumnToFrame(revised_decoy_df,\"SMILES\",\"Mol\")\n",
        "add_property_columns_to_df(revised_decoy_df)"
      ]
    },
    {
      "cell_type": "code",
      "execution_count": 22,
      "metadata": {
        "id": "7pcGOamBz4yZ"
      },
      "outputs": [],
      "source": [
        "new_tmp_df = active_df.append(revised_decoy_df)"
      ]
    },
    {
      "cell_type": "code",
      "execution_count": 23,
      "metadata": {
        "colab": {
          "base_uri": "https://localhost:8080/",
          "height": 296
        },
        "id": "i1HO5iHNz4yZ",
        "outputId": "41c99bdb-21d1-4446-8881-b93d630976a7"
      },
      "outputs": [
        {
          "data": {
            "text/plain": [
              "<AxesSubplot:xlabel='label', ylabel='charge'>"
            ]
          },
          "execution_count": 23,
          "metadata": {},
          "output_type": "execute_result"
        },
        {
          "data": {
            "image/png": "[encoded data removed]",
            "text/plain": [
              "<Figure size 432x288 with 1 Axes>"
            ]
          },
          "metadata": {
            "image/png": {
              "height": 261,
              "width": 400
            },
            "needs_background": "light"
          },
          "output_type": "display_data"
        }
      ],
      "source": [
        "sns.violinplot(x=new_tmp_df[\"label\"],y=new_tmp_df[\"charge\"])"
      ]
    },
    {
      "cell_type": "code",
      "execution_count": 24,
      "metadata": {
        "colab": {
          "base_uri": "https://localhost:8080/"
        },
        "id": "2F5f08LRz4yZ",
        "outputId": "774db6c5-ab7b-468e-e017-0f5e4e79dc58"
      },
      "outputs": [
        {
          "data": {
            "text/plain": [
              "0.0026373626373626374"
            ]
          },
          "execution_count": 24,
          "metadata": {},
          "output_type": "execute_result"
        }
      ],
      "source": [
        "charged = revised_decoy_df[revised_decoy_df[\"charge\"] != 0]\n",
        "charged.shape[0]/revised_decoy_df.shape[0]"
      ]
    },
    {
      "cell_type": "markdown",
      "metadata": {
        "id": "kmoGr0jtz4ya"
      },
      "source": [
        "- 활성을 1로 비활성을 0으로 인코딩한다"
      ]
    },
    {
      "cell_type": "code",
      "execution_count": 25,
      "metadata": {
        "colab": {
          "base_uri": "https://localhost:8080/",
          "height": 206
        },
        "id": "VVc_Gm_Uz4ya",
        "outputId": "98395e0a-5f79-49e9-eccb-65be1137c857"
      },
      "outputs": [
        {
          "data": {
            "text/html": [
              "<div>\n",
              "<style scoped>\n",
              "    .dataframe tbody tr th:only-of-type {\n",
              "        vertical-align: middle;\n",
              "    }\n",
              "\n",
              "    .dataframe tbody tr th {\n",
              "        vertical-align: top;\n",
              "    }\n",
              "\n",
              "    .dataframe thead th {\n",
              "        text-align: right;\n",
              "    }\n",
              "</style>\n",
              "<table border=\"1\" class=\"dataframe\">\n",
              "  <thead>\n",
              "    <tr style=\"text-align: right;\">\n",
              "      <th></th>\n",
              "      <th>SMILES</th>\n",
              "      <th>ID</th>\n",
              "      <th>is_active</th>\n",
              "    </tr>\n",
              "  </thead>\n",
              "  <tbody>\n",
              "    <tr>\n",
              "      <th>0</th>\n",
              "      <td>Cn1ccnc1Sc2ccc(cc2Cl)Nc3c4cc(c(cc4ncc3C#N)OCCC...</td>\n",
              "      <td>168691</td>\n",
              "      <td>1</td>\n",
              "    </tr>\n",
              "    <tr>\n",
              "      <th>1</th>\n",
              "      <td>C[C@@]12[C@@H]([C@@H](CC(O1)n3c4ccccc4c5c3c6n2...</td>\n",
              "      <td>86358</td>\n",
              "      <td>1</td>\n",
              "    </tr>\n",
              "    <tr>\n",
              "      <th>2</th>\n",
              "      <td>Cc1cnc(nc1c2cc([nH]c2)C(=O)N[C@H](CO)c3cccc(c3...</td>\n",
              "      <td>575087</td>\n",
              "      <td>1</td>\n",
              "    </tr>\n",
              "    <tr>\n",
              "      <th>3</th>\n",
              "      <td>Cc1cnc(nc1c2cc([nH]c2)C(=O)N[C@H](CO)c3cccc(c3...</td>\n",
              "      <td>575065</td>\n",
              "      <td>1</td>\n",
              "    </tr>\n",
              "    <tr>\n",
              "      <th>4</th>\n",
              "      <td>Cc1cnc(nc1c2cc([nH]c2)C(=O)N[C@H](CO)c3cccc(c3...</td>\n",
              "      <td>575047</td>\n",
              "      <td>1</td>\n",
              "    </tr>\n",
              "  </tbody>\n",
              "</table>\n",
              "</div>"
            ],
            "text/plain": [
              "                                              SMILES      ID  is_active\n",
              "0  Cn1ccnc1Sc2ccc(cc2Cl)Nc3c4cc(c(cc4ncc3C#N)OCCC...  168691          1\n",
              "1  C[C@@]12[C@@H]([C@@H](CC(O1)n3c4ccccc4c5c3c6n2...   86358          1\n",
              "2  Cc1cnc(nc1c2cc([nH]c2)C(=O)N[C@H](CO)c3cccc(c3...  575087          1\n",
              "3  Cc1cnc(nc1c2cc([nH]c2)C(=O)N[C@H](CO)c3cccc(c3...  575065          1\n",
              "4  Cc1cnc(nc1c2cc([nH]c2)C(=O)N[C@H](CO)c3cccc(c3...  575047          1"
            ]
          },
          "execution_count": 25,
          "metadata": {},
          "output_type": "execute_result"
        }
      ],
      "source": [
        "active_df[\"is_active\"] = [1] * active_df.shape[0]\n",
        "revised_decoy_df[\"is_active\"] = [0] * revised_decoy_df.shape[0]\n",
        "combined_df = active_df.append(revised_decoy_df)[[\"SMILES\",\"ID\",\"is_active\"]]\n",
        "combined_df.head()"
      ]
    },
    {
      "cell_type": "code",
      "execution_count": 26,
      "metadata": {
        "id": "1NDR_A5oz4ya"
      },
      "outputs": [],
      "source": [
        "# 파일로 저장해둔다\n",
        "combined_df.to_csv(\"dude_erk1_mk01.csv\")"
      ]
    },
    {
      "cell_type": "markdown",
      "metadata": {
        "id": "1V7obXblHUP6"
      },
      "source": [
        "# 이진 분류 모델\n",
        "\n",
        "- GCN 모델을 사용"
      ]
    },
    {
      "cell_type": "markdown",
      "metadata": {
        "id": "ee8fkz1pIStN"
      },
      "source": [
        "- 그래프 합성곱 모델을 만드는 함수"
      ]
    },
    {
      "cell_type": "code",
      "execution_count": 27,
      "metadata": {
        "id": "_ZB9-hFQHhph"
      },
      "outputs": [],
      "source": [
        "def generate_graph_conv_model():\n",
        "    batch_size = 128\n",
        "    model = GraphConvModel(1, batch_size=batch_size, \n",
        "             mode='classification', model_dir=\"./model_dir\")\n",
        "    return model"
      ]
    },
    {
      "cell_type": "code",
      "execution_count": 28,
      "metadata": {
        "id": "cxvt5XBkHsiK"
      },
      "outputs": [],
      "source": [
        "dataset_file = \"dude_erk1_mk01.csv\"\n",
        "tasks = [\"is_active\"]\n",
        "featurizer = dc.feat.ConvMolFeaturizer()\n",
        "loader = dc.data.CSVLoader(tasks=tasks, feature_field=\"SMILES\", featurizer=featurizer)\n",
        "dataset = loader.create_dataset(dataset_file, shard_size=8192)"
      ]
    },
    {
      "cell_type": "code",
      "execution_count": 41,
      "metadata": {},
      "outputs": [
        {
          "data": {
            "text/plain": [
              "<DiskDataset X.shape: (4629,), y.shape: (4629, 1), w.shape: (4629, 1), task_names: ['is_active']>"
            ]
          },
          "execution_count": 41,
          "metadata": {},
          "output_type": "execute_result"
        }
      ],
      "source": [
        "dataset"
      ]
    },
    {
      "cell_type": "markdown",
      "metadata": {
        "id": "jC8aDynkIz89"
      },
      "source": [
        "- RandomSplitter() 사용\n",
        "- 화학 구조를 기반으로 데이터셋을 나누는 ScaffoleSplit(), 데이터를 군집화 한 후에 데이터셋을 분리하는 ButinaSplitter()도 있다\n",
        "- 불균형 데이터에 대한 성능 평가시에는 매튜 상관계수 Matthews Correlarions Coefficients(MCC)를 사용한다\n",
        " - +1이면 완벽한 예측, 0이면 랜덤 예측, -1이면 완전히 반대되는 예측을 의미한다"
      ]
    },
    {
      "cell_type": "code",
      "execution_count": 29,
      "metadata": {
        "id": "bIgIxmECICLd"
      },
      "outputs": [],
      "source": [
        "splitter = dc.splits.RandomSplitter()\n",
        "metrics = [dc.metrics.Metric(dc.metrics.matthews_corrcoef, np.mean)]"
      ]
    },
    {
      "cell_type": "code",
      "execution_count": 30,
      "metadata": {
        "colab": {
          "base_uri": "https://localhost:8080/",
          "height": 85,
          "referenced_widgets": [
            "041ef203516b433ea861e848de91be08",
            "811b5643255445b1be199f3c5f9092c8",
            "90f5c5cddad44359a2b7107c7306c805",
            "8bc8d7a5cc8f42d6b06ae2fa8d909fb0",
            "cdceea50a10243efa41bcf94dce6cf62",
            "f184cdf54623473bb44719380f1cba67",
            "b8daae9173164eb48cfd059080a01c02",
            "2827bfc9d66544ffb6e50fcd66cde1a8",
            "505f01fc7da743609fea71e2f21f7878",
            "f011965d58344b7382dfa0f1f8c6f5cf",
            "232d6d4c746148268fc97a71ede5a31e"
          ]
        },
        "collapsed": true,
        "id": "TfsZNqMbKlGv",
        "outputId": "19c9601a-b512-44d5-c37c-3cb2f4f93326"
      },
      "outputs": [
        {
          "name": "stderr",
          "output_type": "stream",
          "text": [
            "  0%|          | 0/5 [00:00<?, ?it/s]2022-11-19 13:09:24.871183: I tensorflow/core/platform/cpu_feature_guard.cc:142] This TensorFlow binary is optimized with oneAPI Deep Neural Network Library (oneDNN) to use the following CPU instructions in performance-critical operations:  AVX2 FMA\n",
            "To enable them in other operations, rebuild TensorFlow with the appropriate compiler flags.\n",
            "2022-11-19 13:09:32.099345: I tensorflow/compiler/mlir/mlir_graph_optimization_pass.cc:185] None of the MLIR Optimization Passes are enabled (registered 2)\n",
            " 60%|██████    | 3/5 [01:37<01:05, 32.56s/it]"
          ]
        },
        {
          "name": "stdout",
          "output_type": "stream",
          "text": [
            "WARNING:tensorflow:5 out of the last 292 calls to <function KerasModel._create_gradient_fn.<locals>.apply_gradient_for_batch at 0x150366940> triggered tf.function retracing. Tracing is expensive and the excessive number of tracings could be due to (1) creating @tf.function repeatedly in a loop, (2) passing tensors with different shapes, (3) passing Python objects instead of tensors. For (1), please define your @tf.function outside of the loop. For (2), @tf.function has experimental_relax_shapes=True option that relaxes argument shapes that can avoid unnecessary retracing. For (3), please refer to https://www.tensorflow.org/guide/function#controlling_retracing and https://www.tensorflow.org/api_docs/python/tf/function for  more details.\n"
          ]
        },
        {
          "name": "stderr",
          "output_type": "stream",
          "text": [
            "100%|██████████| 5/5 [02:50<00:00, 34.18s/it]"
          ]
        },
        {
          "name": "stdout",
          "output_type": "stream",
          "text": [
            "[0.9258805708159523, 0.579131672158902, 0.7592945630673903, 0.5973563503216289, 0.7515870712054968]\n",
            "[0.7534545402108427, 0.4433162349439269, 0.7344976320140556, 0.7534545402108427, 0.814715779285453]\n"
          ]
        },
        {
          "name": "stderr",
          "output_type": "stream",
          "text": [
            "\n"
          ]
        }
      ],
      "source": [
        "training_score_list = []\n",
        "validation_score_list = []\n",
        "transformers = []\n",
        "cv_folds = 5\n",
        "for i in tqdm(range(0,cv_folds)):\n",
        "    model = generate_graph_conv_model()\n",
        "    train_dataset, valid_dataset, test_dataset = splitter.train_valid_test_split(dataset)\n",
        "    model.fit(train_dataset)\n",
        "    train_scores = model.evaluate(train_dataset, metrics, transformers)\n",
        "    training_score_list.append(train_scores[\"mean-matthews_corrcoef\"])\n",
        "    validation_scores = model.evaluate(valid_dataset, metrics, transformers)\n",
        "    validation_score_list.append(validation_scores[\"mean-matthews_corrcoef\"])\n",
        "print(training_score_list)\n",
        "print(validation_score_list)"
      ]
    },
    {
      "cell_type": "code",
      "execution_count": 31,
      "metadata": {
        "colab": {
          "base_uri": "https://localhost:8080/"
        },
        "id": "x8WbOOLY3Njt",
        "outputId": "f0eb095a-0a8a-478d-f22a-a344ba87acd0"
      },
      "outputs": [
        {
          "data": {
            "text/plain": [
              "(0.722650045513874, 0.6998877453330242)"
            ]
          },
          "execution_count": 31,
          "metadata": {},
          "output_type": "execute_result"
        }
      ],
      "source": [
        "np.array(training_score_list).mean(), np.array(validation_score_list).mean()"
      ]
    },
    {
      "cell_type": "code",
      "execution_count": 32,
      "metadata": {
        "colab": {
          "base_uri": "https://localhost:8080/",
          "height": 265
        },
        "id": "q-Y7amrZNMzi",
        "outputId": "ea6879e4-06be-4eee-9dcb-eda890cf0b32"
      },
      "outputs": [
        {
          "data": {
            "image/png": "[encoded data removed]",
            "text/plain": [
              "<Figure size 432x288 with 1 Axes>"
            ]
          },
          "metadata": {
            "image/png": {
              "height": 248,
              "width": 372
            },
            "needs_background": "light"
          },
          "output_type": "display_data"
        }
      ],
      "source": [
        "sns.boxplot(x=[\"training\"]*cv_folds+[\"validation\"]*cv_folds,y=training_score_list+validation_score_list);"
      ]
    },
    {
      "cell_type": "markdown",
      "metadata": {
        "id": "TIH_hSwPN-jt"
      },
      "source": [
        "## 검증 데이터 예측값 시각화"
      ]
    },
    {
      "cell_type": "code",
      "execution_count": 33,
      "metadata": {
        "id": "n6h8HG-fNSCZ"
      },
      "outputs": [],
      "source": [
        "pred = [x.flatten() for x in model.predict(valid_dataset)]\n",
        "# predict_proba()와 같이 클래스별 확률을 얻는다."
      ]
    },
    {
      "cell_type": "code",
      "execution_count": 34,
      "metadata": {
        "colab": {
          "base_uri": "https://localhost:8080/",
          "height": 206
        },
        "id": "sfNkHHqfNkSe",
        "outputId": "a385afa7-2895-4323-9203-ff77e67a6f2d"
      },
      "outputs": [
        {
          "data": {
            "text/html": [
              "<div>\n",
              "<style scoped>\n",
              "    .dataframe tbody tr th:only-of-type {\n",
              "        vertical-align: middle;\n",
              "    }\n",
              "\n",
              "    .dataframe tbody tr th {\n",
              "        vertical-align: top;\n",
              "    }\n",
              "\n",
              "    .dataframe thead th {\n",
              "        text-align: right;\n",
              "    }\n",
              "</style>\n",
              "<table border=\"1\" class=\"dataframe\">\n",
              "  <thead>\n",
              "    <tr style=\"text-align: right;\">\n",
              "      <th></th>\n",
              "      <th>neg</th>\n",
              "      <th>pos</th>\n",
              "      <th>active</th>\n",
              "      <th>SMILES</th>\n",
              "    </tr>\n",
              "  </thead>\n",
              "  <tbody>\n",
              "    <tr>\n",
              "      <th>0</th>\n",
              "      <td>0.999843</td>\n",
              "      <td>0.000157</td>\n",
              "      <td>0</td>\n",
              "      <td>CCc1c(sc(n1)N)C(=O)N/N=C\\c2cc(c(c(c2)Br)O)OCC</td>\n",
              "    </tr>\n",
              "    <tr>\n",
              "      <th>1</th>\n",
              "      <td>0.998492</td>\n",
              "      <td>0.001508</td>\n",
              "      <td>0</td>\n",
              "      <td>CCOc1ccccc1N(CC(=O)N2CCN(CC2)c3ccccc3OC)S(=O)(...</td>\n",
              "    </tr>\n",
              "    <tr>\n",
              "      <th>2</th>\n",
              "      <td>0.998043</td>\n",
              "      <td>0.001957</td>\n",
              "      <td>0</td>\n",
              "      <td>c1cc(ccc1C2(CCCC2)NCC(=O)Nc3ccc(cc3)S(=O)(=O)N)Cl</td>\n",
              "    </tr>\n",
              "    <tr>\n",
              "      <th>3</th>\n",
              "      <td>0.996925</td>\n",
              "      <td>0.003075</td>\n",
              "      <td>0</td>\n",
              "      <td>O=C(Nc1ccc(C(=O)O)cc1O)N[C@@H]1CCCC[C@@H]1O</td>\n",
              "    </tr>\n",
              "    <tr>\n",
              "      <th>4</th>\n",
              "      <td>0.999665</td>\n",
              "      <td>0.000335</td>\n",
              "      <td>0</td>\n",
              "      <td>CCCCOc1ccc(cc1Br)C(=O)NC(=S)Nc2c(c(c(s2)C)CC)C...</td>\n",
              "    </tr>\n",
              "  </tbody>\n",
              "</table>\n",
              "</div>"
            ],
            "text/plain": [
              "        neg       pos  active  \\\n",
              "0  0.999843  0.000157       0   \n",
              "1  0.998492  0.001508       0   \n",
              "2  0.998043  0.001957       0   \n",
              "3  0.996925  0.003075       0   \n",
              "4  0.999665  0.000335       0   \n",
              "\n",
              "                                              SMILES  \n",
              "0      CCc1c(sc(n1)N)C(=O)N/N=C\\c2cc(c(c(c2)Br)O)OCC  \n",
              "1  CCOc1ccccc1N(CC(=O)N2CCN(CC2)c3ccccc3OC)S(=O)(...  \n",
              "2  c1cc(ccc1C2(CCCC2)NCC(=O)Nc3ccc(cc3)S(=O)(=O)N)Cl  \n",
              "3        O=C(Nc1ccc(C(=O)O)cc1O)N[C@@H]1CCCC[C@@H]1O  \n",
              "4  CCCCOc1ccc(cc1Br)C(=O)NC(=S)Nc2c(c(c(s2)C)CC)C...  "
            ]
          },
          "execution_count": 34,
          "metadata": {},
          "output_type": "execute_result"
        }
      ],
      "source": [
        "pred_df = pd.DataFrame(pred,columns=[\"neg\",\"pos\"])\n",
        "pred_df[\"active\"] = [int(x) for x in valid_dataset.y]\n",
        "pred_df[\"SMILES\"] = valid_dataset.ids\n",
        "pred_df.head()"
      ]
    },
    {
      "cell_type": "code",
      "execution_count": 35,
      "metadata": {
        "colab": {
          "base_uri": "https://localhost:8080/",
          "height": 833
        },
        "id": "TQO35DukNoVP",
        "outputId": "f5106289-ab7f-4df8-e097-74618877f3c5"
      },
      "outputs": [
        {
          "data": {
            "text/html": [
              "<div>\n",
              "<style scoped>\n",
              "    .dataframe tbody tr th:only-of-type {\n",
              "        vertical-align: middle;\n",
              "    }\n",
              "\n",
              "    .dataframe tbody tr th {\n",
              "        vertical-align: top;\n",
              "    }\n",
              "\n",
              "    .dataframe thead th {\n",
              "        text-align: right;\n",
              "    }\n",
              "</style>\n",
              "<table border=\"1\" class=\"dataframe\">\n",
              "  <thead>\n",
              "    <tr style=\"text-align: right;\">\n",
              "      <th></th>\n",
              "      <th>neg</th>\n",
              "      <th>pos</th>\n",
              "      <th>active</th>\n",
              "      <th>SMILES</th>\n",
              "    </tr>\n",
              "  </thead>\n",
              "  <tbody>\n",
              "    <tr>\n",
              "      <th>233</th>\n",
              "      <td>0.157538</td>\n",
              "      <td>0.842462</td>\n",
              "      <td>1</td>\n",
              "      <td>Cc1cnc(nc1c2cc([nH]c2)C(=O)N[C@H](CO)c3cccc(c3...</td>\n",
              "    </tr>\n",
              "    <tr>\n",
              "      <th>79</th>\n",
              "      <td>0.167848</td>\n",
              "      <td>0.832152</td>\n",
              "      <td>1</td>\n",
              "      <td>Cc1cccc(c1C)Nc2ncc(c(n2)c3cc([nH]c3)C(=O)N[C@H...</td>\n",
              "    </tr>\n",
              "    <tr>\n",
              "      <th>382</th>\n",
              "      <td>0.229088</td>\n",
              "      <td>0.770912</td>\n",
              "      <td>1</td>\n",
              "      <td>c1cc(cc(c1)Cl)c2cn[nH]c2c3cc([nH]c3)C(=O)N4CCCC4</td>\n",
              "    </tr>\n",
              "    <tr>\n",
              "      <th>99</th>\n",
              "      <td>0.404546</td>\n",
              "      <td>0.595454</td>\n",
              "      <td>1</td>\n",
              "      <td>Cc1cnc(nc1c2cc([nH]c2)C(=O)N[C@@H](CO)c3ccccc3...</td>\n",
              "    </tr>\n",
              "    <tr>\n",
              "      <th>381</th>\n",
              "      <td>0.874116</td>\n",
              "      <td>0.125884</td>\n",
              "      <td>0</td>\n",
              "      <td>Cc1cccc(c1C)N2CCN(CC2)c3c4cc(nn4ccn3)c5cccs5</td>\n",
              "    </tr>\n",
              "    <tr>\n",
              "      <th>387</th>\n",
              "      <td>0.919378</td>\n",
              "      <td>0.080622</td>\n",
              "      <td>0</td>\n",
              "      <td>CC1(CC2=C([C@@H](N(c3ccccc3N2)CC(=O)NC)c4cccs4...</td>\n",
              "    </tr>\n",
              "    <tr>\n",
              "      <th>194</th>\n",
              "      <td>0.935024</td>\n",
              "      <td>0.064976</td>\n",
              "      <td>0</td>\n",
              "      <td>CC[C@@H]1C2=C(CC(CC2=O)(C)C)Nc3ccccc3N1CC(=O)N...</td>\n",
              "    </tr>\n",
              "    <tr>\n",
              "      <th>308</th>\n",
              "      <td>0.940234</td>\n",
              "      <td>0.059766</td>\n",
              "      <td>1</td>\n",
              "      <td>Cn1c-2c(c(n1)C(=O)N)CCc3c2nc(nc3)NC4CCN(CC4)C(...</td>\n",
              "    </tr>\n",
              "    <tr>\n",
              "      <th>114</th>\n",
              "      <td>0.949654</td>\n",
              "      <td>0.050346</td>\n",
              "      <td>0</td>\n",
              "      <td>c1ccc2c(c1)c(nn3c2nc4c(c3=O)c5c(s4)CCCC5)NN</td>\n",
              "    </tr>\n",
              "    <tr>\n",
              "      <th>368</th>\n",
              "      <td>0.966589</td>\n",
              "      <td>0.033411</td>\n",
              "      <td>0</td>\n",
              "      <td>N[C@@H](CO)Cc1c(Sc2ccc(Cl)cc2)nc2sccn12</td>\n",
              "    </tr>\n",
              "    <tr>\n",
              "      <th>106</th>\n",
              "      <td>0.968050</td>\n",
              "      <td>0.031950</td>\n",
              "      <td>0</td>\n",
              "      <td>COc1cc2c(cc1O)NC(=O)C[C@H]2[C@@H]3C=NN=C3C4CCCCC4</td>\n",
              "    </tr>\n",
              "    <tr>\n",
              "      <th>200</th>\n",
              "      <td>0.977259</td>\n",
              "      <td>0.022741</td>\n",
              "      <td>0</td>\n",
              "      <td>Cc1c(c(n[nH]1)O)[C@@H](c2ccc(cc2)OC(=O)c3ccc(c...</td>\n",
              "    </tr>\n",
              "    <tr>\n",
              "      <th>390</th>\n",
              "      <td>0.979169</td>\n",
              "      <td>0.020831</td>\n",
              "      <td>0</td>\n",
              "      <td>CN(C)/C=C/1\\C(=NN(C1=O)c2nc3ccccc3s2)c4ccccc4</td>\n",
              "    </tr>\n",
              "    <tr>\n",
              "      <th>142</th>\n",
              "      <td>0.979698</td>\n",
              "      <td>0.020302</td>\n",
              "      <td>0</td>\n",
              "      <td>c1ccc(c(c1)C(F)(F)F)/N=C\\2/NC(=O)/C(=C/3\\c4cc(...</td>\n",
              "    </tr>\n",
              "    <tr>\n",
              "      <th>348</th>\n",
              "      <td>0.980565</td>\n",
              "      <td>0.019435</td>\n",
              "      <td>1</td>\n",
              "      <td>Cc1c2cc(c(cc2oc(=O)c1Cc3ccccc3)OC(=O)N(C)C)Cl</td>\n",
              "    </tr>\n",
              "    <tr>\n",
              "      <th>80</th>\n",
              "      <td>0.983037</td>\n",
              "      <td>0.016963</td>\n",
              "      <td>0</td>\n",
              "      <td>CC1(CCC(=O)O)NNC(=S)NN1</td>\n",
              "    </tr>\n",
              "    <tr>\n",
              "      <th>255</th>\n",
              "      <td>0.983385</td>\n",
              "      <td>0.016615</td>\n",
              "      <td>0</td>\n",
              "      <td>c1ccc2c(c1)C(=O)[C@@]3([C@@]2(Nc4c(nsn4)N3)O)O</td>\n",
              "    </tr>\n",
              "    <tr>\n",
              "      <th>424</th>\n",
              "      <td>0.983677</td>\n",
              "      <td>0.016323</td>\n",
              "      <td>0</td>\n",
              "      <td>C[C@@H](O)CNCc1c(OCC(=O)NC(C)(C)C)ccc2ccccc12</td>\n",
              "    </tr>\n",
              "    <tr>\n",
              "      <th>218</th>\n",
              "      <td>0.984996</td>\n",
              "      <td>0.015004</td>\n",
              "      <td>0</td>\n",
              "      <td>c1ccc(cc1)C2=C[C@H](N=N2)[C@H]3Nn4c(nnc4S3)c5c...</td>\n",
              "    </tr>\n",
              "    <tr>\n",
              "      <th>313</th>\n",
              "      <td>0.985472</td>\n",
              "      <td>0.014528</td>\n",
              "      <td>0</td>\n",
              "      <td>CC(C)c1ccc(cc1)c2nc(cs2)C(=O)NCc3ccc(s3)S(=O)(...</td>\n",
              "    </tr>\n",
              "    <tr>\n",
              "      <th>174</th>\n",
              "      <td>0.985585</td>\n",
              "      <td>0.014415</td>\n",
              "      <td>0</td>\n",
              "      <td>CC[C@@H](C)[C@@H](CO)NC(=O)[C@H](C)NC(=O)[C@@H...</td>\n",
              "    </tr>\n",
              "    <tr>\n",
              "      <th>239</th>\n",
              "      <td>0.985753</td>\n",
              "      <td>0.014247</td>\n",
              "      <td>0</td>\n",
              "      <td>N#Cc1c(NC(=O)CCN2CCCC[C@H]2CNC(=O)Nc2ccccc2)sc...</td>\n",
              "    </tr>\n",
              "    <tr>\n",
              "      <th>280</th>\n",
              "      <td>0.986095</td>\n",
              "      <td>0.013905</td>\n",
              "      <td>0</td>\n",
              "      <td>C[C@@]1([C@H](O[C@]([C@]([C@@]1(C)O)(C)O)(C)O)...</td>\n",
              "    </tr>\n",
              "    <tr>\n",
              "      <th>326</th>\n",
              "      <td>0.986300</td>\n",
              "      <td>0.013699</td>\n",
              "      <td>0</td>\n",
              "      <td>[H]/N=C1\\C(O)=C(O)[C@@H](CO)O[C@H]1OC</td>\n",
              "    </tr>\n",
              "    <tr>\n",
              "      <th>454</th>\n",
              "      <td>0.986496</td>\n",
              "      <td>0.013504</td>\n",
              "      <td>0</td>\n",
              "      <td>Cc1cc(ccc1n2cc(cn2)Br)/C(=N/O)/N</td>\n",
              "    </tr>\n",
              "  </tbody>\n",
              "</table>\n",
              "</div>"
            ],
            "text/plain": [
              "          neg       pos  active  \\\n",
              "233  0.157538  0.842462       1   \n",
              "79   0.167848  0.832152       1   \n",
              "382  0.229088  0.770912       1   \n",
              "99   0.404546  0.595454       1   \n",
              "381  0.874116  0.125884       0   \n",
              "387  0.919378  0.080622       0   \n",
              "194  0.935024  0.064976       0   \n",
              "308  0.940234  0.059766       1   \n",
              "114  0.949654  0.050346       0   \n",
              "368  0.966589  0.033411       0   \n",
              "106  0.968050  0.031950       0   \n",
              "200  0.977259  0.022741       0   \n",
              "390  0.979169  0.020831       0   \n",
              "142  0.979698  0.020302       0   \n",
              "348  0.980565  0.019435       1   \n",
              "80   0.983037  0.016963       0   \n",
              "255  0.983385  0.016615       0   \n",
              "424  0.983677  0.016323       0   \n",
              "218  0.984996  0.015004       0   \n",
              "313  0.985472  0.014528       0   \n",
              "174  0.985585  0.014415       0   \n",
              "239  0.985753  0.014247       0   \n",
              "280  0.986095  0.013905       0   \n",
              "326  0.986300  0.013699       0   \n",
              "454  0.986496  0.013504       0   \n",
              "\n",
              "                                                SMILES  \n",
              "233  Cc1cnc(nc1c2cc([nH]c2)C(=O)N[C@H](CO)c3cccc(c3...  \n",
              "79   Cc1cccc(c1C)Nc2ncc(c(n2)c3cc([nH]c3)C(=O)N[C@H...  \n",
              "382   c1cc(cc(c1)Cl)c2cn[nH]c2c3cc([nH]c3)C(=O)N4CCCC4  \n",
              "99   Cc1cnc(nc1c2cc([nH]c2)C(=O)N[C@@H](CO)c3ccccc3...  \n",
              "381       Cc1cccc(c1C)N2CCN(CC2)c3c4cc(nn4ccn3)c5cccs5  \n",
              "387  CC1(CC2=C([C@@H](N(c3ccccc3N2)CC(=O)NC)c4cccs4...  \n",
              "194  CC[C@@H]1C2=C(CC(CC2=O)(C)C)Nc3ccccc3N1CC(=O)N...  \n",
              "308  Cn1c-2c(c(n1)C(=O)N)CCc3c2nc(nc3)NC4CCN(CC4)C(...  \n",
              "114        c1ccc2c(c1)c(nn3c2nc4c(c3=O)c5c(s4)CCCC5)NN  \n",
              "368            N[C@@H](CO)Cc1c(Sc2ccc(Cl)cc2)nc2sccn12  \n",
              "106  COc1cc2c(cc1O)NC(=O)C[C@H]2[C@@H]3C=NN=C3C4CCCCC4  \n",
              "200  Cc1c(c(n[nH]1)O)[C@@H](c2ccc(cc2)OC(=O)c3ccc(c...  \n",
              "390      CN(C)/C=C/1\\C(=NN(C1=O)c2nc3ccccc3s2)c4ccccc4  \n",
              "142  c1ccc(c(c1)C(F)(F)F)/N=C\\2/NC(=O)/C(=C/3\\c4cc(...  \n",
              "348      Cc1c2cc(c(cc2oc(=O)c1Cc3ccccc3)OC(=O)N(C)C)Cl  \n",
              "80                             CC1(CCC(=O)O)NNC(=S)NN1  \n",
              "255     c1ccc2c(c1)C(=O)[C@@]3([C@@]2(Nc4c(nsn4)N3)O)O  \n",
              "424      C[C@@H](O)CNCc1c(OCC(=O)NC(C)(C)C)ccc2ccccc12  \n",
              "218  c1ccc(cc1)C2=C[C@H](N=N2)[C@H]3Nn4c(nnc4S3)c5c...  \n",
              "313  CC(C)c1ccc(cc1)c2nc(cs2)C(=O)NCc3ccc(s3)S(=O)(...  \n",
              "174  CC[C@@H](C)[C@@H](CO)NC(=O)[C@H](C)NC(=O)[C@@H...  \n",
              "239  N#Cc1c(NC(=O)CCN2CCCC[C@H]2CNC(=O)Nc2ccccc2)sc...  \n",
              "280  C[C@@]1([C@H](O[C@]([C@]([C@@]1(C)O)(C)O)(C)O)...  \n",
              "326              [H]/N=C1\\C(O)=C(O)[C@@H](CO)O[C@H]1OC  \n",
              "454                   Cc1cc(ccc1n2cc(cn2)Br)/C(=N/O)/N  "
            ]
          },
          "execution_count": 35,
          "metadata": {},
          "output_type": "execute_result"
        }
      ],
      "source": [
        "pred_df.sort_values(\"pos\",ascending=False).head(25)"
      ]
    },
    {
      "cell_type": "code",
      "execution_count": 36,
      "metadata": {
        "colab": {
          "base_uri": "https://localhost:8080/",
          "height": 296
        },
        "id": "PKH1XjfD1X3c",
        "outputId": "75705251-d3fd-4aef-a329-c18c04236dc3"
      },
      "outputs": [
        {
          "data": {
            "text/plain": [
              "<AxesSubplot:xlabel='active', ylabel='pos'>"
            ]
          },
          "execution_count": 36,
          "metadata": {},
          "output_type": "execute_result"
        },
        {
          "data": {
            "image/png": "[encoded data removed]",
            "text/plain": [
              "<Figure size 432x288 with 1 Axes>"
            ]
          },
          "metadata": {
            "image/png": {
              "height": 261,
              "width": 385
            },
            "needs_background": "light"
          },
          "output_type": "display_data"
        }
      ],
      "source": [
        "sns.boxplot(x=pred_df.active,y=pred_df.pos)"
      ]
    },
    {
      "cell_type": "markdown",
      "metadata": {
        "id": "-XhDRA1o2q0E"
      },
      "source": [
        "- 위 그래프를 보면 활성 분자와 비활성 분자를 잘 구분하고 있는 것을 알 수 있다\n",
        "- False Negative 샘플 찾기"
      ]
    },
    {
      "cell_type": "code",
      "execution_count": 37,
      "metadata": {
        "id": "ac4wexF92kbu"
      },
      "outputs": [],
      "source": [
        "false_negative_df = pred_df.query(\"active == 1 & pos < 0.5\").copy()"
      ]
    },
    {
      "cell_type": "code",
      "execution_count": 38,
      "metadata": {
        "colab": {
          "base_uri": "https://localhost:8080/",
          "height": 1000
        },
        "id": "CG6W5TXT4Gwq",
        "outputId": "1f1c9211-1310-4e1e-c7c7-7ec09211b1af"
      },
      "outputs": [
        {
          "data": {
            "text/html": [
              "<div>\n",
              "<style scoped>\n",
              "    .dataframe tbody tr th:only-of-type {\n",
              "        vertical-align: middle;\n",
              "    }\n",
              "\n",
              "    .dataframe tbody tr th {\n",
              "        vertical-align: top;\n",
              "    }\n",
              "\n",
              "    .dataframe thead th {\n",
              "        text-align: right;\n",
              "    }\n",
              "</style>\n",
              "<table border=\"1\" class=\"dataframe\">\n",
              "  <thead>\n",
              "    <tr style=\"text-align: right;\">\n",
              "      <th></th>\n",
              "      <th>neg</th>\n",
              "      <th>pos</th>\n",
              "      <th>active</th>\n",
              "      <th>SMILES</th>\n",
              "      <th>Mol</th>\n",
              "    </tr>\n",
              "  </thead>\n",
              "  <tbody>\n",
              "    <tr>\n",
              "      <th>308</th>\n",
              "      <td>0.940234</td>\n",
              "      <td>0.059766</td>\n",
              "      <td>1</td>\n",
              "      <td>Cn1c-2c(c(n1)C(=O)N)CCc3c2nc(nc3)NC4CCN(CC4)C(...</td>\n",
              "      <td style=\"text-align: center;\"><div style=\"width: 200px; height: 200px\" data-content=\"rdkit/molecule\"><img src=\"data:image/png;base64,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\" alt=\"Mol\"/></div></td>\n",
              "    </tr>\n",
              "    <tr>\n",
              "      <th>348</th>\n",
              "      <td>0.980565</td>\n",
              "      <td>0.019435</td>\n",
              "      <td>1</td>\n",
              "      <td>Cc1c2cc(c(cc2oc(=O)c1Cc3ccccc3)OC(=O)N(C)C)Cl</td>\n",
              "      <td style=\"text-align: center;\"><div style=\"width: 200px; height: 200px\" data-content=\"rdkit/molecule\"><img src=\"data:image/png;base64,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\" alt=\"Mol\"/></div></td>\n",
              "    </tr>\n",
              "  </tbody>\n",
              "</table>\n",
              "</div>"
            ],
            "text/plain": [
              "          neg       pos  active  \\\n",
              "308  0.940234  0.059766       1   \n",
              "348  0.980565  0.019435       1   \n",
              "\n",
              "                                                SMILES  \\\n",
              "308  Cn1c-2c(c(n1)C(=O)N)CCc3c2nc(nc3)NC4CCN(CC4)C(...   \n",
              "348      Cc1c2cc(c(cc2oc(=O)c1Cc3ccccc3)OC(=O)N(C)C)Cl   \n",
              "\n",
              "                                               Mol  \n",
              "308  <rdkit.Chem.rdchem.Mol object at 0x150bae3a0>  \n",
              "348  <rdkit.Chem.rdchem.Mol object at 0x150bae0a0>  "
            ]
          },
          "execution_count": 38,
          "metadata": {},
          "output_type": "execute_result"
        }
      ],
      "source": [
        "PandasTools.AddMoleculeColumnToFrame(false_negative_df,\"SMILES\",\"Mol\")\n",
        "false_negative_df"
      ]
    },
    {
      "cell_type": "markdown",
      "metadata": {
        "id": "MoBBTdBA7dfL"
      },
      "source": [
        "- False Positive 샘플 찾기"
      ]
    },
    {
      "cell_type": "code",
      "execution_count": 39,
      "metadata": {
        "colab": {
          "base_uri": "https://localhost:8080/",
          "height": 49
        },
        "id": "hqgI9dbe4N51",
        "outputId": "48279515-0916-4cbd-8484-c9b5270ad8c6"
      },
      "outputs": [
        {
          "data": {
            "text/html": [
              "<div>\n",
              "<style scoped>\n",
              "    .dataframe tbody tr th:only-of-type {\n",
              "        vertical-align: middle;\n",
              "    }\n",
              "\n",
              "    .dataframe tbody tr th {\n",
              "        vertical-align: top;\n",
              "    }\n",
              "\n",
              "    .dataframe thead th {\n",
              "        text-align: right;\n",
              "    }\n",
              "</style>\n",
              "<table border=\"1\" class=\"dataframe\">\n",
              "  <thead>\n",
              "    <tr style=\"text-align: right;\">\n",
              "      <th></th>\n",
              "      <th>neg</th>\n",
              "      <th>pos</th>\n",
              "      <th>active</th>\n",
              "      <th>SMILES</th>\n",
              "      <th>Mol</th>\n",
              "    </tr>\n",
              "  </thead>\n",
              "  <tbody>\n",
              "  </tbody>\n",
              "</table>\n",
              "</div>"
            ],
            "text/plain": [
              "Empty DataFrame\n",
              "Columns: [neg, pos, active, SMILES, Mol]\n",
              "Index: []"
            ]
          },
          "execution_count": 39,
          "metadata": {},
          "output_type": "execute_result"
        }
      ],
      "source": [
        "false_positive_df = pred_df.query(\"active == 0 & pos > 0.5\").copy()\n",
        "PandasTools.AddMoleculeColumnToFrame(false_positive_df,\"SMILES\",\"Mol\")\n",
        "false_positive_df"
      ]
    },
    {
      "cell_type": "markdown",
      "metadata": {
        "id": "A0LlQnRs7yyb"
      },
      "source": [
        "## 모든 데이터로 학습을 시킨다\n",
        "- 모델의 성능을 향상시키기 위해서"
      ]
    },
    {
      "cell_type": "code",
      "execution_count": 40,
      "metadata": {
        "colab": {
          "base_uri": "https://localhost:8080/"
        },
        "id": "HNwLHqXI4Zqc",
        "outputId": "c3644113-7085-49bb-f582-840bd2cf81be"
      },
      "outputs": [
        {
          "data": {
            "text/plain": [
              "0.0006985547641913096"
            ]
          },
          "execution_count": 40,
          "metadata": {},
          "output_type": "execute_result"
        }
      ],
      "source": [
        "model.fit(dataset)"
      ]
    },
    {
      "cell_type": "markdown",
      "metadata": {
        "id": "RyY-78pg9Tki"
      },
      "source": [
        "- 일반적으로는 기존의데이터셋으로 모델을 만들고 새로운 분자의 활성을 예측하게 된다.\n",
        "- 앞에서 ERK2 단백질의 활성을 억제하는 분자를 예측하는 모델을 만들었다. 여기에 새로운 데이터셋을 사용하여 분자의 활성을 예측해보겠다\n",
        " - ZINC 데이터베이스의 일부를 사용하겠다\n",
        " - 생물학적 분석이 어려운 분자들을 제거하기 위해서 ChEMBL 데이터베이스를 사용하겠다\n",
        " - 잠재적인 문제가 있는 분자를 걸러내는 rd_filters.py를 사용하겠다"
      ]
    },
    {
      "cell_type": "markdown",
      "metadata": {
        "id": "1Erm6SkqLhtF"
      },
      "source": [
        "## 실행 방법"
      ]
    },
    {
      "cell_type": "code",
      "execution_count": 42,
      "metadata": {
        "colab": {
          "base_uri": "https://localhost:8080/"
        },
        "id": "-oko11boJcvz",
        "outputId": "498dceb3-4419-4412-cae1-b2c8b63dab63"
      },
      "outputs": [
        {
          "name": "stdout",
          "output_type": "stream",
          "text": [
            "[Errno 2] No such file or directory: '/content'\n",
            "/Users/swham/SynologyDrive/03_Development/ML_stduy_git/14_Drug_MI/hsw0805/python-machine-learning-main\n"
          ]
        }
      ],
      "source": [
        "%cd /content"
      ]
    },
    {
      "cell_type": "code",
      "execution_count": 43,
      "metadata": {
        "colab": {
          "base_uri": "https://localhost:8080/"
        },
        "id": "AmEvCrJ6KyOn",
        "outputId": "005f3b51-5317-4e9a-d05c-4ff3fd43c18c"
      },
      "outputs": [
        {
          "name": "stdout",
          "output_type": "stream",
          "text": [
            "\u001b[33mDEPRECATION: Configuring installation scheme with distutils config files is deprecated and will no longer work in the near future. If you are using a Homebrew or Linuxbrew Python, please see discussion at https://github.com/Homebrew/homebrew-core/issues/76621\u001b[0m\u001b[33m\n",
            "\u001b[0mCollecting git+https://github.com/PatWalters/rd_filters.git\n",
            "  Cloning https://github.com/PatWalters/rd_filters.git to /private/var/folders/jm/d49g6yn91g54d2blmffb2zc80000gn/T/pip-req-build-lpikvjck\n",
            "  Running command git clone --filter=blob:none --quiet https://github.com/PatWalters/rd_filters.git /private/var/folders/jm/d49g6yn91g54d2blmffb2zc80000gn/T/pip-req-build-lpikvjck\n",
            "  Resolved https://github.com/PatWalters/rd_filters.git to commit 5f70235b387baa39669f25d95079e5dfec49a47c\n",
            "  Preparing metadata (setup.py) ... \u001b[?25ldone\n",
            "\u001b[?25hRequirement already satisfied: pandas in /usr/local/lib/python3.9/site-packages (from rd-filters==0.1) (1.3.2)\n",
            "Collecting docopt\n",
            "  Downloading docopt-0.6.2.tar.gz (25 kB)\n",
            "  Preparing metadata (setup.py) ... \u001b[?25ldone\n",
            "\u001b[?25hRequirement already satisfied: numpy>=1.17.3 in /usr/local/lib/python3.9/site-packages (from pandas->rd-filters==0.1) (1.22.4)\n",
            "Requirement already satisfied: python-dateutil>=2.7.3 in /usr/local/lib/python3.9/site-packages (from pandas->rd-filters==0.1) (2.8.2)\n",
            "Requirement already satisfied: pytz>=2017.3 in /usr/local/lib/python3.9/site-packages (from pandas->rd-filters==0.1) (2021.1)\n",
            "Requirement already satisfied: six>=1.5 in /usr/local/lib/python3.9/site-packages (from python-dateutil>=2.7.3->pandas->rd-filters==0.1) (1.15.0)\n",
            "Building wheels for collected packages: rd-filters, docopt\n",
            "  Building wheel for rd-filters (setup.py) ... \u001b[?25ldone\n",
            "\u001b[?25h  Created wheel for rd-filters: filename=rd_filters-0.1-py3-none-any.whl size=33802 sha256=4cb7dc5f75c7ebb1cb01beac1e7bc7b2e944979ce49b2dcd9a107ebf6f8b60b4\n",
            "  Stored in directory: /private/var/folders/jm/d49g6yn91g54d2blmffb2zc80000gn/T/pip-ephem-wheel-cache-53ex1g4z/wheels/7b/d5/50/d98a28dc8c5583b24644029a9ec00ecf707dc4a137be6de9eb\n",
            "  Building wheel for docopt (setup.py) ... \u001b[?25ldone\n",
            "\u001b[?25h  Created wheel for docopt: filename=docopt-0.6.2-py2.py3-none-any.whl size=13724 sha256=d9aca20ef02e225720963aa328e33ad0bb6277a5781e1aa77b79c9851dc62b90\n",
            "  Stored in directory: /Users/swham/Library/Caches/pip/wheels/70/4a/46/1309fc853b8d395e60bafaf1b6df7845bdd82c95fd59dd8d2b\n",
            "Successfully built rd-filters docopt\n",
            "Installing collected packages: docopt, rd-filters\n",
            "\u001b[33m  DEPRECATION: Configuring installation scheme with distutils config files is deprecated and will no longer work in the near future. If you are using a Homebrew or Linuxbrew Python, please see discussion at https://github.com/Homebrew/homebrew-core/issues/76621\u001b[0m\u001b[33m\n",
            "\u001b[0m\u001b[33m  DEPRECATION: Configuring installation scheme with distutils config files is deprecated and will no longer work in the near future. If you are using a Homebrew or Linuxbrew Python, please see discussion at https://github.com/Homebrew/homebrew-core/issues/76621\u001b[0m\u001b[33m\n",
            "\u001b[0m\u001b[33mDEPRECATION: Configuring installation scheme with distutils config files is deprecated and will no longer work in the near future. If you are using a Homebrew or Linuxbrew Python, please see discussion at https://github.com/Homebrew/homebrew-core/issues/76621\u001b[0m\u001b[33m\n",
            "\u001b[0mSuccessfully installed docopt-0.6.2 rd-filters-0.1\n",
            "\n",
            "\u001b[1m[\u001b[0m\u001b[34;49mnotice\u001b[0m\u001b[1;39;49m]\u001b[0m\u001b[39;49m A new release of pip available: \u001b[0m\u001b[31;49m22.2.2\u001b[0m\u001b[39;49m -> \u001b[0m\u001b[32;49m22.3.1\u001b[0m\n",
            "\u001b[1m[\u001b[0m\u001b[34;49mnotice\u001b[0m\u001b[1;39;49m]\u001b[0m\u001b[39;49m To update, run: \u001b[0m\u001b[32;49mpython3.9 -m pip install --upgrade pip\u001b[0m\n"
          ]
        }
      ],
      "source": [
        "!pip install git+https://github.com/PatWalters/rd_filters.git\n"
      ]
    },
    {
      "cell_type": "code",
      "execution_count": 44,
      "metadata": {
        "colab": {
          "base_uri": "https://localhost:8080/"
        },
        "id": "dmDMMg-QLMnq",
        "outputId": "1149663c-dc33-41a4-89aa-7d46e16e5250"
      },
      "outputs": [
        {
          "name": "stdout",
          "output_type": "stream",
          "text": [
            "Usage:\n",
            "rd_filters filter --in INPUT_FILE --prefix PREFIX [--rules RULES_FILE_NAME] [--alerts ALERT_FILE_NAME][--np NUM_CORES]\n",
            "rd_filters template --out TEMPLATE_FILE [--rules RULES_FILE_NAME]\n",
            "\n",
            "Options:\n",
            "--in INPUT_FILE input file name\n",
            "--prefix PREFIX prefix for output file names\n",
            "--rules RULES_FILE_NAME name of the rules JSON file\n",
            "--alerts ALERTS_FILE_NAME name of the structural alerts file\n",
            "--np NUM_CORES the number of cpu cores to use (default is all)\n",
            "--out TEMPLATE_FILE parameter template file name\n"
          ]
        }
      ],
      "source": [
        "# 사용법 안내\n",
        "!rd_filters -h\n"
      ]
    },
    {
      "cell_type": "code",
      "execution_count": 45,
      "metadata": {
        "colab": {
          "base_uri": "https://localhost:8080/"
        },
        "id": "5tyWlKSfLq3T",
        "outputId": "14588739-15b7-459c-f4fa-d928dc8dbfc4"
      },
      "outputs": [
        {
          "name": "stdout",
          "output_type": "stream",
          "text": [
            "  % Total    % Received % Xferd  Average Speed   Time    Time     Time  Current\n",
            "                                 Dload  Upload   Total   Spent    Left  Speed\n",
            "100 6159k  100 6159k    0     0  2839k      0  0:00:02  0:00:02 --:--:-- 2850k\n"
          ]
        }
      ],
      "source": [
        "!curl -o zinc_100k.smi https://raw.githubusercontent.com/deepchem/DeepLearningLifeSciences/master/Chapter11/zinc_100k.smi"
      ]
    },
    {
      "cell_type": "markdown",
      "metadata": {
        "id": "BxFDHLnp2XVe"
      },
      "source": [
        "- 아래는 필터 모드로 작동하며 68.4%가 통과하였다\n",
        "- Inpharmatica 규칙을 사용했으며 이는 생물학적 분석이 어려운 화합물을 제거하기 위해 사용한다\n",
        "- SMILE 문자열 필터를 통과한 데이터는 zinc.smi 파일에 저장되며, 특정 구조를 형성한 화합물에 대한 정보는 zinc.csv에 저장된다"
      ]
    },
    {
      "cell_type": "code",
      "execution_count": 46,
      "metadata": {
        "colab": {
          "base_uri": "https://localhost:8080/"
        },
        "id": "uLWjkw-SLRRe",
        "outputId": "3a59e634-683b-441c-eccb-0f375ae4f82e"
      },
      "outputs": [
        {
          "name": "stdout",
          "output_type": "stream",
          "text": [
            "using 12 cores\n",
            "Using alerts from Inpharmatica\n",
            "Wrote SMILES for molecules passing filters to zinc.smi\n",
            "Wrote detailed data to zinc.csv\n",
            "68410 of 100000 passed filters 68.4%\n",
            "Elapsed time 28.44 seconds\n"
          ]
        }
      ],
      "source": [
        "!rd_filters filter --in zinc_100k.smi --prefix zinc"
      ]
    },
    {
      "cell_type": "markdown",
      "metadata": {
        "id": "9vXJTqI11XR7"
      },
      "source": [
        "## zinc.csv의 내용\n",
        "- SMILES 문자역, \n",
        "- 분자의 이름(NAME), \n",
        "- 필터를 통과하지 못한 이유(FILTER), \n",
        "- 분자량(MW, 500보다 크면 통과하지 못한다), \n",
        "- 옥탄올/물 분배계수(LogP, 5보다 크면 통과하지 못한다)\n",
        "- 수소결합의 공여체수 (HBD)"
      ]
    },
    {
      "cell_type": "code",
      "execution_count": 47,
      "metadata": {
        "colab": {
          "base_uri": "https://localhost:8080/",
          "height": 206
        },
        "id": "5rXNaXVzLoet",
        "outputId": "ac934451-931f-47bd-b596-d02051d0b7a2"
      },
      "outputs": [
        {
          "data": {
            "text/html": [
              "<div>\n",
              "<style scoped>\n",
              "    .dataframe tbody tr th:only-of-type {\n",
              "        vertical-align: middle;\n",
              "    }\n",
              "\n",
              "    .dataframe tbody tr th {\n",
              "        vertical-align: top;\n",
              "    }\n",
              "\n",
              "    .dataframe thead th {\n",
              "        text-align: right;\n",
              "    }\n",
              "</style>\n",
              "<table border=\"1\" class=\"dataframe\">\n",
              "  <thead>\n",
              "    <tr style=\"text-align: right;\">\n",
              "      <th></th>\n",
              "      <th>SMILES</th>\n",
              "      <th>NAME</th>\n",
              "      <th>FILTER</th>\n",
              "      <th>MW</th>\n",
              "      <th>LogP</th>\n",
              "      <th>HBD</th>\n",
              "      <th>HBA</th>\n",
              "      <th>TPSA</th>\n",
              "      <th>Rot</th>\n",
              "    </tr>\n",
              "  </thead>\n",
              "  <tbody>\n",
              "    <tr>\n",
              "      <th>0</th>\n",
              "      <td>CN(CCO)C[C@@H](O)Cn1cnc2c1c(=O)n(C)c(=O)n2C</td>\n",
              "      <td>ZINC000000000843</td>\n",
              "      <td>Filter82_pyridinium &gt; 0</td>\n",
              "      <td>311.342</td>\n",
              "      <td>-2.2813</td>\n",
              "      <td>2</td>\n",
              "      <td>9</td>\n",
              "      <td>105.52</td>\n",
              "      <td>6</td>\n",
              "    </tr>\n",
              "    <tr>\n",
              "      <th>1</th>\n",
              "      <td>O=c1[nH]c(=O)n([C@@H]2C[C@@H](O)[C@H](CO)O2)cc1Br</td>\n",
              "      <td>ZINC000000001063</td>\n",
              "      <td>Filter9_metal &gt; 0</td>\n",
              "      <td>307.100</td>\n",
              "      <td>-1.0602</td>\n",
              "      <td>3</td>\n",
              "      <td>6</td>\n",
              "      <td>104.55</td>\n",
              "      <td>2</td>\n",
              "    </tr>\n",
              "    <tr>\n",
              "      <th>2</th>\n",
              "      <td>Cn1c2ncn(CC(=O)N3CCOCC3)c2c(=O)n(C)c1=O</td>\n",
              "      <td>ZINC000000003942</td>\n",
              "      <td>Filter82_pyridinium &gt; 0</td>\n",
              "      <td>307.310</td>\n",
              "      <td>-1.7075</td>\n",
              "      <td>0</td>\n",
              "      <td>8</td>\n",
              "      <td>91.36</td>\n",
              "      <td>2</td>\n",
              "    </tr>\n",
              "    <tr>\n",
              "      <th>3</th>\n",
              "      <td>CN1C(=O)C[C@H](N2CCN(C(=O)CN3CCCC3)CC2)C1=O</td>\n",
              "      <td>ZINC000000036436</td>\n",
              "      <td>OK</td>\n",
              "      <td>308.382</td>\n",
              "      <td>-1.0163</td>\n",
              "      <td>0</td>\n",
              "      <td>5</td>\n",
              "      <td>64.17</td>\n",
              "      <td>3</td>\n",
              "    </tr>\n",
              "    <tr>\n",
              "      <th>4</th>\n",
              "      <td>CC(=O)NC[C@H](O)[C@H]1O[C@H]2OC(C)(C)O[C@H]2[C...</td>\n",
              "      <td>ZINC000000041101</td>\n",
              "      <td>OK</td>\n",
              "      <td>302.327</td>\n",
              "      <td>-1.1355</td>\n",
              "      <td>3</td>\n",
              "      <td>6</td>\n",
              "      <td>106.12</td>\n",
              "      <td>4</td>\n",
              "    </tr>\n",
              "  </tbody>\n",
              "</table>\n",
              "</div>"
            ],
            "text/plain": [
              "                                              SMILES              NAME  \\\n",
              "0        CN(CCO)C[C@@H](O)Cn1cnc2c1c(=O)n(C)c(=O)n2C  ZINC000000000843   \n",
              "1  O=c1[nH]c(=O)n([C@@H]2C[C@@H](O)[C@H](CO)O2)cc1Br  ZINC000000001063   \n",
              "2            Cn1c2ncn(CC(=O)N3CCOCC3)c2c(=O)n(C)c1=O  ZINC000000003942   \n",
              "3        CN1C(=O)C[C@H](N2CCN(C(=O)CN3CCCC3)CC2)C1=O  ZINC000000036436   \n",
              "4  CC(=O)NC[C@H](O)[C@H]1O[C@H]2OC(C)(C)O[C@H]2[C...  ZINC000000041101   \n",
              "\n",
              "                    FILTER       MW    LogP  HBD  HBA    TPSA  Rot  \n",
              "0  Filter82_pyridinium > 0  311.342 -2.2813    2    9  105.52    6  \n",
              "1        Filter9_metal > 0  307.100 -1.0602    3    6  104.55    2  \n",
              "2  Filter82_pyridinium > 0  307.310 -1.7075    0    8   91.36    2  \n",
              "3                       OK  308.382 -1.0163    0    5   64.17    3  \n",
              "4                       OK  302.327 -1.1355    3    6  106.12    4  "
            ]
          },
          "execution_count": 47,
          "metadata": {},
          "output_type": "execute_result"
        }
      ],
      "source": [
        "df = pd.read_csv(\"zinc.csv\")\n",
        "df.head()"
      ]
    },
    {
      "cell_type": "markdown",
      "metadata": {
        "id": "qQEK-Wo22kv7"
      },
      "source": [
        "- 어떤 필터에 의해서 가장 많이 걸러졌는지를 파악하기 위해서 collection의 Counter를 사용한다\n",
        " - 통과한 수(OK)는 69148이다\n",
        " - 1,2 디카르보닐 구조를 포하여 통과하지 못한 경우는 19330이다 (이는 아미노산 셀린 또는 시스테인과 공유결합을 형성하는 것으로 알려져 있다)\n",
        " - filter_collection.CSV 파일을 보면 1,2디카르보닐 구조를 의미하는 SMARTS 문자열'*C(=O)C(=O)*'를 확인할 수 있다."
      ]
    },
    {
      "cell_type": "code",
      "execution_count": 48,
      "metadata": {
        "colab": {
          "base_uri": "https://localhost:8080/",
          "height": 206
        },
        "id": "uw1dquNdMBTB",
        "outputId": "e4e44d33-b17c-4748-8926-0d0cd458049f"
      },
      "outputs": [
        {
          "data": {
            "text/html": [
              "<div>\n",
              "<style scoped>\n",
              "    .dataframe tbody tr th:only-of-type {\n",
              "        vertical-align: middle;\n",
              "    }\n",
              "\n",
              "    .dataframe tbody tr th {\n",
              "        vertical-align: top;\n",
              "    }\n",
              "\n",
              "    .dataframe thead th {\n",
              "        text-align: right;\n",
              "    }\n",
              "</style>\n",
              "<table border=\"1\" class=\"dataframe\">\n",
              "  <thead>\n",
              "    <tr style=\"text-align: right;\">\n",
              "      <th></th>\n",
              "      <th>Rule</th>\n",
              "      <th>Count</th>\n",
              "    </tr>\n",
              "  </thead>\n",
              "  <tbody>\n",
              "    <tr>\n",
              "      <th>2</th>\n",
              "      <td>OK</td>\n",
              "      <td>69148</td>\n",
              "    </tr>\n",
              "    <tr>\n",
              "      <th>7</th>\n",
              "      <td>Filter41_12_dicarbonyl &gt; 0</td>\n",
              "      <td>19330</td>\n",
              "    </tr>\n",
              "    <tr>\n",
              "      <th>0</th>\n",
              "      <td>Filter82_pyridinium &gt; 0</td>\n",
              "      <td>7713</td>\n",
              "    </tr>\n",
              "    <tr>\n",
              "      <th>11</th>\n",
              "      <td>Filter93_acetyl_urea &gt; 0</td>\n",
              "      <td>1541</td>\n",
              "    </tr>\n",
              "    <tr>\n",
              "      <th>12</th>\n",
              "      <td>Filter78_bicyclic_Imide &gt; 0</td>\n",
              "      <td>825</td>\n",
              "    </tr>\n",
              "  </tbody>\n",
              "</table>\n",
              "</div>"
            ],
            "text/plain": [
              "                           Rule  Count\n",
              "2                            OK  69148\n",
              "7    Filter41_12_dicarbonyl > 0  19330\n",
              "0       Filter82_pyridinium > 0   7713\n",
              "11     Filter93_acetyl_urea > 0   1541\n",
              "12  Filter78_bicyclic_Imide > 0    825"
            ]
          },
          "execution_count": 48,
          "metadata": {},
          "output_type": "execute_result"
        }
      ],
      "source": [
        "from collections import Counter\n",
        "count_list = list(Counter(df.FILTER).items())\n",
        "count_df = pd.DataFrame(count_list,columns=[\"Rule\",\"Count\"])\n",
        "count_df.sort_values(\"Count\",inplace=True,ascending=False)\n",
        "count_df.head()"
      ]
    },
    {
      "cell_type": "code",
      "execution_count": 49,
      "metadata": {
        "id": "q9RZPmtnMFGw"
      },
      "outputs": [],
      "source": [
        "smiles_list = df[df.FILTER == \"Filter41_12_dicarbonyl > 0\"].SMILES[:10]"
      ]
    },
    {
      "cell_type": "code",
      "execution_count": 64,
      "metadata": {},
      "outputs": [
        {
          "data": {
            "text/plain": [
              "82              COCCCNC(=O)[C@@H]1C(=O)C(=O)N(CCCOC)C1=O\n",
              "98              NS(=O)(=O)c1ccc(NC(=O)C(=O)NCCC(=O)O)cc1\n",
              "109    O=C(N[C@@H]1CCS(=O)(=O)C1)C(=O)N[C@@H]1CCS(=O)...\n",
              "142                   O=C(NCCN1CCOC1=O)C(=O)NCCN1CCOC1=O\n",
              "194    O=C(N[C@H]1CCS(=O)(=O)C1)C(=O)N[C@H]1CCS(=O)(=...\n",
              "202    CC(=O)N[C@@H]([C@@H](O)[C@H](O)[C@H](O)CO)[C@@...\n",
              "239    CC(=O)N[C@H]([C@H](O)CC(=O)C(=O)O)[C@H](O)[C@H...\n",
              "253                     O=C1NCCOCCNC(=O)C(=O)NCCOCCNC1=O\n",
              "254              COCCCNC(=O)[C@H]1C(=O)C(=O)N(CCCOC)C1=O\n",
              "301    O=C1N[C@@H]2[C@@H](NC1=O)[C@@H](OCc1ccccc1)O[C...\n",
              "Name: SMILES, dtype: object"
            ]
          },
          "execution_count": 64,
          "metadata": {},
          "output_type": "execute_result"
        }
      ],
      "source": [
        "smiles_list"
      ]
    },
    {
      "cell_type": "code",
      "execution_count": 50,
      "metadata": {
        "colab": {
          "base_uri": "https://localhost:8080/",
          "height": 417
        },
        "id": "HLqVhkPIMIs_",
        "outputId": "f4432b88-f38a-491e-9d6a-98e649a50e30"
      },
      "outputs": [
        {
          "data": {
            "image/png": "[encoded data removed]",
            "text/plain": [
              "<IPython.core.display.Image object>"
            ]
          },
          "execution_count": 50,
          "metadata": {},
          "output_type": "execute_result"
        }
      ],
      "source": [
        "mol_list = [Chem.MolFromSmiles(x) for x in smiles_list]\n",
        "dicarbonyl = Chem.MolFromSmarts('*C(=O)C(=O)*')\n",
        "match_list = [mol.GetSubstructMatch(dicarbonyl) for mol in mol_list]\n",
        "Draw.MolsToGridImage(mol_list,highlightAtomLists=match_list,molsPerRow=5)"
      ]
    },
    {
      "cell_type": "markdown",
      "metadata": {
        "id": "AIp-NTayFEqJ"
      },
      "source": [
        "# 모델 사용하기\n",
        "- GCN 모델을 불러오고, 피처화기를 만든후, 분자 데이터를 피처화 한다\n",
        "- 예측값을 확인하고 가장 높은 점수를 얻은 화학구조를 확인한다\n",
        "- 분자 데이터를 CSV로 저장한다"
      ]
    },
    {
      "cell_type": "code",
      "execution_count": 51,
      "metadata": {
        "id": "JaVT22MaFhTM"
      },
      "outputs": [],
      "source": [
        "model = dc.models.GraphConvModel(1, batch_size=128, \n",
        "          mode='classification',model_dir=\"model_dir\")\n",
        "model.restore()"
      ]
    },
    {
      "cell_type": "code",
      "execution_count": 52,
      "metadata": {
        "colab": {
          "base_uri": "https://localhost:8080/",
          "height": 206
        },
        "id": "iSsUjS2_Ft45",
        "outputId": "ae9b681e-18dc-42d7-b7fa-83fefb299e57"
      },
      "outputs": [
        {
          "data": {
            "text/html": [
              "<div>\n",
              "<style scoped>\n",
              "    .dataframe tbody tr th:only-of-type {\n",
              "        vertical-align: middle;\n",
              "    }\n",
              "\n",
              "    .dataframe tbody tr th {\n",
              "        vertical-align: top;\n",
              "    }\n",
              "\n",
              "    .dataframe thead th {\n",
              "        text-align: right;\n",
              "    }\n",
              "</style>\n",
              "<table border=\"1\" class=\"dataframe\">\n",
              "  <thead>\n",
              "    <tr style=\"text-align: right;\">\n",
              "      <th></th>\n",
              "      <th>SMILES</th>\n",
              "      <th>Name</th>\n",
              "      <th>Val</th>\n",
              "    </tr>\n",
              "  </thead>\n",
              "  <tbody>\n",
              "    <tr>\n",
              "      <th>0</th>\n",
              "      <td>CN(CCO)C[C@@H](O)Cn1cnc2c1c(=O)n(C)c(=O)n2C</td>\n",
              "      <td>ZINC000000000843</td>\n",
              "      <td>0</td>\n",
              "    </tr>\n",
              "    <tr>\n",
              "      <th>1</th>\n",
              "      <td>O=c1[nH]c(=O)n([C@@H]2C[C@@H](O)[C@H](CO)O2)cc1Br</td>\n",
              "      <td>ZINC000000001063</td>\n",
              "      <td>0</td>\n",
              "    </tr>\n",
              "    <tr>\n",
              "      <th>2</th>\n",
              "      <td>Cn1c2ncn(CC(=O)N3CCOCC3)c2c(=O)n(C)c1=O</td>\n",
              "      <td>ZINC000000003942</td>\n",
              "      <td>0</td>\n",
              "    </tr>\n",
              "    <tr>\n",
              "      <th>3</th>\n",
              "      <td>CN1C(=O)C[C@H](N2CCN(C(=O)CN3CCCC3)CC2)C1=O</td>\n",
              "      <td>ZINC000000036436</td>\n",
              "      <td>0</td>\n",
              "    </tr>\n",
              "    <tr>\n",
              "      <th>4</th>\n",
              "      <td>CC(=O)NC[C@H](O)[C@H]1O[C@H]2OC(C)(C)O[C@H]2[C...</td>\n",
              "      <td>ZINC000000041101</td>\n",
              "      <td>0</td>\n",
              "    </tr>\n",
              "  </tbody>\n",
              "</table>\n",
              "</div>"
            ],
            "text/plain": [
              "                                              SMILES              Name  Val\n",
              "0        CN(CCO)C[C@@H](O)Cn1cnc2c1c(=O)n(C)c(=O)n2C  ZINC000000000843    0\n",
              "1  O=c1[nH]c(=O)n([C@@H]2C[C@@H](O)[C@H](CO)O2)cc1Br  ZINC000000001063    0\n",
              "2            Cn1c2ncn(CC(=O)N3CCOCC3)c2c(=O)n(C)c1=O  ZINC000000003942    0\n",
              "3        CN1C(=O)C[C@H](N2CCN(C(=O)CN3CCCC3)CC2)C1=O  ZINC000000036436    0\n",
              "4  CC(=O)NC[C@H](O)[C@H]1O[C@H]2OC(C)(C)O[C@H]2[C...  ZINC000000041101    0"
            ]
          },
          "execution_count": 52,
          "metadata": {},
          "output_type": "execute_result"
        }
      ],
      "source": [
        "df = pd.read_csv(\"zinc_100k.smi\",sep=\" \",header=None)\n",
        "df.columns=[\"SMILES\",\"Name\"]\n",
        "rows,cols = df.shape\n",
        "df[\"Val\"] = [0] * rows # 피처화를 위한 빈 자리\n",
        "df.head()"
      ]
    },
    {
      "cell_type": "code",
      "execution_count": 53,
      "metadata": {
        "id": "J_VKtsqoF3ax"
      },
      "outputs": [],
      "source": [
        "infile_name = \"zinc_filtered.csv\"\n",
        "df.to_csv(infile_name,index=False)"
      ]
    },
    {
      "cell_type": "markdown",
      "metadata": {
        "id": "oDXtw2sBHohF"
      },
      "source": [
        "- CSV 파일을 읽어온다\n",
        "- 모델을 사용하기 위해서 피처화된 데이터를 사용한다"
      ]
    },
    {
      "cell_type": "code",
      "execution_count": 54,
      "metadata": {
        "id": "i32zwV_DF9Sy"
      },
      "outputs": [],
      "source": [
        "loader = dc.data.CSVLoader(tasks=['Val'], feature_field=\"SMILES\", featurizer=featurizer)\n",
        "dataset = loader.create_dataset(infile_name, shard_size=8192)\n",
        "pred = model.predict(dataset)"
      ]
    },
    {
      "cell_type": "markdown",
      "metadata": {
        "id": "HGGxDSX6H6J9"
      },
      "source": [
        "- 활성화와 비활성화를 구분하기 위해서 점수를 시각화 한다\n",
        "- SMILES와 예측값이 있는 데이터프레임을 합친다\n",
        "- 예측값이 높은 분자를 살펴본다\n",
        " - 아래 그림에서 0.3 이상을 선택하겠다"
      ]
    },
    {
      "cell_type": "code",
      "execution_count": 55,
      "metadata": {
        "colab": {
          "base_uri": "https://localhost:8080/",
          "height": 386
        },
        "id": "lMnBaFNPGEFH",
        "outputId": "ad633c2f-3f70-469a-8c5a-0d33488ba99c"
      },
      "outputs": [
        {
          "data": {
            "text/plain": [
              "<seaborn.axisgrid.FacetGrid at 0x14c562850>"
            ]
          },
          "execution_count": 55,
          "metadata": {},
          "output_type": "execute_result"
        },
        {
          "data": {
            "image/png": "[encoded data removed]",
            "text/plain": [
              "<Figure size 360x360 with 1 Axes>"
            ]
          },
          "metadata": {
            "image/png": {
              "height": 351,
              "width": 352
            },
            "needs_background": "light"
          },
          "output_type": "display_data"
        }
      ],
      "source": [
        "pred_df = pd.DataFrame([x.flatten() for x in pred],columns=[\"Neg\",\"Pos\"])\n",
        "sns.displot(x=pred_df.Pos,kind=\"kde\",rug=True)\n"
      ]
    },
    {
      "cell_type": "code",
      "execution_count": 56,
      "metadata": {
        "id": "aRE_GxpTGJxf"
      },
      "outputs": [],
      "source": [
        "combo_df = df.join(pred_df,how=\"outer\")\n",
        "combo_df.sort_values(\"Pos\",inplace=True,ascending=False)\n"
      ]
    },
    {
      "cell_type": "code",
      "execution_count": 57,
      "metadata": {
        "collapsed": true,
        "id": "33dg10-TGO_l"
      },
      "outputs": [],
      "source": [
        "PandasTools.AddMoleculeColumnToFrame(combo_df,\"SMILES\",\"Mol\")\n",
        "# combo_df.head()\n"
      ]
    },
    {
      "cell_type": "code",
      "execution_count": 58,
      "metadata": {
        "colab": {
          "base_uri": "https://localhost:8080/",
          "height": 293
        },
        "id": "Y9ebJS80Kz_1",
        "outputId": "abef807e-1e17-453a-c9d5-080c8624ea9a"
      },
      "outputs": [
        {
          "data": {
            "text/html": [
              "<table border=\"1\" class=\"dataframe\">\n",
              "  <thead>\n",
              "    <tr style=\"text-align: right;\">\n",
              "      <th></th>\n",
              "      <th>SMILES</th>\n",
              "      <th>Name</th>\n",
              "      <th>Val</th>\n",
              "      <th>Neg</th>\n",
              "      <th>Pos</th>\n",
              "      <th>Mol</th>\n",
              "    </tr>\n",
              "  </thead>\n",
              "  <tbody>\n",
              "    <tr>\n",
              "      <th>80514</th>\n",
              "      <td>Cn1cncc1C(=O)NC[C@@H](CO)NC(=O)c1cncn1C</td>\n",
              "      <td>ZINC000644062250</td>\n",
              "      <td>0</td>\n",
              "      <td>0.276878</td>\n",
              "      <td>0.723122</td>\n",
              "      <td>&lt;rdkit.Chem.rdchem.Mol object at 0x195299100&gt;</td>\n",
              "    </tr>\n",
              "    <tr>\n",
              "      <th>2282</th>\n",
              "      <td>N=C(S)c1ncnc2c1ncn2[C@@H]1O[C@@H](CO)[C@@H](O)[C@H]1O</td>\n",
              "      <td>ZINC000006599502</td>\n",
              "      <td>0</td>\n",
              "      <td>0.283229</td>\n",
              "      <td>0.716771</td>\n",
              "      <td>&lt;rdkit.Chem.rdchem.Mol object at 0x152745be0&gt;</td>\n",
              "    </tr>\n",
              "    <tr>\n",
              "      <th>2281</th>\n",
              "      <td>N=C(S)c1ncnc2c1ncn2[C@H]1O[C@@H](CO)[C@@H](O)[C@H]1O</td>\n",
              "      <td>ZINC000006599481</td>\n",
              "      <td>0</td>\n",
              "      <td>0.283229</td>\n",
              "      <td>0.716771</td>\n",
              "      <td>&lt;rdkit.Chem.rdchem.Mol object at 0x152745760&gt;</td>\n",
              "    </tr>\n",
              "    <tr>\n",
              "      <th>2038</th>\n",
              "      <td>CNC(=O)c1cn([C@H]2O[C@@H](CO)[C@@H](O)[C@@H]2O)c2ncnc(N)c12</td>\n",
              "      <td>ZINC000004824757</td>\n",
              "      <td>0</td>\n",
              "      <td>0.316281</td>\n",
              "      <td>0.683719</td>\n",
              "      <td>&lt;rdkit.Chem.rdchem.Mol object at 0x152745dc0&gt;</td>\n",
              "    </tr>\n",
              "    <tr>\n",
              "      <th>2036</th>\n",
              "      <td>CNC(=O)c1cn([C@H]2O[C@@H](CO)[C@@H](O)[C@H]2O)c2ncnc(N)c12</td>\n",
              "      <td>ZINC000004824755</td>\n",
              "      <td>0</td>\n",
              "      <td>0.316281</td>\n",
              "      <td>0.683719</td>\n",
              "      <td>&lt;rdkit.Chem.rdchem.Mol object at 0x1527459a0&gt;</td>\n",
              "    </tr>\n",
              "  </tbody>\n",
              "</table>"
            ],
            "text/plain": [
              "<IPython.core.display.HTML object>"
            ]
          },
          "execution_count": 58,
          "metadata": {},
          "output_type": "execute_result"
        }
      ],
      "source": [
        "from IPython.display import HTML\n",
        "HTML(combo_df.head().to_html())"
      ]
    },
    {
      "cell_type": "code",
      "execution_count": 59,
      "metadata": {
        "colab": {
          "base_uri": "https://localhost:8080/",
          "height": 417
        },
        "id": "KdPlhNsjGS16",
        "outputId": "4960d9b9-b3ec-4c15-f5af-85de6fc18944"
      },
      "outputs": [
        {
          "data": {
            "image/png": "[encoded data removed]",
            "text/plain": [
              "<IPython.core.display.Image object>"
            ]
          },
          "execution_count": 59,
          "metadata": {},
          "output_type": "execute_result"
        }
      ],
      "source": [
        "Draw.MolsToGridImage(combo_df.Mol[:10],molsPerRow=5,legends=[\"%.2f\" % x for x in combo_df.Pos[:10]])\n"
      ]
    },
    {
      "cell_type": "markdown",
      "metadata": {
        "id": "yAZVrUJGITTy"
      },
      "source": [
        "- 예측값이 높는 분자들의 모양이 비슷한 것을 알 수 있다\n",
        "- 중복되는 것을 피하기 위해서 군집화를 수행한다\n",
        " - 화학적 유사성을 사용하는 Butina 군집화를 사용하겠다\n",
        " - 군집화를 하려면 기준값을 주어야 한다 (아래에서 Tanimoto 유사도 > 0.35)"
      ]
    },
    {
      "cell_type": "code",
      "execution_count": 60,
      "metadata": {
        "id": "ORtV-sBeGZ6A"
      },
      "outputs": [],
      "source": [
        "def butina_cluster(mol_list,cutoff=0.35):\n",
        "    fp_list = [rdmd.GetMorganFingerprintAsBitVect(m, 3, nBits=2048) for m in mol_list]\n",
        "    dists = []\n",
        "    nfps = len(fp_list)\n",
        "    for i in range(1,nfps):\n",
        "        sims = DataStructs.BulkTanimotoSimilarity(fp_list[i],fp_list[:i])\n",
        "        dists.extend([1-x for x in sims])\n",
        "    mol_clusters = Butina.ClusterData(dists,nfps,cutoff,isDistData=True)\n",
        "    cluster_id_list = [0]*nfps\n",
        "    for idx,cluster in enumerate(mol_clusters,1):\n",
        "        for member in cluster:\n",
        "            cluster_id_list[member] = idx\n",
        "    return cluster_id_list"
      ]
    },
    {
      "cell_type": "code",
      "execution_count": 61,
      "metadata": {
        "colab": {
          "base_uri": "https://localhost:8080/",
          "height": 293
        },
        "id": "fHc2FoN-GchK",
        "outputId": "17314bdf-6e6d-4788-b03e-69e7184136ef"
      },
      "outputs": [
        {
          "data": {
            "text/html": [
              "<table border=\"1\" class=\"dataframe\">\n",
              "  <thead>\n",
              "    <tr style=\"text-align: right;\">\n",
              "      <th></th>\n",
              "      <th>SMILES</th>\n",
              "      <th>Name</th>\n",
              "      <th>Val</th>\n",
              "      <th>Neg</th>\n",
              "      <th>Pos</th>\n",
              "      <th>Mol</th>\n",
              "      <th>Cluster</th>\n",
              "    </tr>\n",
              "  </thead>\n",
              "  <tbody>\n",
              "    <tr>\n",
              "      <th>80514</th>\n",
              "      <td>Cn1cncc1C(=O)NC[C@@H](CO)NC(=O)c1cncn1C</td>\n",
              "      <td>ZINC000644062250</td>\n",
              "      <td>0</td>\n",
              "      <td>0.276878</td>\n",
              "      <td>0.723122</td>\n",
              "      <td>&lt;rdkit.Chem.rdchem.Mol object at 0x195299100&gt;</td>\n",
              "      <td>48</td>\n",
              "    </tr>\n",
              "    <tr>\n",
              "      <th>2282</th>\n",
              "      <td>N=C(S)c1ncnc2c1ncn2[C@@H]1O[C@@H](CO)[C@@H](O)[C@H]1O</td>\n",
              "      <td>ZINC000006599502</td>\n",
              "      <td>0</td>\n",
              "      <td>0.283229</td>\n",
              "      <td>0.716771</td>\n",
              "      <td>&lt;rdkit.Chem.rdchem.Mol object at 0x152745be0&gt;</td>\n",
              "      <td>8</td>\n",
              "    </tr>\n",
              "    <tr>\n",
              "      <th>2281</th>\n",
              "      <td>N=C(S)c1ncnc2c1ncn2[C@H]1O[C@@H](CO)[C@@H](O)[C@H]1O</td>\n",
              "      <td>ZINC000006599481</td>\n",
              "      <td>0</td>\n",
              "      <td>0.283229</td>\n",
              "      <td>0.716771</td>\n",
              "      <td>&lt;rdkit.Chem.rdchem.Mol object at 0x152745760&gt;</td>\n",
              "      <td>8</td>\n",
              "    </tr>\n",
              "    <tr>\n",
              "      <th>2038</th>\n",
              "      <td>CNC(=O)c1cn([C@H]2O[C@@H](CO)[C@@H](O)[C@@H]2O)c2ncnc(N)c12</td>\n",
              "      <td>ZINC000004824757</td>\n",
              "      <td>0</td>\n",
              "      <td>0.316281</td>\n",
              "      <td>0.683719</td>\n",
              "      <td>&lt;rdkit.Chem.rdchem.Mol object at 0x152745dc0&gt;</td>\n",
              "      <td>1</td>\n",
              "    </tr>\n",
              "    <tr>\n",
              "      <th>2036</th>\n",
              "      <td>CNC(=O)c1cn([C@H]2O[C@@H](CO)[C@@H](O)[C@H]2O)c2ncnc(N)c12</td>\n",
              "      <td>ZINC000004824755</td>\n",
              "      <td>0</td>\n",
              "      <td>0.316281</td>\n",
              "      <td>0.683719</td>\n",
              "      <td>&lt;rdkit.Chem.rdchem.Mol object at 0x1527459a0&gt;</td>\n",
              "      <td>1</td>\n",
              "    </tr>\n",
              "  </tbody>\n",
              "</table>"
            ],
            "text/plain": [
              "<IPython.core.display.HTML object>"
            ]
          },
          "execution_count": 61,
          "metadata": {},
          "output_type": "execute_result"
        }
      ],
      "source": [
        "best_100_df = combo_df.head(100).copy()\n",
        "best_100_df[\"Cluster\"] = butina_cluster(best_100_df.Mol)\n",
        "# best_100_df.head()\n",
        "HTML(best_100_df.head().to_html())\n"
      ]
    },
    {
      "cell_type": "code",
      "execution_count": 62,
      "metadata": {
        "colab": {
          "base_uri": "https://localhost:8080/"
        },
        "id": "M-fIqQtgGh9E",
        "outputId": "3eb7e816-111e-4f20-9109-615ba2666645"
      },
      "outputs": [
        {
          "data": {
            "text/plain": [
              "(48, 7)"
            ]
          },
          "execution_count": 62,
          "metadata": {},
          "output_type": "execute_result"
        }
      ],
      "source": [
        "len(best_100_df.Cluster.unique())\n",
        "best_cluster_rep_df = best_100_df.drop_duplicates(\"Cluster\")\n",
        "best_cluster_rep_df.shape"
      ]
    },
    {
      "cell_type": "code",
      "execution_count": 63,
      "metadata": {
        "id": "EWzpTHO2GnzB"
      },
      "outputs": [],
      "source": [
        "# 파일로 저장하기\n",
        "best_cluster_rep_df.to_csv(\"best_cluster_represenatives.csv\")\n"
      ]
    },
    {
      "cell_type": "code",
      "execution_count": null,
      "metadata": {
        "id": "QrK0r5xzImRm"
      },
      "outputs": [],
      "source": []
    }
  ],
  "metadata": {
    "accelerator": "GPU",
    "colab": {
      "collapsed_sections": [],
      "provenance": []
    },
    "kernelspec": {
      "display_name": "Python 3.9.7 64-bit",
      "language": "python",
      "name": "python3"
    },
    "language_info": {
      "codemirror_mode": {
        "name": "ipython",
        "version": 3
      },
      "file_extension": ".py",
      "mimetype": "text/x-python",
      "name": "python",
      "nbconvert_exporter": "python",
      "pygments_lexer": "ipython3",
      "version": "3.9.7"
    },
    "toc": {
      "base_numbering": 1,
      "nav_menu": {},
      "number_sections": false,
      "sideBar": true,
      "skip_h1_title": false,
      "title_cell": "Table of Contents",
      "title_sidebar": "Contents",
      "toc_cell": false,
      "toc_position": {},
      "toc_section_display": true,
      "toc_window_display": false
    },
    "vscode": {
      "interpreter": {
        "hash": "aee8b7b246df8f9039afb4144a1f6fd8d2ca17a180786b69acc140d282b71a49"
      }
    },
    "widgets": {
      "application/vnd.jupyter.widget-state+json": {
        "041ef203516b433ea861e848de91be08": {
          "model_module": "@jupyter-widgets/controls",
          "model_module_version": "1.5.0",
          "model_name": "HBoxModel",
          "state": {
            "_dom_classes": [],
            "_model_module": "@jupyter-widgets/controls",
            "_model_module_version": "1.5.0",
            "_model_name": "HBoxModel",
            "_view_count": null,
            "_view_module": "@jupyter-widgets/controls",
            "_view_module_version": "1.5.0",
            "_view_name": "HBoxView",
            "box_style": "",
            "children": [
              "IPY_MODEL_811b5643255445b1be199f3c5f9092c8",
              "IPY_MODEL_90f5c5cddad44359a2b7107c7306c805",
              "IPY_MODEL_8bc8d7a5cc8f42d6b06ae2fa8d909fb0"
            ],
            "layout": "IPY_MODEL_cdceea50a10243efa41bcf94dce6cf62"
          }
        },
        "232d6d4c746148268fc97a71ede5a31e": {
          "model_module": "@jupyter-widgets/controls",
          "model_module_version": "1.5.0",
          "model_name": "DescriptionStyleModel",
          "state": {
            "_model_module": "@jupyter-widgets/controls",
            "_model_module_version": "1.5.0",
            "_model_name": "DescriptionStyleModel",
            "_view_count": null,
            "_view_module": "@jupyter-widgets/base",
            "_view_module_version": "1.2.0",
            "_view_name": "StyleView",
            "description_width": ""
          }
        },
        "2827bfc9d66544ffb6e50fcd66cde1a8": {
          "model_module": "@jupyter-widgets/base",
          "model_module_version": "1.2.0",
          "model_name": "LayoutModel",
          "state": {
            "_model_module": "@jupyter-widgets/base",
            "_model_module_version": "1.2.0",
            "_model_name": "LayoutModel",
            "_view_count": null,
            "_view_module": "@jupyter-widgets/base",
            "_view_module_version": "1.2.0",
            "_view_name": "LayoutView",
            "align_content": null,
            "align_items": null,
            "align_self": null,
            "border": null,
            "bottom": null,
            "display": null,
            "flex": null,
            "flex_flow": null,
            "grid_area": null,
            "grid_auto_columns": null,
            "grid_auto_flow": null,
            "grid_auto_rows": null,
            "grid_column": null,
            "grid_gap": null,
            "grid_row": null,
            "grid_template_areas": null,
            "grid_template_columns": null,
            "grid_template_rows": null,
            "height": null,
            "justify_content": null,
            "justify_items": null,
            "left": null,
            "margin": null,
            "max_height": null,
            "max_width": null,
            "min_height": null,
            "min_width": null,
            "object_fit": null,
            "object_position": null,
            "order": null,
            "overflow": null,
            "overflow_x": null,
            "overflow_y": null,
            "padding": null,
            "right": null,
            "top": null,
            "visibility": null,
            "width": null
          }
        },
        "505f01fc7da743609fea71e2f21f7878": {
          "model_module": "@jupyter-widgets/controls",
          "model_module_version": "1.5.0",
          "model_name": "ProgressStyleModel",
          "state": {
            "_model_module": "@jupyter-widgets/controls",
            "_model_module_version": "1.5.0",
            "_model_name": "ProgressStyleModel",
            "_view_count": null,
            "_view_module": "@jupyter-widgets/base",
            "_view_module_version": "1.2.0",
            "_view_name": "StyleView",
            "bar_color": null,
            "description_width": ""
          }
        },
        "811b5643255445b1be199f3c5f9092c8": {
          "model_module": "@jupyter-widgets/controls",
          "model_module_version": "1.5.0",
          "model_name": "HTMLModel",
          "state": {
            "_dom_classes": [],
            "_model_module": "@jupyter-widgets/controls",
            "_model_module_version": "1.5.0",
            "_model_name": "HTMLModel",
            "_view_count": null,
            "_view_module": "@jupyter-widgets/controls",
            "_view_module_version": "1.5.0",
            "_view_name": "HTMLView",
            "description": "",
            "description_tooltip": null,
            "layout": "IPY_MODEL_f184cdf54623473bb44719380f1cba67",
            "placeholder": "​",
            "style": "IPY_MODEL_b8daae9173164eb48cfd059080a01c02",
            "value": "100%"
          }
        },
        "8bc8d7a5cc8f42d6b06ae2fa8d909fb0": {
          "model_module": "@jupyter-widgets/controls",
          "model_module_version": "1.5.0",
          "model_name": "HTMLModel",
          "state": {
            "_dom_classes": [],
            "_model_module": "@jupyter-widgets/controls",
            "_model_module_version": "1.5.0",
            "_model_name": "HTMLModel",
            "_view_count": null,
            "_view_module": "@jupyter-widgets/controls",
            "_view_module_version": "1.5.0",
            "_view_name": "HTMLView",
            "description": "",
            "description_tooltip": null,
            "layout": "IPY_MODEL_f011965d58344b7382dfa0f1f8c6f5cf",
            "placeholder": "​",
            "style": "IPY_MODEL_232d6d4c746148268fc97a71ede5a31e",
            "value": " 5/5 [01:27&lt;00:00, 17.00s/it]"
          }
        },
        "90f5c5cddad44359a2b7107c7306c805": {
          "model_module": "@jupyter-widgets/controls",
          "model_module_version": "1.5.0",
          "model_name": "FloatProgressModel",
          "state": {
            "_dom_classes": [],
            "_model_module": "@jupyter-widgets/controls",
            "_model_module_version": "1.5.0",
            "_model_name": "FloatProgressModel",
            "_view_count": null,
            "_view_module": "@jupyter-widgets/controls",
            "_view_module_version": "1.5.0",
            "_view_name": "ProgressView",
            "bar_style": "success",
            "description": "",
            "description_tooltip": null,
            "layout": "IPY_MODEL_2827bfc9d66544ffb6e50fcd66cde1a8",
            "max": 5,
            "min": 0,
            "orientation": "horizontal",
            "style": "IPY_MODEL_505f01fc7da743609fea71e2f21f7878",
            "value": 5
          }
        },
        "b8daae9173164eb48cfd059080a01c02": {
          "model_module": "@jupyter-widgets/controls",
          "model_module_version": "1.5.0",
          "model_name": "DescriptionStyleModel",
          "state": {
            "_model_module": "@jupyter-widgets/controls",
            "_model_module_version": "1.5.0",
            "_model_name": "DescriptionStyleModel",
            "_view_count": null,
            "_view_module": "@jupyter-widgets/base",
            "_view_module_version": "1.2.0",
            "_view_name": "StyleView",
            "description_width": ""
          }
        },
        "cdceea50a10243efa41bcf94dce6cf62": {
          "model_module": "@jupyter-widgets/base",
          "model_module_version": "1.2.0",
          "model_name": "LayoutModel",
          "state": {
            "_model_module": "@jupyter-widgets/base",
            "_model_module_version": "1.2.0",
            "_model_name": "LayoutModel",
            "_view_count": null,
            "_view_module": "@jupyter-widgets/base",
            "_view_module_version": "1.2.0",
            "_view_name": "LayoutView",
            "align_content": null,
            "align_items": null,
            "align_self": null,
            "border": null,
            "bottom": null,
            "display": null,
            "flex": null,
            "flex_flow": null,
            "grid_area": null,
            "grid_auto_columns": null,
            "grid_auto_flow": null,
            "grid_auto_rows": null,
            "grid_column": null,
            "grid_gap": null,
            "grid_row": null,
            "grid_template_areas": null,
            "grid_template_columns": null,
            "grid_template_rows": null,
            "height": null,
            "justify_content": null,
            "justify_items": null,
            "left": null,
            "margin": null,
            "max_height": null,
            "max_width": null,
            "min_height": null,
            "min_width": null,
            "object_fit": null,
            "object_position": null,
            "order": null,
            "overflow": null,
            "overflow_x": null,
            "overflow_y": null,
            "padding": null,
            "right": null,
            "top": null,
            "visibility": null,
            "width": null
          }
        },
        "f011965d58344b7382dfa0f1f8c6f5cf": {
          "model_module": "@jupyter-widgets/base",
          "model_module_version": "1.2.0",
          "model_name": "LayoutModel",
          "state": {
            "_model_module": "@jupyter-widgets/base",
            "_model_module_version": "1.2.0",
            "_model_name": "LayoutModel",
            "_view_count": null,
            "_view_module": "@jupyter-widgets/base",
            "_view_module_version": "1.2.0",
            "_view_name": "LayoutView",
            "align_content": null,
            "align_items": null,
            "align_self": null,
            "border": null,
            "bottom": null,
            "display": null,
            "flex": null,
            "flex_flow": null,
            "grid_area": null,
            "grid_auto_columns": null,
            "grid_auto_flow": null,
            "grid_auto_rows": null,
            "grid_column": null,
            "grid_gap": null,
            "grid_row": null,
            "grid_template_areas": null,
            "grid_template_columns": null,
            "grid_template_rows": null,
            "height": null,
            "justify_content": null,
            "justify_items": null,
            "left": null,
            "margin": null,
            "max_height": null,
            "max_width": null,
            "min_height": null,
            "min_width": null,
            "object_fit": null,
            "object_position": null,
            "order": null,
            "overflow": null,
            "overflow_x": null,
            "overflow_y": null,
            "padding": null,
            "right": null,
            "top": null,
            "visibility": null,
            "width": null
          }
        },
        "f184cdf54623473bb44719380f1cba67": {
          "model_module": "@jupyter-widgets/base",
          "model_module_version": "1.2.0",
          "model_name": "LayoutModel",
          "state": {
            "_model_module": "@jupyter-widgets/base",
            "_model_module_version": "1.2.0",
            "_model_name": "LayoutModel",
            "_view_count": null,
            "_view_module": "@jupyter-widgets/base",
            "_view_module_version": "1.2.0",
            "_view_name": "LayoutView",
            "align_content": null,
            "align_items": null,
            "align_self": null,
            "border": null,
            "bottom": null,
            "display": null,
            "flex": null,
            "flex_flow": null,
            "grid_area": null,
            "grid_auto_columns": null,
            "grid_auto_flow": null,
            "grid_auto_rows": null,
            "grid_column": null,
            "grid_gap": null,
            "grid_row": null,
            "grid_template_areas": null,
            "grid_template_columns": null,
            "grid_template_rows": null,
            "height": null,
            "justify_content": null,
            "justify_items": null,
            "left": null,
            "margin": null,
            "max_height": null,
            "max_width": null,
            "min_height": null,
            "min_width": null,
            "object_fit": null,
            "object_position": null,
            "order": null,
            "overflow": null,
            "overflow_x": null,
            "overflow_y": null,
            "padding": null,
            "right": null,
            "top": null,
            "visibility": null,
            "width": null
          }
        }
      }
    }
  },
  "nbformat": 4,
  "nbformat_minor": 0
}
