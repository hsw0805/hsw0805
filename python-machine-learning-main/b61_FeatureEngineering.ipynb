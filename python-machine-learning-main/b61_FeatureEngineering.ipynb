{
 "cells": [
  {
   "cell_type": "markdown",
   "metadata": {},
   "source": [
    "# 특성공학\n",
    "\n",
    "- 차원 축소\n",
    "- SelectKBest\n",
    "- PCA\n",
    "- t-SNE"
   ]
  },
  {
   "cell_type": "markdown",
   "metadata": {
    "colab_type": "text",
    "id": "8EfCzUpYuJEB"
   },
   "source": [
    "# 차원축소\n",
    "## 차원 선택(축소) 방법\n",
    "- 1) 사람이 경험으로 선택하는 방법\n",
    "- 2) SelectKBest: 목적 변수와의 상관 관계가 큰 입력 변수 선택\n",
    "- 3) PCA: 입력 변수들 간의 독립적인 성분을 기준으로 차원을 축소\n",
    "\n",
    "## 시각화를 위한 차원 축소\n",
    "- tSNE: 시각화를 위한 2또는 3차원 차원 축소 "
   ]
  },
  {
   "cell_type": "code",
   "execution_count": 1,
   "metadata": {},
   "outputs": [],
   "source": [
    "import pandas as pd\n",
    "import numpy as np\n",
    "from matplotlib import pyplot as plt\n",
    "import matplotlib\n",
    "%config InlineBackend.figure_format=\"retina\"\n",
    "matplotlib.rcParams['figure.figsize'] = (5,5)\n",
    "matplotlib.rcParams.update({'font.size': 13})"
   ]
  },
  {
   "cell_type": "code",
   "execution_count": 2,
   "metadata": {
    "colab": {},
    "colab_type": "code",
    "id": "h4bBPfhCuJED"
   },
   "outputs": [],
   "source": [
    "from sklearn.datasets import load_breast_cancer\n",
    "from sklearn.model_selection import KFold, cross_val_score\n",
    "from sklearn.ensemble import RandomForestClassifier\n",
    "from sklearn import feature_selection\n",
    "from sklearn.decomposition import PCA \n",
    "from sklearn.manifold import TSNE"
   ]
  },
  {
   "cell_type": "code",
   "execution_count": 3,
   "metadata": {
    "colab": {},
    "colab_type": "code",
    "id": "xq-skYDIuJEI"
   },
   "outputs": [
    {
     "name": "stdout",
     "output_type": "stream",
     "text": [
      "(569, 30)\n"
     ]
    },
    {
     "data": {
      "text/html": [
       "<div>\n",
       "<style scoped>\n",
       "    .dataframe tbody tr th:only-of-type {\n",
       "        vertical-align: middle;\n",
       "    }\n",
       "\n",
       "    .dataframe tbody tr th {\n",
       "        vertical-align: top;\n",
       "    }\n",
       "\n",
       "    .dataframe thead th {\n",
       "        text-align: right;\n",
       "    }\n",
       "</style>\n",
       "<table border=\"1\" class=\"dataframe\">\n",
       "  <thead>\n",
       "    <tr style=\"text-align: right;\">\n",
       "      <th></th>\n",
       "      <th>0</th>\n",
       "      <th>1</th>\n",
       "      <th>2</th>\n",
       "    </tr>\n",
       "  </thead>\n",
       "  <tbody>\n",
       "    <tr>\n",
       "      <th>mean radius</th>\n",
       "      <td>17.99000</td>\n",
       "      <td>20.57000</td>\n",
       "      <td>19.69000</td>\n",
       "    </tr>\n",
       "    <tr>\n",
       "      <th>mean texture</th>\n",
       "      <td>10.38000</td>\n",
       "      <td>17.77000</td>\n",
       "      <td>21.25000</td>\n",
       "    </tr>\n",
       "    <tr>\n",
       "      <th>mean perimeter</th>\n",
       "      <td>122.80000</td>\n",
       "      <td>132.90000</td>\n",
       "      <td>130.00000</td>\n",
       "    </tr>\n",
       "    <tr>\n",
       "      <th>mean area</th>\n",
       "      <td>1001.00000</td>\n",
       "      <td>1326.00000</td>\n",
       "      <td>1203.00000</td>\n",
       "    </tr>\n",
       "    <tr>\n",
       "      <th>mean smoothness</th>\n",
       "      <td>0.11840</td>\n",
       "      <td>0.08474</td>\n",
       "      <td>0.10960</td>\n",
       "    </tr>\n",
       "    <tr>\n",
       "      <th>mean compactness</th>\n",
       "      <td>0.27760</td>\n",
       "      <td>0.07864</td>\n",
       "      <td>0.15990</td>\n",
       "    </tr>\n",
       "    <tr>\n",
       "      <th>mean concavity</th>\n",
       "      <td>0.30010</td>\n",
       "      <td>0.08690</td>\n",
       "      <td>0.19740</td>\n",
       "    </tr>\n",
       "    <tr>\n",
       "      <th>mean concave points</th>\n",
       "      <td>0.14710</td>\n",
       "      <td>0.07017</td>\n",
       "      <td>0.12790</td>\n",
       "    </tr>\n",
       "    <tr>\n",
       "      <th>mean symmetry</th>\n",
       "      <td>0.24190</td>\n",
       "      <td>0.18120</td>\n",
       "      <td>0.20690</td>\n",
       "    </tr>\n",
       "    <tr>\n",
       "      <th>mean fractal dimension</th>\n",
       "      <td>0.07871</td>\n",
       "      <td>0.05667</td>\n",
       "      <td>0.05999</td>\n",
       "    </tr>\n",
       "  </tbody>\n",
       "</table>\n",
       "</div>"
      ],
      "text/plain": [
       "                                 0           1           2\n",
       "mean radius               17.99000    20.57000    19.69000\n",
       "mean texture              10.38000    17.77000    21.25000\n",
       "mean perimeter           122.80000   132.90000   130.00000\n",
       "mean area               1001.00000  1326.00000  1203.00000\n",
       "mean smoothness            0.11840     0.08474     0.10960\n",
       "mean compactness           0.27760     0.07864     0.15990\n",
       "mean concavity             0.30010     0.08690     0.19740\n",
       "mean concave points        0.14710     0.07017     0.12790\n",
       "mean symmetry              0.24190     0.18120     0.20690\n",
       "mean fractal dimension     0.07871     0.05667     0.05999"
      ]
     },
     "execution_count": 3,
     "metadata": {},
     "output_type": "execute_result"
    }
   ],
   "source": [
    "## 유방암 발생 데이터 다운로드\n",
    "\n",
    "cancer = load_breast_cancer()\n",
    "X = pd.DataFrame(cancer.data, columns=cancer.feature_names)\n",
    "y = cancer.target\n",
    "print(X.shape)\n",
    "X[:3].T[:10]"
   ]
  },
  {
   "cell_type": "code",
   "execution_count": 10,
   "metadata": {},
   "outputs": [],
   "source": [
    "x1 = np.arange(10)\n",
    "y1 = x1 * 10"
   ]
  },
  {
   "cell_type": "code",
   "execution_count": 12,
   "metadata": {},
   "outputs": [
    {
     "data": {
      "text/plain": [
       "[array([0, 1, 2, 3, 4, 5, 6]),\n",
       " array([7, 8, 9]),\n",
       " array([ 0, 10, 20, 30, 40, 50, 60]),\n",
       " array([70, 80, 90])]"
      ]
     },
     "execution_count": 12,
     "metadata": {},
     "output_type": "execute_result"
    }
   ],
   "source": [
    "from sklearn.model_selection import train_test_split\n",
    "train_test_split(x1, y1, shuffle=False)"
   ]
  },
  {
   "cell_type": "markdown",
   "metadata": {},
   "source": [
    "## 교차 검증 k=5\n"
   ]
  },
  {
   "cell_type": "code",
   "execution_count": 13,
   "metadata": {},
   "outputs": [],
   "source": [
    "## 교차 검증을 수행하는 함수 정의\n",
    "\n",
    "# n개 세트의 훈련용과 검증용 데이터를 랜덤하게 나눈다\n",
    "def cross_validation(model, X, y, n=5): \n",
    "    cv = KFold(n, shuffle=True)\n",
    "    return cross_val_score(model, X, y, cv=cv).mean().round(4)"
   ]
  },
  {
   "cell_type": "markdown",
   "metadata": {
    "colab_type": "text",
    "id": "ff3BlI3DuJEV"
   },
   "source": [
    "## 30개의 특성을 모두 사용하는 경우"
   ]
  },
  {
   "cell_type": "code",
   "execution_count": 14,
   "metadata": {},
   "outputs": [
    {
     "data": {
      "text/plain": [
       "0.9614"
      ]
     },
     "execution_count": 14,
     "metadata": {},
     "output_type": "execute_result"
    }
   ],
   "source": [
    "## 30개 특성을 이용한 랜덤 포레스트 이진 분류\n",
    "\n",
    "rfc = RandomForestClassifier()\n",
    "cross_validation(rfc, X, y)"
   ]
  },
  {
   "cell_type": "markdown",
   "metadata": {},
   "source": [
    "# SelectKBest"
   ]
  },
  {
   "cell_type": "markdown",
   "metadata": {
    "colab_type": "text",
    "id": "sWaKowWbuJEa"
   },
   "source": [
    "- 목적변수 y와의 상관 관계가 큰 특성을 k개 선택\n",
    "- 6개의 특성을 선택"
   ]
  },
  {
   "cell_type": "code",
   "execution_count": 26,
   "metadata": {},
   "outputs": [
    {
     "name": "stdout",
     "output_type": "stream",
     "text": [
      "(569, 3)\n",
      "Selected Features: \n",
      "['mean area', 'area error', 'worst area']\n"
     ]
    },
    {
     "data": {
      "text/plain": [
       "0.9227"
      ]
     },
     "execution_count": 26,
     "metadata": {},
     "output_type": "execute_result"
    }
   ],
   "source": [
    "## 목적변수 y와의 상관 관계가 큰 특성을 k개 선택\n",
    "\n",
    "from sklearn.feature_selection import SelectKBest, chi2\n",
    "sb = SelectKBest(chi2, k=3)\n",
    "X_best = sb.fit_transform(X, y)\n",
    "print(X_best.shape)\n",
    "\n",
    "# 선택된 특성 컬럼명 보기\n",
    "print('Selected Features: ')\n",
    "print(list(X.columns[sb.get_support()]))\n",
    "cross_validation(rfc, X_best, y)"
   ]
  },
  {
   "cell_type": "markdown",
   "metadata": {
    "colab_type": "text",
    "id": "c1oEerlcuJEi"
   },
   "source": [
    "## 2개의 특성만 사용하는 경우"
   ]
  },
  {
   "cell_type": "code",
   "execution_count": 7,
   "metadata": {
    "colab": {},
    "colab_type": "code",
    "id": "N5g9oG5quJEi",
    "outputId": "65fe2ff8-66a2-4094-ee85-d5f7f3f292a5"
   },
   "outputs": [],
   "source": [
    "# sb = SelectKBest(chi2, k=2)\n",
    "# X_best = sb.fit_transform(X, y)\n",
    "# print(X.columns[sb.get_support()])\n",
    "# cross_validation(rfc, X_best, y)"
   ]
  },
  {
   "cell_type": "markdown",
   "metadata": {},
   "source": [
    "## 두개 특성의 산포도 그리기"
   ]
  },
  {
   "cell_type": "code",
   "execution_count": 8,
   "metadata": {},
   "outputs": [],
   "source": [
    "# X_best = np.log(X_best)"
   ]
  },
  {
   "cell_type": "code",
   "execution_count": 27,
   "metadata": {},
   "outputs": [
    {
     "data": {
      "image/png": "[encoded data removed]",
      "text/plain": [
       "<Figure size 360x360 with 1 Axes>"
      ]
     },
     "metadata": {
      "image/png": {
       "height": 323,
       "width": 346
      },
      "needs_background": "light"
     },
     "output_type": "display_data"
    }
   ],
   "source": [
    "## 두 개 특성의 산포도 그리기\n",
    "\n",
    "plt.scatter(X_best[:,0][y==0],X_best[:,1][y==0],\n",
    "            marker='+', s=13, color='r', label='Cancer')\n",
    "plt.scatter(X_best[:,0][y==1],X_best[:,1][y==1],\n",
    "            marker='.', s=7, color='b', label='Normal')\n",
    "plt.xlabel('mean area')\n",
    "plt.ylabel('worst area')\n",
    "plt.legend()\n",
    "plt.savefig('p302.pdf')\n"
   ]
  },
  {
   "cell_type": "markdown",
   "metadata": {
    "colab_type": "text",
    "id": "649U7hdruJEu"
   },
   "source": [
    "# PCA를 사용한 차원 축소\n",
    "## 6개의 주성분 사용"
   ]
  },
  {
   "cell_type": "code",
   "execution_count": 22,
   "metadata": {
    "colab": {},
    "colab_type": "code",
    "id": "vJpDqpqvuJEv"
   },
   "outputs": [
    {
     "name": "stdout",
     "output_type": "stream",
     "text": [
      "0.9244\n"
     ]
    },
    {
     "data": {
      "text/plain": [
       "<matplotlib.legend.Legend at 0x16046ad00>"
      ]
     },
     "execution_count": 22,
     "metadata": {},
     "output_type": "execute_result"
    },
    {
     "data": {
      "image/png": "[encoded data removed]",
      "text/plain": [
       "<Figure size 360x360 with 1 Axes>"
      ]
     },
     "metadata": {
      "image/png": {
       "height": 326,
       "width": 364
      },
      "needs_background": "light"
     },
     "output_type": "display_data"
    }
   ],
   "source": [
    "## 2개의 주성분(PCA) 사용 결과\n",
    "\n",
    "pca = PCA(3)\n",
    "X_pca = pca.fit_transform(X)\n",
    "print(cross_validation(rfc, X_pca, y))\n",
    "\n",
    "# 두 개 주성분을 축으로 산포도 그리기\n",
    "plt.scatter(X_pca[:,0][y==0],X_pca[:,1][y==0],\n",
    "            marker='+', s=13, color='r', label='Cancer')\n",
    "plt.scatter(X_pca[:,0][y==1],X_pca[:,1][y==1],\n",
    "            marker='.', s=7, color='b', label='Normal')\n",
    "plt.xlabel('PCA-1')\n",
    "plt.ylabel('PCA-2')\n",
    "plt.legend()"
   ]
  },
  {
   "cell_type": "code",
   "execution_count": 25,
   "metadata": {},
   "outputs": [
    {
     "data": {
      "text/plain": [
       "array([[1160.1425737 , -293.91754364,   48.57839763],\n",
       "       [1269.12244319,   15.63018184,  -35.39453423],\n",
       "       [ 995.79388896,   39.15674324,   -1.70975298],\n",
       "       ...,\n",
       "       [ 314.50175618,   47.55352518,  -10.44240718],\n",
       "       [1124.85811531,   34.12922497,  -19.74208742],\n",
       "       [-771.52762188,  -88.64310636,   23.88903189]])"
      ]
     },
     "execution_count": 25,
     "metadata": {},
     "output_type": "execute_result"
    }
   ],
   "source": [
    "X_pca"
   ]
  },
  {
   "cell_type": "code",
   "execution_count": 23,
   "metadata": {},
   "outputs": [
    {
     "name": "stdout",
     "output_type": "stream",
     "text": [
      "X_best:  [[1001.  2019. ]\n",
      " [1326.  1956. ]\n",
      " [1203.  1709. ]\n",
      " ...\n",
      " [ 858.1 1124. ]\n",
      " [1265.  1821. ]\n",
      " [ 181.   268.6]]\n"
     ]
    }
   ],
   "source": [
    "print('X_best: ', X_best)"
   ]
  },
  {
   "cell_type": "code",
   "execution_count": 24,
   "metadata": {},
   "outputs": [
    {
     "data": {
      "text/plain": [
       "0.9997786721191865"
      ]
     },
     "execution_count": 24,
     "metadata": {},
     "output_type": "execute_result"
    }
   ],
   "source": [
    "sum(pca.explained_variance_ratio_)"
   ]
  },
  {
   "cell_type": "markdown",
   "metadata": {},
   "source": [
    "## pca 생성에 사용한 가중치"
   ]
  },
  {
   "cell_type": "code",
   "execution_count": 28,
   "metadata": {
    "colab": {},
    "colab_type": "code",
    "id": "BybjlXpnuJE6",
    "outputId": "61e46808-39bb-4d26-f841-70f52cd4da95"
   },
   "outputs": [
    {
     "name": "stdout",
     "output_type": "stream",
     "text": [
      "[[ 0.005  0.002  0.035  0.517  0.     0.     0.     0.     0.    -0.\n",
      "   0.    -0.     0.002  0.056 -0.     0.     0.     0.    -0.    -0.\n",
      "   0.007  0.003  0.049  0.852  0.     0.     0.     0.     0.     0.   ]\n",
      " [ 0.009 -0.003  0.063  0.852 -0.    -0.     0.     0.    -0.    -0.\n",
      "  -0.     0.     0.001  0.008  0.     0.     0.     0.     0.     0.\n",
      "  -0.001 -0.013 -0.    -0.52  -0.    -0.    -0.    -0.    -0.    -0.   ]\n",
      " [-0.012 -0.006 -0.072 -0.028  0.     0.     0.     0.     0.     0.\n",
      "   0.006  0.006  0.044  0.99   0.     0.     0.     0.     0.     0.\n",
      "  -0.016 -0.032 -0.092 -0.039 -0.    -0.001 -0.001 -0.    -0.    -0.   ]]\n"
     ]
    }
   ],
   "source": [
    "## pca 생성에 사용한 가중치\n",
    "\n",
    "print(pca.components_.round(3))"
   ]
  },
  {
   "cell_type": "markdown",
   "metadata": {
    "colab_type": "text",
    "id": "jO0pBPYauJFR"
   },
   "source": [
    "# t-SNE 시각화\n",
    "- perplexity를 바꾸면 그림이 다르게 나타난다"
   ]
  },
  {
   "cell_type": "code",
   "execution_count": 31,
   "metadata": {
    "colab": {},
    "colab_type": "code",
    "id": "rO41E334uJFS",
    "outputId": "b922bdc0-3c71-44b9-9ac2-2aa8b8b64339",
    "scrolled": true
   },
   "outputs": [
    {
     "data": {
      "text/plain": [
       "<matplotlib.legend.Legend at 0x16063a160>"
      ]
     },
     "execution_count": 31,
     "metadata": {},
     "output_type": "execute_result"
    },
    {
     "data": {
      "image/png": "[encoded data removed]",
      "text/plain": [
       "<Figure size 360x360 with 1 Axes>"
      ]
     },
     "metadata": {
      "image/png": {
       "height": 325,
       "width": 336
      },
      "needs_background": "light"
     },
     "output_type": "display_data"
    }
   ],
   "source": [
    "## 2차원 t-SNE 수행과 시각화\n",
    "\n",
    "tsne = TSNE(2, perplexity=100)\n",
    "tsne_2 = tsne.fit_transform(X)\n",
    "\n",
    "\n",
    "plt.scatter(tsne_2[:,0][y==0],tsne_2[:,1][y==0],\n",
    "            marker='+', s=13, color='r', label='Cancer')\n",
    "plt.scatter(tsne_2[:,0][y==1],tsne_2[:,1][y==1],\n",
    "            marker='.', s=7, color='b', label='Normal')\n",
    "\n",
    "plt.xlabel('t-SNE-1')\n",
    "plt.ylabel('t-SNE-2')\n",
    "plt.legend()"
   ]
  },
  {
   "cell_type": "code",
   "execution_count": null,
   "metadata": {},
   "outputs": [],
   "source": []
  }
 ],
 "metadata": {
  "colab": {
   "collapsed_sections": [],
   "name": "g_24_특성공학.ipynb",
   "provenance": []
  },
  "kernelspec": {
   "display_name": "Python 3.9.7 64-bit",
   "language": "python",
   "name": "python3"
  },
  "language_info": {
   "codemirror_mode": {
    "name": "ipython",
    "version": 3
   },
   "file_extension": ".py",
   "mimetype": "text/x-python",
   "name": "python",
   "nbconvert_exporter": "python",
   "pygments_lexer": "ipython3",
   "version": "3.9.7"
  },
  "toc": {
   "base_numbering": 1,
   "nav_menu": {},
   "number_sections": false,
   "sideBar": true,
   "skip_h1_title": false,
   "title_cell": "Table of Contents",
   "title_sidebar": "Contents",
   "toc_cell": false,
   "toc_position": {
    "height": "calc(100% - 180px)",
    "left": "10px",
    "top": "150px",
    "width": "165px"
   },
   "toc_section_display": true,
   "toc_window_display": true
  },
  "vscode": {
   "interpreter": {
    "hash": "aee8b7b246df8f9039afb4144a1f6fd8d2ca17a180786b69acc140d282b71a49"
   }
  }
 },
 "nbformat": 4,
 "nbformat_minor": 1
}
