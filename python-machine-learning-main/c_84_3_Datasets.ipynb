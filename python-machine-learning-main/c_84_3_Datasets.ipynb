{
  "cells": [
    {
      "cell_type": "markdown",
      "metadata": {
        "id": "socSJe925zFv"
      },
      "source": [
        "#  Dataset 이해하기\n",
        "\n",
        "- DeepChem의 `Dataset` 클래스는 NumPy, Pandas, TensorFlow, PyTorch와 쉽게 호환되도록 만든 데이터셋 구조체이다"
      ]
    },
    {
      "cell_type": "markdown",
      "metadata": {
        "id": "k1KhsO0eyPhP"
      },
      "source": [
        "# import"
      ]
    },
    {
      "cell_type": "code",
      "execution_count": null,
      "metadata": {
        "colab": {
          "base_uri": "https://localhost:8080/"
        },
        "id": "CMWAv-Z46nCc",
        "outputId": "895c645b-78bf-4f4b-b942-7872b82e69f2"
      },
      "outputs": [
        {
          "name": "stdout",
          "output_type": "stream",
          "text": [
            "Looking in indexes: https://pypi.org/simple, https://us-python.pkg.dev/colab-wheels/public/simple/\n",
            "Collecting deepchem\n",
            "  Downloading deepchem-2.6.1-py3-none-any.whl (608 kB)\n",
            "\u001b[K     |████████████████████████████████| 608 kB 2.1 MB/s \n",
            "\u001b[?25hRequirement already satisfied: scikit-learn in /usr/local/lib/python3.7/dist-packages (from deepchem) (1.0.2)\n",
            "Requirement already satisfied: numpy>=1.21 in /usr/local/lib/python3.7/dist-packages (from deepchem) (1.21.6)\n",
            "Collecting rdkit-pypi\n",
            "  Downloading rdkit_pypi-2022.3.5-cp37-cp37m-manylinux_2_17_x86_64.manylinux2014_x86_64.whl (36.8 MB)\n",
            "\u001b[K     |████████████████████████████████| 36.8 MB 39 kB/s \n",
            "\u001b[?25hRequirement already satisfied: pandas in /usr/local/lib/python3.7/dist-packages (from deepchem) (1.3.5)\n",
            "Requirement already satisfied: scipy in /usr/local/lib/python3.7/dist-packages (from deepchem) (1.7.3)\n",
            "Requirement already satisfied: joblib in /usr/local/lib/python3.7/dist-packages (from deepchem) (1.1.0)\n",
            "Requirement already satisfied: pytz>=2017.3 in /usr/local/lib/python3.7/dist-packages (from pandas->deepchem) (2022.2.1)\n",
            "Requirement already satisfied: python-dateutil>=2.7.3 in /usr/local/lib/python3.7/dist-packages (from pandas->deepchem) (2.8.2)\n",
            "Requirement already satisfied: six>=1.5 in /usr/local/lib/python3.7/dist-packages (from python-dateutil>=2.7.3->pandas->deepchem) (1.15.0)\n",
            "Requirement already satisfied: Pillow in /usr/local/lib/python3.7/dist-packages (from rdkit-pypi->deepchem) (7.1.2)\n",
            "Requirement already satisfied: threadpoolctl>=2.0.0 in /usr/local/lib/python3.7/dist-packages (from scikit-learn->deepchem) (3.1.0)\n",
            "Installing collected packages: rdkit-pypi, deepchem\n",
            "Successfully installed deepchem-2.6.1 rdkit-pypi-2022.3.5\n"
          ]
        }
      ],
      "source": [
        "!pip install deepchem"
      ]
    },
    {
      "cell_type": "code",
      "execution_count": 1,
      "metadata": {
        "id": "PDiY03h35zF_"
      },
      "outputs": [
        {
          "name": "stderr",
          "output_type": "stream",
          "text": [
            "/usr/local/lib/python3.9/site-packages/tqdm/auto.py:22: TqdmWarning: IProgress not found. Please update jupyter and ipywidgets. See https://ipywidgets.readthedocs.io/en/stable/user_install.html\n",
            "  from .autonotebook import tqdm as notebook_tqdm\n"
          ]
        }
      ],
      "source": [
        "import deepchem as dc\n",
        "from rdkit import Chem\n",
        "from rdkit.Chem import Draw\n",
        "from rdkit.Chem.Draw import IPythonConsole\n",
        "IPythonConsole.ipython_useSVG=True\n",
        "%config InlineBackend.figure_format = 'retina'"
      ]
    },
    {
      "cell_type": "markdown",
      "metadata": {
        "id": "B0u7qIZd5zGG"
      },
      "source": [
        "# Dataset 다운로드\n",
        "\n",
        "- dc.molnet.load_XXX() 함수 사용\n",
        "- load_delaney()를 사용하면 Delaney 용해도  dataset을 다운로드함\n",
        " - 1128개 화합물의 용해도 데이터\n",
        "- 다운로드시 원하는 feature를 선택할 수 있다\n",
        "- 아래에서는 그래프 콘볼류션 표현법을 선택"
      ]
    },
    {
      "cell_type": "code",
      "execution_count": 2,
      "metadata": {
        "id": "saTaOpXY5zGI"
      },
      "outputs": [],
      "source": [
        "tasks, datasets, transformers = dc.molnet.load_delaney(featurizer='GraphConv')\n",
        "train_dataset, valid_dataset, test_dataset = datasets"
      ]
    },
    {
      "cell_type": "markdown",
      "metadata": {
        "id": "WfyQ5yezKY1a"
      },
      "source": [
        "## load_XXX() 옵션\n",
        "### featurizer \n",
        "- 'ECFP', 'GraphConv', 'Weave', 'smiles2img' 등을 선택할 수 있다\n",
        "\n",
        "### splitter \n",
        "- 'None', 'index', 'random', 'scaffold', 'stratified' 등을 선택할 수 있다\n"
      ]
    },
    {
      "cell_type": "markdown",
      "metadata": {
        "id": "xCsRZk2RI4UE"
      },
      "source": [
        "## load_XXX() 리턴 값\n",
        "\n",
        "- `tasks`: 태스크 이름을 알려준다 (타겟 작업이 무엇인지. 하나 또는 복수)\n",
        "- `datasets`: `dc.data.Dataset` 객체로서 `(train, valid, test)` 세 부분으로 나누어준다\n",
        "- `transformers`: `dc.trans.Transformer` 객체로서 전처리 방법을 알려준다"
      ]
    },
    {
      "cell_type": "code",
      "execution_count": 3,
      "metadata": {
        "colab": {
          "base_uri": "https://localhost:8080/"
        },
        "id": "0o0SYAN7IbIG",
        "outputId": "b003db3c-a7bc-4de4-a097-d1d52024fc9e"
      },
      "outputs": [
        {
          "name": "stdout",
          "output_type": "stream",
          "text": [
            "['measured log solubility in mols per litre']\n"
          ]
        }
      ],
      "source": [
        "print(tasks)"
      ]
    },
    {
      "cell_type": "code",
      "execution_count": 4,
      "metadata": {
        "colab": {
          "base_uri": "https://localhost:8080/"
        },
        "id": "YEDcUsz35zGO",
        "outputId": "f38b2ef4-34c7-4830-e0c4-8467d98a4871"
      },
      "outputs": [
        {
          "name": "stdout",
          "output_type": "stream",
          "text": [
            "<DiskDataset X.shape: (113,), y.shape: (113, 1), w.shape: (113, 1), ids: ['c1cc2ccc3cccc4ccc(c1)c2c34' 'Cc1cc(=O)[nH]c(=S)[nH]1'\n",
            " 'Oc1ccc(cc1)C2(OC(=O)c3ccccc23)c4ccc(O)cc4 ' ...\n",
            " 'c1ccc2c(c1)ccc3c2ccc4c5ccccc5ccc43' 'Cc1occc1C(=O)Nc2ccccc2'\n",
            " 'OCC3OC(OCC2OC(OC(C#N)c1ccccc1)C(O)C(O)C2O)C(O)C(O)C3O '], task_names: ['measured log solubility in mols per litre']>\n"
          ]
        }
      ],
      "source": [
        "print(test_dataset)"
      ]
    },
    {
      "cell_type": "markdown",
      "metadata": {
        "id": "E8UCFrrN5zGf"
      },
      "source": [
        "- `DiskDataset`은 하드디스크에 저장하고 액세스할 데이터셋이다.\n",
        "- `NumpyDataset` 은 메인 메모리에 저장하고 사용할 데이터로 NumPy arrays 형식으로 저장된다  \n",
        "- `ImageDataset`은 디스크에 저장되는 이미지 데이터 형식이다 \n",
        "\n",
        "- 여기서 각 행은 샘플을 가리키며 여기서는 분자를 구분하며 다음의 값들을 갖는다\n",
        " - The *features*, referred to as `X`.  \n",
        " - The *labels*, referred to as `y`.  \n",
        " - The *weights*, referred to as `w` (이 샘플의 가중치를 표시)  \n",
        " - An *ID*, is a unique identifier (여기서는 SMILES를 사용)"
      ]
    },
    {
      "cell_type": "markdown",
      "metadata": {
        "id": "686kzsa003VA"
      },
      "source": [
        "## Dataset의 X, y 보기\n",
        "- 현재 X는 ConvMol 형태임"
      ]
    },
    {
      "cell_type": "code",
      "execution_count": 5,
      "metadata": {
        "colab": {
          "base_uri": "https://localhost:8080/"
        },
        "id": "e5K3rdGV5zGg",
        "outputId": "63671521-9f4e-47ec-a6df-68ad64e4e4fd"
      },
      "outputs": [
        {
          "data": {
            "text/plain": [
              "array([<deepchem.feat.mol_graphs.ConvMol object at 0x1495464c0>,\n",
              "       <deepchem.feat.mol_graphs.ConvMol object at 0x149b551f0>,\n",
              "       <deepchem.feat.mol_graphs.ConvMol object at 0x149b55790>],\n",
              "      dtype=object)"
            ]
          },
          "execution_count": 5,
          "metadata": {},
          "output_type": "execute_result"
        }
      ],
      "source": [
        "test_dataset.X[:3]"
      ]
    },
    {
      "cell_type": "code",
      "execution_count": 6,
      "metadata": {
        "colab": {
          "base_uri": "https://localhost:8080/"
        },
        "id": "wJR8budy1QFn",
        "outputId": "cbe091b7-f014-4571-87d5-b306705e33bf"
      },
      "outputs": [
        {
          "data": {
            "text/plain": [
              "(16, 75)"
            ]
          },
          "execution_count": 6,
          "metadata": {},
          "output_type": "execute_result"
        }
      ],
      "source": [
        "test_dataset.X[0].get_atom_features().shape"
      ]
    },
    {
      "cell_type": "code",
      "execution_count": 7,
      "metadata": {
        "colab": {
          "base_uri": "https://localhost:8080/",
          "height": 35
        },
        "id": "DI40LIJ54uPu",
        "outputId": "1f5a2e48-6ab4-4a3b-e855-513aa72ff397"
      },
      "outputs": [
        {
          "data": {
            "text/plain": [
              "'c1cc2ccc3cccc4ccc(c1)c2c34'"
            ]
          },
          "execution_count": 7,
          "metadata": {},
          "output_type": "execute_result"
        }
      ],
      "source": [
        "smi = test_dataset.ids[0]\n",
        "smi"
      ]
    },
    {
      "cell_type": "code",
      "execution_count": 8,
      "metadata": {
        "colab": {
          "base_uri": "https://localhost:8080/",
          "height": 170
        },
        "id": "s6gVp0YW5hH9",
        "outputId": "5060b89c-8c81-4556-e101-f6b6213e0b10"
      },
      "outputs": [
        {
          "data": {
            "image/png": "[encoded data removed]",
            "image/svg+xml": "<?xml version='1.0' encoding='iso-8859-1'?>\n<svg version='1.1' baseProfile='full'\n              xmlns='http://www.w3.org/2000/svg'\n                      xmlns:rdkit='http://www.rdkit.org/xml'\n                      xmlns:xlink='http://www.w3.org/1999/xlink'\n                  xml:space='preserve'\nwidth='450px' height='150px' viewBox='0 0 450 150'>\n<!-- END OF HEADER -->\n<rect style='opacity:1.0;fill:#FFFFFF;stroke:none' width='450.0' height='150.0' x='0.0' y='0.0'> </rect>\n<path class='bond-0 atom-0 atom-1' d='M 323.4,75.0 L 303.7,109.1' style='fill:none;fill-rule:evenodd;stroke:#000000;stroke-width:2.0px;stroke-linecap:butt;stroke-linejoin:miter;stroke-opacity:1' />\n<path class='bond-0 atom-0 atom-1' d='M 316.6,75.0 L 300.3,103.2' style='fill:none;fill-rule:evenodd;stroke:#000000;stroke-width:2.0px;stroke-linecap:butt;stroke-linejoin:miter;stroke-opacity:1' />\n<path class='bond-1 atom-1 atom-2' d='M 303.7,109.1 L 264.4,109.1' style='fill:none;fill-rule:evenodd;stroke:#000000;stroke-width:2.0px;stroke-linecap:butt;stroke-linejoin:miter;stroke-opacity:1' />\n<path class='bond-2 atom-2 atom-3' d='M 264.4,109.1 L 244.7,143.2' style='fill:none;fill-rule:evenodd;stroke:#000000;stroke-width:2.0px;stroke-linecap:butt;stroke-linejoin:miter;stroke-opacity:1' />\n<path class='bond-2 atom-2 atom-3' d='M 257.5,109.1 L 241.3,137.3' style='fill:none;fill-rule:evenodd;stroke:#000000;stroke-width:2.0px;stroke-linecap:butt;stroke-linejoin:miter;stroke-opacity:1' />\n<path class='bond-3 atom-3 atom-4' d='M 244.7,143.2 L 205.3,143.2' style='fill:none;fill-rule:evenodd;stroke:#000000;stroke-width:2.0px;stroke-linecap:butt;stroke-linejoin:miter;stroke-opacity:1' />\n<path class='bond-4 atom-4 atom-5' d='M 205.3,143.2 L 185.6,109.1' style='fill:none;fill-rule:evenodd;stroke:#000000;stroke-width:2.0px;stroke-linecap:butt;stroke-linejoin:miter;stroke-opacity:1' />\n<path class='bond-4 atom-4 atom-5' d='M 208.7,137.3 L 192.5,109.1' style='fill:none;fill-rule:evenodd;stroke:#000000;stroke-width:2.0px;stroke-linecap:butt;stroke-linejoin:miter;stroke-opacity:1' />\n<path class='bond-5 atom-5 atom-6' d='M 185.6,109.1 L 146.3,109.1' style='fill:none;fill-rule:evenodd;stroke:#000000;stroke-width:2.0px;stroke-linecap:butt;stroke-linejoin:miter;stroke-opacity:1' />\n<path class='bond-6 atom-6 atom-7' d='M 146.3,109.1 L 126.6,75.0' style='fill:none;fill-rule:evenodd;stroke:#000000;stroke-width:2.0px;stroke-linecap:butt;stroke-linejoin:miter;stroke-opacity:1' />\n<path class='bond-6 atom-6 atom-7' d='M 149.7,103.2 L 133.4,75.0' style='fill:none;fill-rule:evenodd;stroke:#000000;stroke-width:2.0px;stroke-linecap:butt;stroke-linejoin:miter;stroke-opacity:1' />\n<path class='bond-7 atom-7 atom-8' d='M 126.6,75.0 L 146.3,40.9' style='fill:none;fill-rule:evenodd;stroke:#000000;stroke-width:2.0px;stroke-linecap:butt;stroke-linejoin:miter;stroke-opacity:1' />\n<path class='bond-8 atom-8 atom-9' d='M 146.3,40.9 L 185.6,40.9' style='fill:none;fill-rule:evenodd;stroke:#000000;stroke-width:2.0px;stroke-linecap:butt;stroke-linejoin:miter;stroke-opacity:1' />\n<path class='bond-8 atom-8 atom-9' d='M 149.7,46.8 L 182.2,46.8' style='fill:none;fill-rule:evenodd;stroke:#000000;stroke-width:2.0px;stroke-linecap:butt;stroke-linejoin:miter;stroke-opacity:1' />\n<path class='bond-9 atom-9 atom-10' d='M 185.6,40.9 L 205.3,6.8' style='fill:none;fill-rule:evenodd;stroke:#000000;stroke-width:2.0px;stroke-linecap:butt;stroke-linejoin:miter;stroke-opacity:1' />\n<path class='bond-10 atom-10 atom-11' d='M 205.3,6.8 L 244.7,6.8' style='fill:none;fill-rule:evenodd;stroke:#000000;stroke-width:2.0px;stroke-linecap:butt;stroke-linejoin:miter;stroke-opacity:1' />\n<path class='bond-10 atom-10 atom-11' d='M 208.7,12.7 L 241.3,12.7' style='fill:none;fill-rule:evenodd;stroke:#000000;stroke-width:2.0px;stroke-linecap:butt;stroke-linejoin:miter;stroke-opacity:1' />\n<path class='bond-11 atom-11 atom-12' d='M 244.7,6.8 L 264.4,40.9' style='fill:none;fill-rule:evenodd;stroke:#000000;stroke-width:2.0px;stroke-linecap:butt;stroke-linejoin:miter;stroke-opacity:1' />\n<path class='bond-12 atom-12 atom-13' d='M 264.4,40.9 L 303.7,40.9' style='fill:none;fill-rule:evenodd;stroke:#000000;stroke-width:2.0px;stroke-linecap:butt;stroke-linejoin:miter;stroke-opacity:1' />\n<path class='bond-12 atom-12 atom-13' d='M 267.8,46.8 L 300.3,46.8' style='fill:none;fill-rule:evenodd;stroke:#000000;stroke-width:2.0px;stroke-linecap:butt;stroke-linejoin:miter;stroke-opacity:1' />\n<path class='bond-13 atom-12 atom-14' d='M 264.4,40.9 L 244.7,75.0' style='fill:none;fill-rule:evenodd;stroke:#000000;stroke-width:2.0px;stroke-linecap:butt;stroke-linejoin:miter;stroke-opacity:1' />\n<path class='bond-14 atom-14 atom-15' d='M 244.7,75.0 L 205.3,75.0' style='fill:none;fill-rule:evenodd;stroke:#000000;stroke-width:2.0px;stroke-linecap:butt;stroke-linejoin:miter;stroke-opacity:1' />\n<path class='bond-14 atom-14 atom-15' d='M 241.3,80.9 L 208.7,80.9' style='fill:none;fill-rule:evenodd;stroke:#000000;stroke-width:2.0px;stroke-linecap:butt;stroke-linejoin:miter;stroke-opacity:1' />\n<path class='bond-15 atom-13 atom-0' d='M 303.7,40.9 L 323.4,75.0' style='fill:none;fill-rule:evenodd;stroke:#000000;stroke-width:2.0px;stroke-linecap:butt;stroke-linejoin:miter;stroke-opacity:1' />\n<path class='bond-16 atom-14 atom-2' d='M 244.7,75.0 L 264.4,109.1' style='fill:none;fill-rule:evenodd;stroke:#000000;stroke-width:2.0px;stroke-linecap:butt;stroke-linejoin:miter;stroke-opacity:1' />\n<path class='bond-17 atom-15 atom-5' d='M 205.3,75.0 L 185.6,109.1' style='fill:none;fill-rule:evenodd;stroke:#000000;stroke-width:2.0px;stroke-linecap:butt;stroke-linejoin:miter;stroke-opacity:1' />\n<path class='bond-18 atom-15 atom-9' d='M 205.3,75.0 L 185.6,40.9' style='fill:none;fill-rule:evenodd;stroke:#000000;stroke-width:2.0px;stroke-linecap:butt;stroke-linejoin:miter;stroke-opacity:1' />\n<path d='M 322.4,76.7 L 323.4,75.0 L 322.4,73.3' style='fill:none;stroke:#000000;stroke-width:2.0px;stroke-linecap:butt;stroke-linejoin:miter;stroke-opacity:1;' />\n<path d='M 304.7,107.4 L 303.7,109.1 L 301.8,109.1' style='fill:none;stroke:#000000;stroke-width:2.0px;stroke-linecap:butt;stroke-linejoin:miter;stroke-opacity:1;' />\n<path d='M 245.7,141.5 L 244.7,143.2 L 242.7,143.2' style='fill:none;stroke:#000000;stroke-width:2.0px;stroke-linecap:butt;stroke-linejoin:miter;stroke-opacity:1;' />\n<path d='M 207.3,143.2 L 205.3,143.2 L 204.3,141.5' style='fill:none;stroke:#000000;stroke-width:2.0px;stroke-linecap:butt;stroke-linejoin:miter;stroke-opacity:1;' />\n<path d='M 148.2,109.1 L 146.3,109.1 L 145.3,107.4' style='fill:none;stroke:#000000;stroke-width:2.0px;stroke-linecap:butt;stroke-linejoin:miter;stroke-opacity:1;' />\n<path d='M 127.6,76.7 L 126.6,75.0 L 127.6,73.3' style='fill:none;stroke:#000000;stroke-width:2.0px;stroke-linecap:butt;stroke-linejoin:miter;stroke-opacity:1;' />\n<path d='M 145.3,42.6 L 146.3,40.9 L 148.2,40.9' style='fill:none;stroke:#000000;stroke-width:2.0px;stroke-linecap:butt;stroke-linejoin:miter;stroke-opacity:1;' />\n<path d='M 204.3,8.5 L 205.3,6.8 L 207.3,6.8' style='fill:none;stroke:#000000;stroke-width:2.0px;stroke-linecap:butt;stroke-linejoin:miter;stroke-opacity:1;' />\n<path d='M 242.7,6.8 L 244.7,6.8 L 245.7,8.5' style='fill:none;stroke:#000000;stroke-width:2.0px;stroke-linecap:butt;stroke-linejoin:miter;stroke-opacity:1;' />\n<path d='M 301.8,40.9 L 303.7,40.9 L 304.7,42.6' style='fill:none;stroke:#000000;stroke-width:2.0px;stroke-linecap:butt;stroke-linejoin:miter;stroke-opacity:1;' />\n</svg>\n",
            "text/html": [
              "<?xml version='1.0' encoding='iso-8859-1'?>\n",
              "<svg version='1.1' baseProfile='full'\n",
              "              xmlns='http://www.w3.org/2000/svg'\n",
              "                      xmlns:rdkit='http://www.rdkit.org/xml'\n",
              "                      xmlns:xlink='http://www.w3.org/1999/xlink'\n",
              "                  xml:space='preserve'\n",
              "width='450px' height='150px' viewBox='0 0 450 150'>\n",
              "<!-- END OF HEADER -->\n",
              "<rect style='opacity:1.0;fill:#FFFFFF;stroke:none' width='450.0' height='150.0' x='0.0' y='0.0'> </rect>\n",
              "<path class='bond-0 atom-0 atom-1' d='M 323.4,75.0 L 303.7,109.1' style='fill:none;fill-rule:evenodd;stroke:#000000;stroke-width:2.0px;stroke-linecap:butt;stroke-linejoin:miter;stroke-opacity:1' />\n",
              "<path class='bond-0 atom-0 atom-1' d='M 316.6,75.0 L 300.3,103.2' style='fill:none;fill-rule:evenodd;stroke:#000000;stroke-width:2.0px;stroke-linecap:butt;stroke-linejoin:miter;stroke-opacity:1' />\n",
              "<path class='bond-1 atom-1 atom-2' d='M 303.7,109.1 L 264.4,109.1' style='fill:none;fill-rule:evenodd;stroke:#000000;stroke-width:2.0px;stroke-linecap:butt;stroke-linejoin:miter;stroke-opacity:1' />\n",
              "<path class='bond-2 atom-2 atom-3' d='M 264.4,109.1 L 244.7,143.2' style='fill:none;fill-rule:evenodd;stroke:#000000;stroke-width:2.0px;stroke-linecap:butt;stroke-linejoin:miter;stroke-opacity:1' />\n",
              "<path class='bond-2 atom-2 atom-3' d='M 257.5,109.1 L 241.3,137.3' style='fill:none;fill-rule:evenodd;stroke:#000000;stroke-width:2.0px;stroke-linecap:butt;stroke-linejoin:miter;stroke-opacity:1' />\n",
              "<path class='bond-3 atom-3 atom-4' d='M 244.7,143.2 L 205.3,143.2' style='fill:none;fill-rule:evenodd;stroke:#000000;stroke-width:2.0px;stroke-linecap:butt;stroke-linejoin:miter;stroke-opacity:1' />\n",
              "<path class='bond-4 atom-4 atom-5' d='M 205.3,143.2 L 185.6,109.1' style='fill:none;fill-rule:evenodd;stroke:#000000;stroke-width:2.0px;stroke-linecap:butt;stroke-linejoin:miter;stroke-opacity:1' />\n",
              "<path class='bond-4 atom-4 atom-5' d='M 208.7,137.3 L 192.5,109.1' style='fill:none;fill-rule:evenodd;stroke:#000000;stroke-width:2.0px;stroke-linecap:butt;stroke-linejoin:miter;stroke-opacity:1' />\n",
              "<path class='bond-5 atom-5 atom-6' d='M 185.6,109.1 L 146.3,109.1' style='fill:none;fill-rule:evenodd;stroke:#000000;stroke-width:2.0px;stroke-linecap:butt;stroke-linejoin:miter;stroke-opacity:1' />\n",
              "<path class='bond-6 atom-6 atom-7' d='M 146.3,109.1 L 126.6,75.0' style='fill:none;fill-rule:evenodd;stroke:#000000;stroke-width:2.0px;stroke-linecap:butt;stroke-linejoin:miter;stroke-opacity:1' />\n",
              "<path class='bond-6 atom-6 atom-7' d='M 149.7,103.2 L 133.4,75.0' style='fill:none;fill-rule:evenodd;stroke:#000000;stroke-width:2.0px;stroke-linecap:butt;stroke-linejoin:miter;stroke-opacity:1' />\n",
              "<path class='bond-7 atom-7 atom-8' d='M 126.6,75.0 L 146.3,40.9' style='fill:none;fill-rule:evenodd;stroke:#000000;stroke-width:2.0px;stroke-linecap:butt;stroke-linejoin:miter;stroke-opacity:1' />\n",
              "<path class='bond-8 atom-8 atom-9' d='M 146.3,40.9 L 185.6,40.9' style='fill:none;fill-rule:evenodd;stroke:#000000;stroke-width:2.0px;stroke-linecap:butt;stroke-linejoin:miter;stroke-opacity:1' />\n",
              "<path class='bond-8 atom-8 atom-9' d='M 149.7,46.8 L 182.2,46.8' style='fill:none;fill-rule:evenodd;stroke:#000000;stroke-width:2.0px;stroke-linecap:butt;stroke-linejoin:miter;stroke-opacity:1' />\n",
              "<path class='bond-9 atom-9 atom-10' d='M 185.6,40.9 L 205.3,6.8' style='fill:none;fill-rule:evenodd;stroke:#000000;stroke-width:2.0px;stroke-linecap:butt;stroke-linejoin:miter;stroke-opacity:1' />\n",
              "<path class='bond-10 atom-10 atom-11' d='M 205.3,6.8 L 244.7,6.8' style='fill:none;fill-rule:evenodd;stroke:#000000;stroke-width:2.0px;stroke-linecap:butt;stroke-linejoin:miter;stroke-opacity:1' />\n",
              "<path class='bond-10 atom-10 atom-11' d='M 208.7,12.7 L 241.3,12.7' style='fill:none;fill-rule:evenodd;stroke:#000000;stroke-width:2.0px;stroke-linecap:butt;stroke-linejoin:miter;stroke-opacity:1' />\n",
              "<path class='bond-11 atom-11 atom-12' d='M 244.7,6.8 L 264.4,40.9' style='fill:none;fill-rule:evenodd;stroke:#000000;stroke-width:2.0px;stroke-linecap:butt;stroke-linejoin:miter;stroke-opacity:1' />\n",
              "<path class='bond-12 atom-12 atom-13' d='M 264.4,40.9 L 303.7,40.9' style='fill:none;fill-rule:evenodd;stroke:#000000;stroke-width:2.0px;stroke-linecap:butt;stroke-linejoin:miter;stroke-opacity:1' />\n",
              "<path class='bond-12 atom-12 atom-13' d='M 267.8,46.8 L 300.3,46.8' style='fill:none;fill-rule:evenodd;stroke:#000000;stroke-width:2.0px;stroke-linecap:butt;stroke-linejoin:miter;stroke-opacity:1' />\n",
              "<path class='bond-13 atom-12 atom-14' d='M 264.4,40.9 L 244.7,75.0' style='fill:none;fill-rule:evenodd;stroke:#000000;stroke-width:2.0px;stroke-linecap:butt;stroke-linejoin:miter;stroke-opacity:1' />\n",
              "<path class='bond-14 atom-14 atom-15' d='M 244.7,75.0 L 205.3,75.0' style='fill:none;fill-rule:evenodd;stroke:#000000;stroke-width:2.0px;stroke-linecap:butt;stroke-linejoin:miter;stroke-opacity:1' />\n",
              "<path class='bond-14 atom-14 atom-15' d='M 241.3,80.9 L 208.7,80.9' style='fill:none;fill-rule:evenodd;stroke:#000000;stroke-width:2.0px;stroke-linecap:butt;stroke-linejoin:miter;stroke-opacity:1' />\n",
              "<path class='bond-15 atom-13 atom-0' d='M 303.7,40.9 L 323.4,75.0' style='fill:none;fill-rule:evenodd;stroke:#000000;stroke-width:2.0px;stroke-linecap:butt;stroke-linejoin:miter;stroke-opacity:1' />\n",
              "<path class='bond-16 atom-14 atom-2' d='M 244.7,75.0 L 264.4,109.1' style='fill:none;fill-rule:evenodd;stroke:#000000;stroke-width:2.0px;stroke-linecap:butt;stroke-linejoin:miter;stroke-opacity:1' />\n",
              "<path class='bond-17 atom-15 atom-5' d='M 205.3,75.0 L 185.6,109.1' style='fill:none;fill-rule:evenodd;stroke:#000000;stroke-width:2.0px;stroke-linecap:butt;stroke-linejoin:miter;stroke-opacity:1' />\n",
              "<path class='bond-18 atom-15 atom-9' d='M 205.3,75.0 L 185.6,40.9' style='fill:none;fill-rule:evenodd;stroke:#000000;stroke-width:2.0px;stroke-linecap:butt;stroke-linejoin:miter;stroke-opacity:1' />\n",
              "<path d='M 322.4,76.7 L 323.4,75.0 L 322.4,73.3' style='fill:none;stroke:#000000;stroke-width:2.0px;stroke-linecap:butt;stroke-linejoin:miter;stroke-opacity:1;' />\n",
              "<path d='M 304.7,107.4 L 303.7,109.1 L 301.8,109.1' style='fill:none;stroke:#000000;stroke-width:2.0px;stroke-linecap:butt;stroke-linejoin:miter;stroke-opacity:1;' />\n",
              "<path d='M 245.7,141.5 L 244.7,143.2 L 242.7,143.2' style='fill:none;stroke:#000000;stroke-width:2.0px;stroke-linecap:butt;stroke-linejoin:miter;stroke-opacity:1;' />\n",
              "<path d='M 207.3,143.2 L 205.3,143.2 L 204.3,141.5' style='fill:none;stroke:#000000;stroke-width:2.0px;stroke-linecap:butt;stroke-linejoin:miter;stroke-opacity:1;' />\n",
              "<path d='M 148.2,109.1 L 146.3,109.1 L 145.3,107.4' style='fill:none;stroke:#000000;stroke-width:2.0px;stroke-linecap:butt;stroke-linejoin:miter;stroke-opacity:1;' />\n",
              "<path d='M 127.6,76.7 L 126.6,75.0 L 127.6,73.3' style='fill:none;stroke:#000000;stroke-width:2.0px;stroke-linecap:butt;stroke-linejoin:miter;stroke-opacity:1;' />\n",
              "<path d='M 145.3,42.6 L 146.3,40.9 L 148.2,40.9' style='fill:none;stroke:#000000;stroke-width:2.0px;stroke-linecap:butt;stroke-linejoin:miter;stroke-opacity:1;' />\n",
              "<path d='M 204.3,8.5 L 205.3,6.8 L 207.3,6.8' style='fill:none;stroke:#000000;stroke-width:2.0px;stroke-linecap:butt;stroke-linejoin:miter;stroke-opacity:1;' />\n",
              "<path d='M 242.7,6.8 L 244.7,6.8 L 245.7,8.5' style='fill:none;stroke:#000000;stroke-width:2.0px;stroke-linecap:butt;stroke-linejoin:miter;stroke-opacity:1;' />\n",
              "<path d='M 301.8,40.9 L 303.7,40.9 L 304.7,42.6' style='fill:none;stroke:#000000;stroke-width:2.0px;stroke-linecap:butt;stroke-linejoin:miter;stroke-opacity:1;' />\n",
              "</svg>\n"
            ],
            "text/plain": [
              "<rdkit.Chem.rdchem.Mol at 0x149e94f40>"
            ]
          },
          "execution_count": 8,
          "metadata": {},
          "output_type": "execute_result"
        }
      ],
      "source": [
        "Chem.MolFromSmiles(smi)"
      ]
    },
    {
      "cell_type": "code",
      "execution_count": 9,
      "metadata": {
        "colab": {
          "base_uri": "https://localhost:8080/"
        },
        "id": "Kj9vN8w-2bza",
        "outputId": "6366d6fc-bc55-4225-cd12-b904f47419a1"
      },
      "outputs": [
        {
          "data": {
            "text/plain": [
              "[[5, 6],\n",
              " [13, 8],\n",
              " [12, 7],\n",
              " [7, 13],\n",
              " [9, 12],\n",
              " [0, 10],\n",
              " [11, 0],\n",
              " [2, 3],\n",
              " [1, 11],\n",
              " [10, 4],\n",
              " [5, 9, 14],\n",
              " [8, 6, 14],\n",
              " [4, 2, 15],\n",
              " [3, 1, 15],\n",
              " [11, 15, 10],\n",
              " [14, 12, 13]]"
            ]
          },
          "execution_count": 9,
          "metadata": {},
          "output_type": "execute_result"
        }
      ],
      "source": [
        "test_dataset.X[0].get_adjacency_list()"
      ]
    },
    {
      "cell_type": "markdown",
      "metadata": {
        "id": "za90dUb37sIN"
      },
      "source": [
        "## 한 샘플씩 읽는 방법"
      ]
    },
    {
      "cell_type": "markdown",
      "metadata": {
        "id": "_Zcd7jTd5zGr"
      },
      "source": [
        "- `itersamples()` 사용하며 소수의 샘플만 읽음으로써 메모리 처리 속도를 높일 수 있다"
      ]
    },
    {
      "cell_type": "code",
      "execution_count": 10,
      "metadata": {
        "colab": {
          "base_uri": "https://localhost:8080/"
        },
        "id": "LJc90fs_5zGs",
        "outputId": "4257ffde-e727-4d6e-d5a9-37664fb52ee9"
      },
      "outputs": [
        {
          "name": "stdout",
          "output_type": "stream",
          "text": [
            "[-1.60114461] c1cc2ccc3cccc4ccc(c1)c2c34\n",
            "[0.20848251] Cc1cc(=O)[nH]c(=S)[nH]1\n",
            "[-0.01602738] Oc1ccc(cc1)C2(OC(=O)c3ccccc23)c4ccc(O)cc4 \n",
            "[-2.82191713] c1ccc2c(c1)cc3ccc4cccc5ccc2c3c45\n",
            "[-0.52891635] C1=Cc2cccc3cccc1c23\n",
            "[1.10168349] CC1CO1\n",
            "[-0.88987406] CCN2c1ccccc1N(C)C(=S)c3cccnc23 \n",
            "[-0.52649706] CC12CCC3C(CCc4cc(O)ccc34)C2CCC1=O\n",
            "[-0.76358725] Cn2cc(c1ccccc1)c(=O)c(c2)c3cccc(c3)C(F)(F)F\n",
            "[-0.64020358] ClC(Cl)(Cl)C(NC=O)N1C=CN(C=C1)C(NC=O)C(Cl)(Cl)Cl \n",
            "[-0.38569452] COc2c1occc1cc3ccc(=O)oc23 \n",
            "[-0.62568785] CN2C(=C(O)c1ccccc1S2(=O)=O)C(=O)Nc3ccccn3 \n",
            "[-0.39585553] Cc3cc2nc1c(=O)[nH]c(=O)nc1n(CC(O)C(O)C(O)CO)c2cc3C\n",
            "[-2.05306753] c1ccc(cc1)c2ccc(cc2)c3ccccc3\n",
            "[-0.29666474] CC34CC(=O)C1C(CCC2=CC(=O)CCC12C)C3CCC4(=O) \n",
            "[-0.73213651] c1ccc2c(c1)sc3ccccc23\n",
            "[-1.27744393] CC23Cc1cnoc1C=C2CCC4C3CCC5(C)C4CCC5(O)C#C\n",
            "[0.0081655] OC(C(=O)c1ccccc1)c2ccccc2\n",
            "[0.97588054] OCC2OC(Oc1ccccc1CO)C(O)C(O)C2O\n",
            "[-0.10796031] CC3C2CCC1(C)C=CC(=O)C(=C1C2OC3=O)C\n",
            "[0.59847167] O=Cc2ccc1OCOc1c2 \n",
            "[-0.60149498] CC1CCCCC1NC(=O)Nc2ccccc2\n",
            "[-0.34988907] CC(=O)N(S(=O)c1ccc(N)cc1)c2onc(C)c2C \n",
            "[0.34686576] C1N(C(=O)NCC(C)C)C(=O)NC1\n",
            "[0.62750312] CNC(=O)Oc1ccccc1C2OCCO2\n",
            "[0.14848418] CC1=C(CCCO1)C(=O)Nc2ccccc2 \n",
            "[0.02268122] Cn2c(=O)on(c1ccc(Cl)c(Cl)c1)c2=O\n",
            "[-0.85310089] C1Cc2cccc3cccc1c23\n",
            "[-2.72079091] c1ccc2cc3c4cccc5cccc(c3cc2c1)c45\n",
            "[0.42476682] Nc1cc(nc(N)n1=O)N2CCCCC2 \n",
            "[0.01300407] O=c2c(C3CCCc4ccccc43)c(O)c1ccccc1o2 \n",
            "[-2.4851523] CC(C)C(Nc1ccc(cc1Cl)C(F)(F)F)C(=O)OC(C#N)c2cccc(Oc3ccccc3)c2\n",
            "[-2.15516147] Cc1c(F)c(F)c(COC(=O)C2C(C=C(Cl)C(F)(F)F)C2(C)C)c(F)c1F\n",
            "[1.00975056] c2ccc1[nH]nnc1c2\n",
            "[0.82588471] c2ccc1ocnc1c2\n",
            "[-0.90390593] CCOC(=O)c1cncn1C(C)c2ccccc2\n",
            "[-0.91067993] CCN2c1ccccc1N(C)C(=O)c3ccccc23 \n",
            "[-0.82455329] OCC(O)COC(=O)c1ccccc1Nc2ccnc3cc(Cl)ccc23\n",
            "[1.26909819] OCC1OC(OC2C(O)C(O)C(O)OC2CO)C(O)C(O)C1O\n",
            "[-1.14825397] CC34CCc1c(ccc2cc(O)ccc12)C3CCC4=O\n",
            "[-2.1343556] ClC1=C(Cl)C(Cl)(C(=C1Cl)Cl)C2(Cl)C(=C(Cl)C(=C2Cl)Cl)Cl\n",
            "[-1.15744727] ClC1(C(=O)C2(Cl)C3(Cl)C14Cl)C5(Cl)C2(Cl)C3(Cl)C(Cl)(Cl)C45Cl\n",
            "[-0.1045733] Oc1ccc(c(O)c1)c3oc2cc(O)cc(O)c2c(=O)c3O \n",
            "[0.53073162] C1SC(=S)NC1(=O)\n",
            "[-1.22567118] ClC(Cl)C(Cl)(Cl)SN2C(=O)C1CC=CCC1C2=O \n",
            "[-1.66452995] ClC1=C(Cl)C2(Cl)C3C4CC(C=C4)C3C1(Cl)C2(Cl)Cl\n",
            "[0.24525568] CC(=O)Nc1nnc(s1)S(N)(=O)=O \n",
            "[-0.13215318] CC1=C(SCCO1)C(=O)Nc2ccccc2\n",
            "[-0.97067826] CN(C(=O)COc1nc2ccccc2s1)c3ccccc3\n",
            "[-0.23376326] CN(C(=O)NC(C)(C)c1ccccc1)c2ccccc2\n",
            "[1.21297072] Nc1nccs1 \n",
            "[-1.2595412] CN(C=Nc1ccc(C)cc1C)C=Nc2ccc(C)cc2C\n",
            "[0.49686159] OCC(O)C2OC1OC(OC1C2O)C(Cl)(Cl)Cl \n",
            "[0.22396595] Nc3nc(N)c2nc(c1ccccc1)c(N)nc2n3\n",
            "[-0.44182199] CC2Nc1cc(Cl)c(cc1C(=O)N2c3ccccc3C)S(N)(=O)=O \n",
            "[0.47895886] CN1CC(O)N(C1=O)c2nnc(s2)C(C)(C)C\n",
            "[0.08267956] CCC1(C(=O)NC(=O)NC1=O)C2=CCC3CCC2C3\n",
            "[-1.51840498] CCC(C)C(=O)OC2CC(C)C=C3C=CC(C)C(CCC1CC(O)CC(=O)O1)C23 \n",
            "[-0.34795364] CC2Cc1ccccc1N2NC(=O)c3ccc(Cl)c(c3)S(N)(=O)=O \n",
            "[-0.83858516] o1c2ccccc2c3ccccc13\n",
            "[-0.13699176] O=C(Nc1ccccc1)Nc2ccccc2\n",
            "[-2.59498796] c1ccc2c(c1)c3cccc4c3c2cc5ccccc54\n",
            "[0.13106531] COc1ccc(cc1)C(O)(C2CC2)c3cncnc3 \n",
            "[0.09042128] c1cnc2c(c1)ccc3ncccc23\n",
            "[1.18877785] OCC1OC(CO)(OC2OC(COC3OC(CO)C(O)C(O)C3O)C(O)C(O)C2O)C(O)C1O\n",
            "[-0.82697258] CCOC(=O)c1ccccc1S(=O)(=O)NN(C=O)c2nc(Cl)cc(OC)n2\n",
            "[-1.16857599] CC34CCC1C(=CCc2cc(O)ccc12)C3CCC4=O\n",
            "[0.37589721] CN(C)C(=O)Oc1cc(C)nn1c2ccccc2\n",
            "[-0.24344041] OC(Cn1cncn1)(c2ccc(F)cc2)c3ccccc3F\n",
            "[-2.00952036] Cc1c2ccccc2c(C)c3ccc4ccccc4c13\n",
            "[-0.59181783] Cc3nnc4CN=C(c1ccccc1Cl)c2cc(Cl)ccc2n34\n",
            "[-0.15634606] Cc3ccnc4N(C1CC1)c2ncccc2C(=O)Nc34 \n",
            "[-2.87272217] c1cc2cccc3c4cccc5cccc(c(c1)c23)c54\n",
            "[-0.34069577] COc1cc(cc(OC)c1O)C6C2C(COC2=O)C(OC4OC3COC(C)OC3C(O)C4O)c7cc5OCOc5cc67\n",
            "[0.27622256] O=c1[nH]cnc2nc[nH]c12 \n",
            "[-2.15467761] C1C(O)CCC2(C)CC3CCC4(C)C5(C)CC6OCC(C)CC6OC5CC4C3C=C21\n",
            "[-0.02812382] Cc1ccccc1n3c(C)nc2ccccc2c3=O\n",
            "[-2.77401524] CCOc1ccc(cc1)C(C)(C)COCc3cccc(Oc2ccccc2)c3\n",
            "[0.25638441] CCC1(CCC(=O)NC1=O)c2ccccc2 \n",
            "[0.84040043] CC1CC(C)C(=O)C(C1)C(O)CC2CC(=O)NC(=O)C2 \n",
            "[-0.86277804] CC(=O)C3CCC4C2CC=C1CC(O)CCC1(C)C2CCC34C \n",
            "[-1.52082426] Cc1ccc(OP(=O)(Oc2cccc(C)c2)Oc3ccccc3C)cc1\n",
            "[0.29702844] CSc1nnc(c(=O)n1N)C(C)(C)C\n",
            "[0.44363727] Nc1ncnc2n(ccc12)C3OC(CO)C(O)C3O \n",
            "[0.47460415] O=C2NC(=O)C1(CC1)C(=O)N2 \n",
            "[-0.08376743] C1Cc2ccccc2C1\n",
            "[0.68556602] c1ccc2cnccc2c1\n",
            "[0.79201468] OCC1OC(C(O)C1O)n2cnc3c(O)ncnc23\n",
            "[-1.2401869] c2(Cl)c(Cl)c(Cl)c1nccnc1c2(Cl) \n",
            "[0.6129874] C1OC1c2ccccc2 \n",
            "[-0.58214068] CCC(=C(CC)c1ccc(O)cc1)c2ccc(O)cc2 \n",
            "[-1.51598569] c1ccc2c(c1)c3cccc4cccc2c34\n",
            "[-1.93984487] CC(C)C(C(=O)OC(C#N)c1cccc(Oc2ccccc2)c1)c3ccc(OC(F)F)cc3\n",
            "[-0.30295489] CCCC1COC(Cn2cncn2)(O1)c3ccc(Cl)cc3Cl\n",
            "[-0.24827899] O=C2CN(N=Cc1ccc(o1)N(=O)=O)C(=O)N2 \n",
            "[1.06442646] NC(=O)c1cnccn1\n",
            "[-1.48259952] OC4=C(C1CCC(CC1)c2ccc(Cl)cc2)C(=O)c3ccccc3C4=O\n",
            "[0.0275198] O=C(Cn1ccnc1N(=O)=O)NCc2ccccc2\n",
            "[0.33718861] CCC1(C(=O)NC(=O)NC1=O)C2=CCCCC2 \n",
            "[-0.91600236] COC(=O)C1=C(C)NC(=C(C1c2ccccc2N(=O)=O)C(=O)OC)C \n",
            "[0.58637523] O=C2NC(=O)C1(CCC1)C(=O)N2\n",
            "[-0.62084928] CCCOP(=S)(OCCC)SCC(=O)N1CCCCC1C\n",
            "[-0.30827732] N(c1ccccc1)c2ccccc2\n",
            "[-1.95145746] ClC(Cl)=C(c1ccc(Cl)cc1)c2ccc(Cl)cc2\n",
            "[-0.83568202] O=c2[nH]c1CCCc1c(=O)n2C3CCCCC3\n",
            "[0.10977558] CCC1(C(=O)NCNC1=O)c2ccccc2\n",
            "[1.90488697] O=C1CCCN1\n",
            "[-0.75149081] COc5cc4OCC3Oc2c1CC(Oc1ccc2C(=O)C3c4cc5OC)C(C)=C \n",
            "[-1.65630437] ClC4=C(Cl)C5(Cl)C3C1CC(C2OC12)C3C4(Cl)C5(Cl)Cl\n",
            "[0.74362893] c1ccsc1\n",
            "[-2.42079925] c1ccc2c(c1)ccc3c2ccc4c5ccccc5ccc43\n",
            "[-0.20957039] Cc1occc1C(=O)Nc2ccccc2\n",
            "[1.01458914] OCC3OC(OCC2OC(OC(C#N)c1ccccc1)C(O)C(O)C2O)C(O)C(O)C3O \n"
          ]
        }
      ],
      "source": [
        "for X, y, w, ids in test_dataset.itersamples():\n",
        "    print(y, ids)"
      ]
    },
    {
      "cell_type": "markdown",
      "metadata": {
        "id": "aQa88cbj5zGw"
      },
      "source": [
        "## 배치 단위로 읽는 방법\n",
        "\n",
        "- use `iterbatches()` to iterate over batches of samples."
      ]
    },
    {
      "cell_type": "code",
      "execution_count": 11,
      "metadata": {
        "colab": {
          "base_uri": "https://localhost:8080/"
        },
        "id": "HSVqeYox5zGx",
        "outputId": "44154cae-201c-451e-e9b7-bd2ae5ee3efa"
      },
      "outputs": [
        {
          "name": "stdout",
          "output_type": "stream",
          "text": [
            "(50, 1)\n",
            "(50, 1)\n",
            "(13, 1)\n"
          ]
        }
      ],
      "source": [
        "for X, y, w, ids in test_dataset.iterbatches(batch_size=50):\n",
        "    print(y.shape)"
      ]
    },
    {
      "cell_type": "markdown",
      "metadata": {
        "id": "JmkFn6cH6G3I"
      },
      "source": [
        "## 데이터를 읽는 다른 방법\n",
        "- `iterbatches(batch_size=100, epochs=10, deterministic=False)` \n",
        " - epoch를 지정할 수 있으며, 읽을 때마다 순서를 랜덤하게 바꾼다\n",
        "- `to_dataframe()`을 사용하면 데이터프레임으로 읽는다\n",
        "- TensorFlow 타입, 즉 `tensorflow.data.Dataset`을 얻으려면 `make_tf_dataset()`를 사용한다  \n",
        "- Torch 타입의 `torch.utils.data.IterableDataset`을 얻으려면 `make_pytorch_dataset()`를 사용한다\n",
        "\n"
      ]
    },
    {
      "cell_type": "code",
      "execution_count": 12,
      "metadata": {
        "colab": {
          "base_uri": "https://localhost:8080/",
          "height": 661
        },
        "id": "key8ZuQ36G3J",
        "outputId": "c0ec8c02-42c5-4ead-8c03-486498587dd0"
      },
      "outputs": [
        {
          "data": {
            "text/html": [
              "<div>\n",
              "<style scoped>\n",
              "    .dataframe tbody tr th:only-of-type {\n",
              "        vertical-align: middle;\n",
              "    }\n",
              "\n",
              "    .dataframe tbody tr th {\n",
              "        vertical-align: top;\n",
              "    }\n",
              "\n",
              "    .dataframe thead th {\n",
              "        text-align: right;\n",
              "    }\n",
              "</style>\n",
              "<table border=\"1\" class=\"dataframe\">\n",
              "  <thead>\n",
              "    <tr style=\"text-align: right;\">\n",
              "      <th></th>\n",
              "      <th>X</th>\n",
              "      <th>y</th>\n",
              "      <th>w</th>\n",
              "      <th>ids</th>\n",
              "    </tr>\n",
              "  </thead>\n",
              "  <tbody>\n",
              "    <tr>\n",
              "      <th>0</th>\n",
              "      <td>&lt;deepchem.feat.mol_graphs.ConvMol object at 0x...</td>\n",
              "      <td>-1.601145</td>\n",
              "      <td>1.0</td>\n",
              "      <td>c1cc2ccc3cccc4ccc(c1)c2c34</td>\n",
              "    </tr>\n",
              "    <tr>\n",
              "      <th>1</th>\n",
              "      <td>&lt;deepchem.feat.mol_graphs.ConvMol object at 0x...</td>\n",
              "      <td>0.208483</td>\n",
              "      <td>1.0</td>\n",
              "      <td>Cc1cc(=O)[nH]c(=S)[nH]1</td>\n",
              "    </tr>\n",
              "    <tr>\n",
              "      <th>2</th>\n",
              "      <td>&lt;deepchem.feat.mol_graphs.ConvMol object at 0x...</td>\n",
              "      <td>-0.016027</td>\n",
              "      <td>1.0</td>\n",
              "      <td>Oc1ccc(cc1)C2(OC(=O)c3ccccc23)c4ccc(O)cc4</td>\n",
              "    </tr>\n",
              "    <tr>\n",
              "      <th>3</th>\n",
              "      <td>&lt;deepchem.feat.mol_graphs.ConvMol object at 0x...</td>\n",
              "      <td>-2.821917</td>\n",
              "      <td>1.0</td>\n",
              "      <td>c1ccc2c(c1)cc3ccc4cccc5ccc2c3c45</td>\n",
              "    </tr>\n",
              "    <tr>\n",
              "      <th>4</th>\n",
              "      <td>&lt;deepchem.feat.mol_graphs.ConvMol object at 0x...</td>\n",
              "      <td>-0.528916</td>\n",
              "      <td>1.0</td>\n",
              "      <td>C1=Cc2cccc3cccc1c23</td>\n",
              "    </tr>\n",
              "    <tr>\n",
              "      <th>...</th>\n",
              "      <td>...</td>\n",
              "      <td>...</td>\n",
              "      <td>...</td>\n",
              "      <td>...</td>\n",
              "    </tr>\n",
              "    <tr>\n",
              "      <th>108</th>\n",
              "      <td>&lt;deepchem.feat.mol_graphs.ConvMol object at 0x...</td>\n",
              "      <td>-1.656304</td>\n",
              "      <td>1.0</td>\n",
              "      <td>ClC4=C(Cl)C5(Cl)C3C1CC(C2OC12)C3C4(Cl)C5(Cl)Cl</td>\n",
              "    </tr>\n",
              "    <tr>\n",
              "      <th>109</th>\n",
              "      <td>&lt;deepchem.feat.mol_graphs.ConvMol object at 0x...</td>\n",
              "      <td>0.743629</td>\n",
              "      <td>1.0</td>\n",
              "      <td>c1ccsc1</td>\n",
              "    </tr>\n",
              "    <tr>\n",
              "      <th>110</th>\n",
              "      <td>&lt;deepchem.feat.mol_graphs.ConvMol object at 0x...</td>\n",
              "      <td>-2.420799</td>\n",
              "      <td>1.0</td>\n",
              "      <td>c1ccc2c(c1)ccc3c2ccc4c5ccccc5ccc43</td>\n",
              "    </tr>\n",
              "    <tr>\n",
              "      <th>111</th>\n",
              "      <td>&lt;deepchem.feat.mol_graphs.ConvMol object at 0x...</td>\n",
              "      <td>-0.209570</td>\n",
              "      <td>1.0</td>\n",
              "      <td>Cc1occc1C(=O)Nc2ccccc2</td>\n",
              "    </tr>\n",
              "    <tr>\n",
              "      <th>112</th>\n",
              "      <td>&lt;deepchem.feat.mol_graphs.ConvMol object at 0x...</td>\n",
              "      <td>1.014589</td>\n",
              "      <td>1.0</td>\n",
              "      <td>OCC3OC(OCC2OC(OC(C#N)c1ccccc1)C(O)C(O)C2O)C(O)...</td>\n",
              "    </tr>\n",
              "  </tbody>\n",
              "</table>\n",
              "<p>113 rows × 4 columns</p>\n",
              "</div>"
            ],
            "text/plain": [
              "                                                     X         y    w  \\\n",
              "0    <deepchem.feat.mol_graphs.ConvMol object at 0x... -1.601145  1.0   \n",
              "1    <deepchem.feat.mol_graphs.ConvMol object at 0x...  0.208483  1.0   \n",
              "2    <deepchem.feat.mol_graphs.ConvMol object at 0x... -0.016027  1.0   \n",
              "3    <deepchem.feat.mol_graphs.ConvMol object at 0x... -2.821917  1.0   \n",
              "4    <deepchem.feat.mol_graphs.ConvMol object at 0x... -0.528916  1.0   \n",
              "..                                                 ...       ...  ...   \n",
              "108  <deepchem.feat.mol_graphs.ConvMol object at 0x... -1.656304  1.0   \n",
              "109  <deepchem.feat.mol_graphs.ConvMol object at 0x...  0.743629  1.0   \n",
              "110  <deepchem.feat.mol_graphs.ConvMol object at 0x... -2.420799  1.0   \n",
              "111  <deepchem.feat.mol_graphs.ConvMol object at 0x... -0.209570  1.0   \n",
              "112  <deepchem.feat.mol_graphs.ConvMol object at 0x...  1.014589  1.0   \n",
              "\n",
              "                                                   ids  \n",
              "0                           c1cc2ccc3cccc4ccc(c1)c2c34  \n",
              "1                              Cc1cc(=O)[nH]c(=S)[nH]1  \n",
              "2           Oc1ccc(cc1)C2(OC(=O)c3ccccc23)c4ccc(O)cc4   \n",
              "3                     c1ccc2c(c1)cc3ccc4cccc5ccc2c3c45  \n",
              "4                                  C1=Cc2cccc3cccc1c23  \n",
              "..                                                 ...  \n",
              "108     ClC4=C(Cl)C5(Cl)C3C1CC(C2OC12)C3C4(Cl)C5(Cl)Cl  \n",
              "109                                            c1ccsc1  \n",
              "110                 c1ccc2c(c1)ccc3c2ccc4c5ccccc5ccc43  \n",
              "111                             Cc1occc1C(=O)Nc2ccccc2  \n",
              "112  OCC3OC(OCC2OC(OC(C#N)c1ccccc1)C(O)C(O)C2O)C(O)...  \n",
              "\n",
              "[113 rows x 4 columns]"
            ]
          },
          "execution_count": 12,
          "metadata": {},
          "output_type": "execute_result"
        }
      ],
      "source": [
        "test_dataset.to_dataframe()"
      ]
    },
    {
      "cell_type": "code",
      "execution_count": 13,
      "metadata": {
        "colab": {
          "base_uri": "https://localhost:8080/"
        },
        "id": "6oEHVbEEImIS",
        "outputId": "1b1879dd-523b-43f5-96fa-4df5a5e5f6cb"
      },
      "outputs": [
        {
          "name": "stdout",
          "output_type": "stream",
          "text": [
            "[<deepchem.trans.transformers.NormalizationTransformer object at 0x14951e940>]\n"
          ]
        }
      ],
      "source": [
        "print(transformers)"
      ]
    },
    {
      "cell_type": "markdown",
      "metadata": {
        "id": "sqr0H7Il6G3J"
      },
      "source": [
        "# Datasets 새로 생성하기\n",
        "\n",
        "- `NumpyDataset`을 사용하여 DeepChem Dataset을 만들 수 있다"
      ]
    },
    {
      "cell_type": "code",
      "execution_count": 14,
      "metadata": {
        "colab": {
          "base_uri": "https://localhost:8080/"
        },
        "id": "k6lbbQ_t6G3J",
        "outputId": "6a848389-8e1e-4374-a525-fdc9cf16b5b9"
      },
      "outputs": [
        {
          "name": "stdout",
          "output_type": "stream",
          "text": [
            "<NumpyDataset X.shape: (10, 5), y.shape: (10, 2), w.shape: (10, 1), ids: [0 1 2 3 4 5 6 7 8 9], task_names: [0 1]>\n"
          ]
        }
      ],
      "source": [
        "import numpy as np\n",
        "\n",
        "X = np.random.random((10, 5))\n",
        "y = np.random.random((10, 2))\n",
        "dataset = dc.data.NumpyDataset(X=X, y=y)\n",
        "print(dataset)"
      ]
    },
    {
      "cell_type": "markdown",
      "metadata": {
        "id": "N-6TRc6T6G3J"
      },
      "source": [
        "- weights 와 IDs는 자동으로 배정되었다.  (w=1)"
      ]
    },
    {
      "cell_type": "code",
      "execution_count": 15,
      "metadata": {
        "colab": {
          "base_uri": "https://localhost:8080/",
          "height": 363
        },
        "id": "BiwYmuCO6G3K",
        "outputId": "ebd3a1e8-5a8e-47e5-c28b-dba9a028e3c2"
      },
      "outputs": [
        {
          "data": {
            "text/html": [
              "<div>\n",
              "<style scoped>\n",
              "    .dataframe tbody tr th:only-of-type {\n",
              "        vertical-align: middle;\n",
              "    }\n",
              "\n",
              "    .dataframe tbody tr th {\n",
              "        vertical-align: top;\n",
              "    }\n",
              "\n",
              "    .dataframe thead th {\n",
              "        text-align: right;\n",
              "    }\n",
              "</style>\n",
              "<table border=\"1\" class=\"dataframe\">\n",
              "  <thead>\n",
              "    <tr style=\"text-align: right;\">\n",
              "      <th></th>\n",
              "      <th>X1</th>\n",
              "      <th>X2</th>\n",
              "      <th>X3</th>\n",
              "      <th>X4</th>\n",
              "      <th>X5</th>\n",
              "      <th>y1</th>\n",
              "      <th>y2</th>\n",
              "      <th>w</th>\n",
              "      <th>ids</th>\n",
              "    </tr>\n",
              "  </thead>\n",
              "  <tbody>\n",
              "    <tr>\n",
              "      <th>0</th>\n",
              "      <td>0.902870</td>\n",
              "      <td>0.664774</td>\n",
              "      <td>0.720114</td>\n",
              "      <td>0.816187</td>\n",
              "      <td>0.657662</td>\n",
              "      <td>0.826276</td>\n",
              "      <td>0.400358</td>\n",
              "      <td>1.0</td>\n",
              "      <td>0</td>\n",
              "    </tr>\n",
              "    <tr>\n",
              "      <th>1</th>\n",
              "      <td>0.712157</td>\n",
              "      <td>0.199485</td>\n",
              "      <td>0.448038</td>\n",
              "      <td>0.393425</td>\n",
              "      <td>0.119277</td>\n",
              "      <td>0.220148</td>\n",
              "      <td>0.552145</td>\n",
              "      <td>1.0</td>\n",
              "      <td>1</td>\n",
              "    </tr>\n",
              "    <tr>\n",
              "      <th>2</th>\n",
              "      <td>0.668112</td>\n",
              "      <td>0.537428</td>\n",
              "      <td>0.791423</td>\n",
              "      <td>0.468784</td>\n",
              "      <td>0.320038</td>\n",
              "      <td>0.592736</td>\n",
              "      <td>0.710856</td>\n",
              "      <td>1.0</td>\n",
              "      <td>2</td>\n",
              "    </tr>\n",
              "    <tr>\n",
              "      <th>3</th>\n",
              "      <td>0.397146</td>\n",
              "      <td>0.366805</td>\n",
              "      <td>0.824932</td>\n",
              "      <td>0.977187</td>\n",
              "      <td>0.075769</td>\n",
              "      <td>0.658897</td>\n",
              "      <td>0.315929</td>\n",
              "      <td>1.0</td>\n",
              "      <td>3</td>\n",
              "    </tr>\n",
              "    <tr>\n",
              "      <th>4</th>\n",
              "      <td>0.652457</td>\n",
              "      <td>0.988727</td>\n",
              "      <td>0.528553</td>\n",
              "      <td>0.635586</td>\n",
              "      <td>0.079865</td>\n",
              "      <td>0.329952</td>\n",
              "      <td>0.132867</td>\n",
              "      <td>1.0</td>\n",
              "      <td>4</td>\n",
              "    </tr>\n",
              "    <tr>\n",
              "      <th>5</th>\n",
              "      <td>0.516532</td>\n",
              "      <td>0.772623</td>\n",
              "      <td>0.793619</td>\n",
              "      <td>0.997910</td>\n",
              "      <td>0.044137</td>\n",
              "      <td>0.718271</td>\n",
              "      <td>0.998701</td>\n",
              "      <td>1.0</td>\n",
              "      <td>5</td>\n",
              "    </tr>\n",
              "    <tr>\n",
              "      <th>6</th>\n",
              "      <td>0.350903</td>\n",
              "      <td>0.806970</td>\n",
              "      <td>0.184297</td>\n",
              "      <td>0.720834</td>\n",
              "      <td>0.286437</td>\n",
              "      <td>0.006021</td>\n",
              "      <td>0.198307</td>\n",
              "      <td>1.0</td>\n",
              "      <td>6</td>\n",
              "    </tr>\n",
              "    <tr>\n",
              "      <th>7</th>\n",
              "      <td>0.523971</td>\n",
              "      <td>0.154379</td>\n",
              "      <td>0.557409</td>\n",
              "      <td>0.373361</td>\n",
              "      <td>0.861081</td>\n",
              "      <td>0.558851</td>\n",
              "      <td>0.897982</td>\n",
              "      <td>1.0</td>\n",
              "      <td>7</td>\n",
              "    </tr>\n",
              "    <tr>\n",
              "      <th>8</th>\n",
              "      <td>0.553962</td>\n",
              "      <td>0.683303</td>\n",
              "      <td>0.112749</td>\n",
              "      <td>0.868321</td>\n",
              "      <td>0.460612</td>\n",
              "      <td>0.764955</td>\n",
              "      <td>0.826850</td>\n",
              "      <td>1.0</td>\n",
              "      <td>8</td>\n",
              "    </tr>\n",
              "    <tr>\n",
              "      <th>9</th>\n",
              "      <td>0.739784</td>\n",
              "      <td>0.524937</td>\n",
              "      <td>0.949805</td>\n",
              "      <td>0.556508</td>\n",
              "      <td>0.601746</td>\n",
              "      <td>0.199793</td>\n",
              "      <td>0.265475</td>\n",
              "      <td>1.0</td>\n",
              "      <td>9</td>\n",
              "    </tr>\n",
              "  </tbody>\n",
              "</table>\n",
              "</div>"
            ],
            "text/plain": [
              "         X1        X2        X3        X4        X5        y1        y2    w  \\\n",
              "0  0.902870  0.664774  0.720114  0.816187  0.657662  0.826276  0.400358  1.0   \n",
              "1  0.712157  0.199485  0.448038  0.393425  0.119277  0.220148  0.552145  1.0   \n",
              "2  0.668112  0.537428  0.791423  0.468784  0.320038  0.592736  0.710856  1.0   \n",
              "3  0.397146  0.366805  0.824932  0.977187  0.075769  0.658897  0.315929  1.0   \n",
              "4  0.652457  0.988727  0.528553  0.635586  0.079865  0.329952  0.132867  1.0   \n",
              "5  0.516532  0.772623  0.793619  0.997910  0.044137  0.718271  0.998701  1.0   \n",
              "6  0.350903  0.806970  0.184297  0.720834  0.286437  0.006021  0.198307  1.0   \n",
              "7  0.523971  0.154379  0.557409  0.373361  0.861081  0.558851  0.897982  1.0   \n",
              "8  0.553962  0.683303  0.112749  0.868321  0.460612  0.764955  0.826850  1.0   \n",
              "9  0.739784  0.524937  0.949805  0.556508  0.601746  0.199793  0.265475  1.0   \n",
              "\n",
              "  ids  \n",
              "0   0  \n",
              "1   1  \n",
              "2   2  \n",
              "3   3  \n",
              "4   4  \n",
              "5   5  \n",
              "6   6  \n",
              "7   7  \n",
              "8   8  \n",
              "9   9  "
            ]
          },
          "execution_count": 15,
          "metadata": {},
          "output_type": "execute_result"
        }
      ],
      "source": [
        "dataset.to_dataframe()"
      ]
    },
    {
      "cell_type": "markdown",
      "metadata": {
        "id": "WBlHz7Zc6G3K"
      },
      "source": [
        "## DiskDataset 만들기\n",
        "- NumPy arrays가 있으면 `DiskDataset.from_numpy()` 를 사용하여 만들 수 있다"
      ]
    },
    {
      "cell_type": "code",
      "execution_count": 16,
      "metadata": {
        "colab": {
          "base_uri": "https://localhost:8080/"
        },
        "id": "slGihlLM6G3K",
        "outputId": "77300d89-846a-4410-ac6e-f90e3c0e56a5"
      },
      "outputs": [
        {
          "name": "stdout",
          "output_type": "stream",
          "text": [
            "<DiskDataset X.shape: (10, 5), y.shape: (10, 2), w.shape: (10, 1), ids: [0 1 2 3 4 5 6 7 8 9], task_names: [0 1]>\n"
          ]
        }
      ],
      "source": [
        "import tempfile\n",
        "\n",
        "with tempfile.TemporaryDirectory() as data_dir:\n",
        "    disk_dataset = dc.data.DiskDataset.from_numpy(X=X, y=y, data_dir=data_dir)\n",
        "    print(disk_dataset)"
      ]
    },
    {
      "cell_type": "markdown",
      "metadata": {
        "id": "iBbMybNL6G3K"
      },
      "source": [
        "- 대용량의 데이터를 읽을 때 DeepChem의 `DataLoader` 를 사용하여 편리하게 읽을 수 있다.\n",
        "\n"
      ]
    },
    {
      "cell_type": "markdown",
      "metadata": {
        "id": "0KstuD2YGooC"
      },
      "source": [
        "# MoleculeNet 소개\n",
        "\n",
        "- dc.molnet 모듈에서 제공"
      ]
    },
    {
      "cell_type": "markdown",
      "metadata": {
        "id": "nDbLJ-dhG5rK"
      },
      "source": [
        "## 제공되는 데이터셋 확인"
      ]
    },
    {
      "cell_type": "code",
      "execution_count": 17,
      "metadata": {
        "colab": {
          "base_uri": "https://localhost:8080/"
        },
        "id": "47A_VdU4F3UW",
        "outputId": "90d3487a-f9f2-4425-f524-4bcb8df55890"
      },
      "outputs": [
        {
          "name": "stdout",
          "output_type": "stream",
          "text": [
            "42\n"
          ]
        },
        {
          "data": {
            "text/plain": [
              "['load_Platinum_Adsorption',\n",
              " 'load_bace_classification',\n",
              " 'load_bace_regression',\n",
              " 'load_bandgap',\n",
              " 'load_bbbc001',\n",
              " 'load_bbbc002',\n",
              " 'load_bbbp',\n",
              " 'load_cell_counting',\n",
              " 'load_chembl',\n",
              " 'load_chembl25',\n",
              " 'load_clearance',\n",
              " 'load_clintox',\n",
              " 'load_delaney',\n",
              " 'load_factors',\n",
              " 'load_freesolv',\n",
              " 'load_function',\n",
              " 'load_hiv',\n",
              " 'load_hopv',\n",
              " 'load_hppb',\n",
              " 'load_kaggle',\n",
              " 'load_kinase',\n",
              " 'load_lipo',\n",
              " 'load_mp_formation_energy',\n",
              " 'load_mp_metallicity',\n",
              " 'load_muv',\n",
              " 'load_nci',\n",
              " 'load_pcba',\n",
              " 'load_pdbbind',\n",
              " 'load_perovskite',\n",
              " 'load_ppb',\n",
              " 'load_qm7',\n",
              " 'load_qm8',\n",
              " 'load_qm9',\n",
              " 'load_sampl',\n",
              " 'load_sider',\n",
              " 'load_sweet',\n",
              " 'load_thermosol',\n",
              " 'load_tox21',\n",
              " 'load_toxcast',\n",
              " 'load_uspto',\n",
              " 'load_uv',\n",
              " 'load_zinc15']"
            ]
          },
          "execution_count": 17,
          "metadata": {},
          "output_type": "execute_result"
        }
      ],
      "source": [
        "all_load = [method for method in dir(dc.molnet) if \"load_\" in method ]\n",
        "print(len(all_load))\n",
        "all_load"
      ]
    },
    {
      "cell_type": "markdown",
      "metadata": {
        "id": "IVLt6TeYIJcn"
      },
      "source": [
        "## MoleculeNet Dataset 카테고리\n",
        "\n",
        "- Original MoleculeNet paper [1]에 정의된 것은\"V1\"으로 나머지는\"V2\"로 구분함 \n",
        "\n",
        "## Quantum Mechanical Datasets\n",
        "\n",
        "- quantum mechanical property prediction tasks 데이터\n",
        "\n",
        "- [`dc.molnet.load_qm7`](https://deepchem.readthedocs.io/en/latest/moleculenet.html#deepchem.molnet.load_qm7): V1\n",
        "- [`dc.molnet.load_qm7b_from_mat`](https://deepchem.readthedocs.io/en/latest/moleculenet.html#deepchem.molnet.load_qm7): V1\n",
        "- [`dc.molnet.load_qm8`](https://deepchem.readthedocs.io/en/latest/moleculenet.html#deepchem.molnet.load_qm8): V1\n",
        "- [`dc.molnet.load_qm9`](https://deepchem.readthedocs.io/en/latest/moleculenet.html#deepchem.molnet.load_qm9): V1\n",
        "\n",
        "## Physical Chemistry Datasets\n",
        "\n",
        "- contain a variety of tasks for predicting various physical properties of molecules.\n",
        "\n",
        "- [`dc.molnet.load_delaney`](https://deepchem.readthedocs.io/en/latest/moleculenet.html#deepchem.molnet.load_delaney): V1. This dataset is also referred to as ESOL in the original  paper.\n",
        "- [`dc.molnet.load_sampl`](https://deepchem.readthedocs.io/en/latest/moleculenet.html#deepchem.molnet.load_sampl): V1. This dataset is also referred to as FreeSolv in the original  paper.\n",
        "- [`dc.molnet.load_lipo`](https://deepchem.readthedocs.io/en/latest/moleculenet.html#deepchem.molnet.load_lipo): V1. This dataset is also referred to as Lipophilicity in the original  paper.\n",
        "- [`dc.molnet.load_thermosol`](https://deepchem.readthedocs.io/en/latest/moleculenet.html#deepchem.molnet.load_thermosol): V2.\n",
        "- [`dc.molnet.load_hppb`](https://deepchem.readthedocs.io/en/latest/moleculenet.html#deepchem.molnet.load_hppb): V2.\n",
        "- [`dc.molnet.load_hopv`](https://deepchem.readthedocs.io/en/latest/moleculenet.html#deepchem.molnet.load_hopv): V2. This dataset is drawn from a recent publication [3]\n",
        "\n",
        "## Chemical Reaction Datasets\n",
        "\n",
        "- chemical reaction datasets for use in computational retrosynthesis / forward synthesis.\n",
        "\n",
        "- [`dc.molnet.load_uspto`](https://deepchem.readthedocs.io/en/latest/moleculenet.html#deepchem.molnet.load_uspto)\n",
        "\n",
        "## Biochemical/Biophysical Datasets\n",
        "\n",
        "- e.g., the binding affinity of compounds to proteins.\n",
        "\n",
        "- [`dc.molnet.load_pcba`](https://deepchem.readthedocs.io/en/latest/moleculenet.html#deepchem.molnet.load_pcba): V1\n",
        "- [`dc.molnet.load_nci`](https://deepchem.readthedocs.io/en/latest/moleculenet.html#deepchem.molnet.load_nci): V2.\n",
        "- [`dc.molnet.load_muv`](https://deepchem.readthedocs.io/en/latest/moleculenet.html#deepchem.molnet.load_muv): V1\n",
        "- [`dc.molnet.load_hiv`](https://deepchem.readthedocs.io/en/latest/moleculenet.html#deepchem.molnet.load_hiv): V1\n",
        "- [`dc.molnet.load_ppb`](https://deepchem.readthedocs.io/en/latest/moleculenet.html#ppb-datasets): V2.\n",
        "- [`dc.molnet.load_bace_classification`](https://deepchem.readthedocs.io/en/latest/moleculenet.html#deepchem.molnet.load_bace_classification): V1. This loader loads the classification task for the BACE dataset from the original MoleculeNet paper.\n",
        "- [`dc.molnet.load_bace_regression`](https://deepchem.readthedocs.io/en/latest/moleculenet.html#deepchem.molnet.load_bace_regression): V1. This loader loads the regression task for the BACE dataset from the original MoleculeNet paper.\n",
        "- [`dc.molnet.load_kaggle`](https://deepchem.readthedocs.io/en/latest/moleculenet.html#deepchem.molnet.load_kaggle): V2. This dataset is from Merck's drug discovery kaggle contest and is described in [4].\n",
        "- [`dc.molnet.load_factors`](https://deepchem.readthedocs.io/en/latest/moleculenet.html#deepchem.molnet.load_factors): V2. This dataset is from [4].\n",
        "- [`dc.molnet.load_uv`](https://deepchem.readthedocs.io/en/latest/moleculenet.html#deepchem.molnet.load_uv): V2. This dataset is from [4].\n",
        "- [`dc.molnet.load_kinase`](https://deepchem.readthedocs.io/en/latest/moleculenet.html#deepchem.molnet.load_kinase): V2. This datset is from [4].\n",
        "\n",
        "## Molecular Catalog Datasets\n",
        "\n",
        "These datasets provide molecular datasets which have no associated properties beyond the raw SMILES formula or structure. These types of datasets are useful for generative modeling tasks.\n",
        "\n",
        "- [`dc.molnet.load_zinc15`](https://deepchem.readthedocs.io/en/latest/moleculenet.html#deepchem.molnet.load_zinc15): V2\n",
        "- [`dc.molnet.load_chembl`](https://deepchem.readthedocs.io/en/latest/moleculenet.html#deepchem.molnet.load_chembl): V2\n",
        "- [`dc.molnet.load_chembl25`](https://deepchem.readthedocs.io/en/latest/moleculenet.html#chembl25-datasets): V2\n",
        "\n",
        "## Physiology Datasets\n",
        "\n",
        "These datasets measure physiological properties of how molecules interact with human patients.\n",
        "\n",
        "- [`dc.molnet.load_bbbp`](https://deepchem.readthedocs.io/en/latest/moleculenet.html#deepchem.molnet.load_bbbp): V1\n",
        "- [`dc.molnet.load_tox21`](https://deepchem.readthedocs.io/en/latest/moleculenet.html#deepchem.molnet.load_tox21): V1\n",
        "- [`dc.molnet.load_toxcast`](https://deepchem.readthedocs.io/en/latest/moleculenet.html#deepchem.molnet.load_toxcast): V1\n",
        "- [`dc.molnet.load_sider`](https://deepchem.readthedocs.io/en/latest/moleculenet.html#deepchem.molnet.load_sider): V1\n",
        "- [`dc.molnet.load_clintox`](https://deepchem.readthedocs.io/en/latest/moleculenet.html#deepchem.molnet.load_clintox): V1\n",
        "- [`dc.molnet.load_clearance`](https://deepchem.readthedocs.io/en/latest/moleculenet.html#deepchem.molnet.load_clearance): V2.\n",
        "\n",
        "## Structural Biology Datasets\n",
        "\n",
        "These datasets contain 3D structures of macromolecules along with associated properties.\n",
        "\n",
        "- [`dc.molnet.load_pdbbind`](https://deepchem.readthedocs.io/en/latest/moleculenet.html#deepchem.molnet.load_pdbbind): V1\n",
        "\n",
        "\n",
        "## Microscopy Datasets\n",
        "\n",
        "These datasets contain microscopy image datasets, typically of cell lines. These datasets were not in the original MoleculeNet paper.\n",
        "\n",
        "- [`dc.molnet.load_bbbc001`](https://deepchem.readthedocs.io/en/latest/moleculenet.html#deepchem.molnet.load_bbbc001): V2\n",
        "- [`dc.molnet.load_bbbc002`](https://deepchem.readthedocs.io/en/latest/moleculenet.html#deepchem.molnet.load_bbbc002): V2\n",
        "- [`dc.molnet.load_cell_counting`](https://deepchem.readthedocs.io/en/latest/moleculenet.html#cell-counting-datasets): V2\n",
        "\n",
        "## Materials Properties Datasets\n",
        "\n",
        "These datasets compute properties of various materials.\n",
        "\n",
        "- [`dc.molnet.load_bandgap`](https://deepchem.readthedocs.io/en/latest/moleculenet.html#deepchem.molnet.load_bandgap): V2\n",
        "- [`dc.molnet.load_perovskite`](https://deepchem.readthedocs.io/en/latest/moleculenet.html#deepchem.molnet.load_perovskite): V2\n",
        "- [`dc.molnet.load_mp_formation_energy`](https://deepchem.readthedocs.io/en/latest/moleculenet.html#deepchem.molnet.load_mp_formation_energy): V2\n",
        "- [`dc.molnet.load_mp_metallicity`](https://deepchem.readthedocs.io/en/latest/moleculenet.html#deepchem.molnet.load_mp_metallicity): V2\n",
        "\n",
        "[1] Wu, Zhenqin, et al. \"MoleculeNet: a benchmark for molecular machine learning.\" Chemical science 9.2 (2018): 513-530.\n",
        "\n",
        "[3] Lopez, Steven A., et al. \"The Harvard organic photovoltaic dataset.\" Scientific data 3.1 (2016): 1-7.\n",
        "\n",
        "[4] Ramsundar, Bharath, et al. \"Is multitask deep learning practical for pharma?.\" Journal of chemical information and modeling 57.8 (2017): 2068-2076."
      ]
    },
    {
      "cell_type": "markdown",
      "metadata": {},
      "source": []
    }
  ],
  "metadata": {
    "accelerator": "GPU",
    "colab": {
      "collapsed_sections": [],
      "provenance": []
    },
    "gpuClass": "standard",
    "kernelspec": {
      "display_name": "Python 3.9.7 64-bit",
      "language": "python",
      "name": "python3"
    },
    "language_info": {
      "codemirror_mode": {
        "name": "ipython",
        "version": 3
      },
      "file_extension": ".py",
      "mimetype": "text/x-python",
      "name": "python",
      "nbconvert_exporter": "python",
      "pygments_lexer": "ipython3",
      "version": "3.9.7"
    },
    "toc": {
      "base_numbering": 1,
      "nav_menu": {},
      "number_sections": false,
      "sideBar": true,
      "skip_h1_title": false,
      "title_cell": "Table of Contents",
      "title_sidebar": "Contents",
      "toc_cell": false,
      "toc_position": {},
      "toc_section_display": true,
      "toc_window_display": false
    },
    "vscode": {
      "interpreter": {
        "hash": "aee8b7b246df8f9039afb4144a1f6fd8d2ca17a180786b69acc140d282b71a49"
      }
    }
  },
  "nbformat": 4,
  "nbformat_minor": 0
}
