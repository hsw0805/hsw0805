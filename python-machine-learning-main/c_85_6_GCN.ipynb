{
  "cells": [
    {
      "cell_type": "markdown",
      "metadata": {
        "id": "ubFUlqz8cj1L"
      },
      "source": [
        "# Geaph Convolution Neural Network\n",
        "\n",
        "- 분자의 그래프 표현방식과 그래프 컨볼류션 네트워크의 이해\n",
        "- 분자를 그래프로 표현하는 예\n",
        "\n",
        "![Molecular Graph](https://github.com/deepchem/deepchem/blob/master/examples/tutorials/assets/basic_graphs.gif?raw=1)\n",
        "\n"
      ]
    },
    {
      "cell_type": "markdown",
      "metadata": {
        "id": "BX2erW0ncj1W"
      },
      "source": [
        "## Graph Convolutions 개념\n",
        "\n",
        "- 일반 CNN\n",
        " - 이미지 처리, 시계열 처리 등에 사용\n",
        " - 신호가 주변의 샘플들과 같이 필터를 통과하면서 어떤 추상적인 패턴을 추출한다\n",
        " - 컨볼류션 계층을 여러번 통과하면서 점차 추상적인 패턴을 찾는다 \n",
        " - 가끔 풀링(max pooling)을 수행하여 패턴신호(특성)의 공간적인 이동과 정보 축약을 수행한다\n",
        " - [CNN 개요](https://medium.com/@ricardo_fideles/dog-breed-classification-with-cnn-827963a67bdf), [이미지 필터링](https://setosa.io/ev/image-kernels/), [CNN 동작 설명](https://transcranial.github.io/keras-js/#/mnist-cnn)\n",
        "- 그래프 CNN\n",
        " - 일반 CNN과 유사하나 이미지가 시계열 데이터가 아니라 그래프로 표현된 입력을 대상으로 동작한다\n",
        " - 주변 샘플 전체가 아니라 그래프로 연결된 샘플들을 사용하여 컨볼류션과 풀링을 수행한다\n",
        " - [Distill GCN](https://distill.pub/2021/gnn-intro/)\n"
      ]
    },
    {
      "cell_type": "markdown",
      "metadata": {
        "id": "7396ZtRTlVIP"
      },
      "source": [
        "## 용해도 예측\n",
        "- 물질이 용매에 포화상태까지 녹을 수 있는 한도\n",
        "- 분자 구조 정보로부터 용해도(y)를 예측\n",
        "- 알려진 실제 화합물의 용해도로부터,유사한 화합물의 용해도를 예측하는 데 사용\n",
        "- Fingerprint를 이용하는 경우와 비교\n",
        "- DeepChem 라이브러리 사용법\n",
        " - MoleculeNet 사용\n",
        "\n",
        "##  데이터\n",
        "- 데이터를 MoleculeNet에서 가져오며 Delaney solubility data set을 사용\n",
        " - 존 델라니가 2004년에 발표한 논문 데이터\n",
        " - log(solubility) measured in moles/liter\n",
        "- load_delaney() 함수로 데이터를 다운받는다\n",
        " - 아래에서는 특성(feature, 표현법)으로 그래프 구조 정보를 사용한다고 선택했다\n",
        " - 다운받은 데이터를 세가지 정보를 제공한다 (작업, 데이터, 변환)\n",
        " - 데이터는 훈련, 검증, 테스트 세가지로 구성되어 있다\n",
        "\n",
        "## 모델\n",
        "- 랜덤 포레스트\n",
        " - CircularFingerprint 사용\n",
        "- 그래프 컨볼류션 네트워크\n",
        " - featurizer='GraphConv' 사용\n",
        " - 각 분자는 ConvMol 객체로 표현된다"
      ]
    },
    {
      "cell_type": "markdown",
      "metadata": {
        "id": "5z1zo27fm43M"
      },
      "source": [
        "# Import"
      ]
    },
    {
      "cell_type": "code",
      "execution_count": 1,
      "metadata": {
        "colab": {
          "base_uri": "https://localhost:8080/"
        },
        "collapsed": true,
        "id": "kjV9i-oafgBx",
        "outputId": "16450524-bc87-4179-ab16-e2bfed86032f"
      },
      "outputs": [
        {
          "name": "stdout",
          "output_type": "stream",
          "text": [
            "Looking in indexes: https://pypi.org/simple, https://us-python.pkg.dev/colab-wheels/public/simple/\n",
            "Requirement already satisfied: deepchem in /usr/local/lib/python3.7/dist-packages (2.6.1)\n",
            "Requirement already satisfied: joblib in /usr/local/lib/python3.7/dist-packages (from deepchem) (1.2.0)\n",
            "Requirement already satisfied: pandas in /usr/local/lib/python3.7/dist-packages (from deepchem) (1.3.5)\n",
            "Requirement already satisfied: numpy>=1.21 in /usr/local/lib/python3.7/dist-packages (from deepchem) (1.21.6)\n",
            "Requirement already satisfied: rdkit-pypi in /usr/local/lib/python3.7/dist-packages (from deepchem) (2022.9.1)\n",
            "Requirement already satisfied: scikit-learn in /usr/local/lib/python3.7/dist-packages (from deepchem) (1.0.2)\n",
            "Requirement already satisfied: scipy in /usr/local/lib/python3.7/dist-packages (from deepchem) (1.7.3)\n",
            "Requirement already satisfied: python-dateutil>=2.7.3 in /usr/local/lib/python3.7/dist-packages (from pandas->deepchem) (2.8.2)\n",
            "Requirement already satisfied: pytz>=2017.3 in /usr/local/lib/python3.7/dist-packages (from pandas->deepchem) (2022.6)\n",
            "Requirement already satisfied: six>=1.5 in /usr/local/lib/python3.7/dist-packages (from python-dateutil>=2.7.3->pandas->deepchem) (1.15.0)\n",
            "Requirement already satisfied: Pillow in /usr/local/lib/python3.7/dist-packages (from rdkit-pypi->deepchem) (7.1.2)\n",
            "Requirement already satisfied: threadpoolctl>=2.0.0 in /usr/local/lib/python3.7/dist-packages (from scikit-learn->deepchem) (3.1.0)\n"
          ]
        }
      ],
      "source": [
        "!pip install deepchem\n",
        "import deepchem as dc"
      ]
    },
    {
      "cell_type": "code",
      "execution_count": 1,
      "metadata": {
        "id": "c3CcVfP7mwWJ"
      },
      "outputs": [
        {
          "name": "stderr",
          "output_type": "stream",
          "text": [
            "/usr/local/lib/python3.9/site-packages/tqdm/auto.py:22: TqdmWarning: IProgress not found. Please update jupyter and ipywidgets. See https://ipywidgets.readthedocs.io/en/stable/user_install.html\n",
            "  from .autonotebook import tqdm as notebook_tqdm\n"
          ]
        }
      ],
      "source": [
        "from rdkit import Chem\n",
        "from rdkit.Chem import AllChem\n",
        "from rdkit.Chem import Draw\n",
        "from rdkit.Chem.Draw import IPythonConsole\n",
        "from rdkit.Chem import Descriptors\n",
        "from rdkit import DataStructs\n",
        "import tensorflow as tf\n",
        "from deepchem.models.layers import GraphConv, GraphPool, GraphGather\n",
        "from deepchem.feat.mol_graphs import ConvMol\n",
        "import tensorflow.keras.layers as layers\n",
        "from deepchem.metrics import to_one_hot\n",
        "\n",
        "\n",
        "\n",
        "# import tempfile\n",
        "# from itertools import islice\n",
        "# from IPython.display import Image, display\n",
        "# from deepchem.utils.data_utils import load_from_disk  \n",
        "\n",
        "%matplotlib inline\n",
        "%config InlineBackend.figure_format = 'retina'\n",
        "import matplotlib\n",
        "import matplotlib.pyplot as plt\n",
        "import pandas as pd\n",
        "import numpy as np\n",
        "import warnings\n",
        "warnings.filterwarnings(\"ignore\")"
      ]
    },
    {
      "cell_type": "markdown",
      "metadata": {
        "id": "BTgMfx5k7lKx"
      },
      "source": [
        "# 데이터"
      ]
    },
    {
      "cell_type": "markdown",
      "metadata": {
        "id": "Jc4oiK4Bc_9C"
      },
      "source": [
        "- 다운로드 방법\n",
        " - csv 파일을 직접 다운로드 받아서 사용하는 경우\n",
        " - deepchem의 load_delaney() 함수를 사용하는 경우\n",
        " \n",
        "- 모델 성능 비교\n",
        " - 랜덤포레스트를 사용하는 경우와 GCN을 사용하는 경우의 성능을 비교한다\n",
        " - 특성은 각각 Fingerprint와 그래프 모델을 사용한다"
      ]
    },
    {
      "cell_type": "markdown",
      "metadata": {
        "id": "jxoOnnZlsqSZ"
      },
      "source": [
        "# csv 파일을 다운로드 하는 방법\n",
        "- X, y 등을 나누어주어야 한다"
      ]
    },
    {
      "cell_type": "code",
      "execution_count": 7,
      "metadata": {
        "colab": {
          "base_uri": "https://localhost:8080/"
        },
        "id": "58FAHaJOc_9D",
        "outputId": "1cefb43a-0358-43f4-fad7-3404b29d5482"
      },
      "outputs": [
        {
          "name": "stdout",
          "output_type": "stream",
          "text": [
            "zsh:1: command not found: wget\n",
            "  % Total    % Received % Xferd  Average Speed   Time    Time     Time  Current\n",
            "                                 Dload  Upload   Total   Spent    Left  Speed\n",
            "100 96699  100 96699    0     0   253k      0 --:--:-- --:--:-- --:--:--  257k\n"
          ]
        }
      ],
      "source": [
        "!wget https://raw.githubusercontent.com/deepchem/deepchem/master/datasets/delaney-processed.csv\n",
        "!curl -o \"delaney-processed.csv\" https://raw.githubusercontent.com/deepchem/deepchem/master/datasets/delaney-processed.csv\n"
      ]
    },
    {
      "cell_type": "code",
      "execution_count": 8,
      "metadata": {
        "colab": {
          "base_uri": "https://localhost:8080/",
          "height": 312
        },
        "id": "XXQteOIQc_9G",
        "outputId": "4fd06478-e4fd-4fec-cc1a-37a03d1e80b0"
      },
      "outputs": [
        {
          "name": "stdout",
          "output_type": "stream",
          "text": [
            "(1128, 10)\n"
          ]
        },
        {
          "data": {
            "text/html": [
              "<div>\n",
              "<style scoped>\n",
              "    .dataframe tbody tr th:only-of-type {\n",
              "        vertical-align: middle;\n",
              "    }\n",
              "\n",
              "    .dataframe tbody tr th {\n",
              "        vertical-align: top;\n",
              "    }\n",
              "\n",
              "    .dataframe thead th {\n",
              "        text-align: right;\n",
              "    }\n",
              "</style>\n",
              "<table border=\"1\" class=\"dataframe\">\n",
              "  <thead>\n",
              "    <tr style=\"text-align: right;\">\n",
              "      <th></th>\n",
              "      <th>Compound ID</th>\n",
              "      <th>ESOL predicted log solubility in mols per litre</th>\n",
              "      <th>Minimum Degree</th>\n",
              "      <th>Molecular Weight</th>\n",
              "      <th>Number of H-Bond Donors</th>\n",
              "      <th>Number of Rings</th>\n",
              "      <th>Number of Rotatable Bonds</th>\n",
              "      <th>Polar Surface Area</th>\n",
              "      <th>measured log solubility in mols per litre</th>\n",
              "      <th>smiles</th>\n",
              "    </tr>\n",
              "  </thead>\n",
              "  <tbody>\n",
              "    <tr>\n",
              "      <th>0</th>\n",
              "      <td>Amigdalin</td>\n",
              "      <td>-0.974</td>\n",
              "      <td>1</td>\n",
              "      <td>457.432</td>\n",
              "      <td>7</td>\n",
              "      <td>3</td>\n",
              "      <td>7</td>\n",
              "      <td>202.32</td>\n",
              "      <td>-0.77</td>\n",
              "      <td>OCC3OC(OCC2OC(OC(C#N)c1ccccc1)C(O)C(O)C2O)C(O)...</td>\n",
              "    </tr>\n",
              "    <tr>\n",
              "      <th>1</th>\n",
              "      <td>Fenfuram</td>\n",
              "      <td>-2.885</td>\n",
              "      <td>1</td>\n",
              "      <td>201.225</td>\n",
              "      <td>1</td>\n",
              "      <td>2</td>\n",
              "      <td>2</td>\n",
              "      <td>42.24</td>\n",
              "      <td>-3.30</td>\n",
              "      <td>Cc1occc1C(=O)Nc2ccccc2</td>\n",
              "    </tr>\n",
              "    <tr>\n",
              "      <th>2</th>\n",
              "      <td>citral</td>\n",
              "      <td>-2.579</td>\n",
              "      <td>1</td>\n",
              "      <td>152.237</td>\n",
              "      <td>0</td>\n",
              "      <td>0</td>\n",
              "      <td>4</td>\n",
              "      <td>17.07</td>\n",
              "      <td>-2.06</td>\n",
              "      <td>CC(C)=CCCC(C)=CC(=O)</td>\n",
              "    </tr>\n",
              "  </tbody>\n",
              "</table>\n",
              "</div>"
            ],
            "text/plain": [
              "  Compound ID  ESOL predicted log solubility in mols per litre  \\\n",
              "0   Amigdalin                                           -0.974   \n",
              "1    Fenfuram                                           -2.885   \n",
              "2      citral                                           -2.579   \n",
              "\n",
              "   Minimum Degree  Molecular Weight  Number of H-Bond Donors  Number of Rings  \\\n",
              "0               1           457.432                        7                3   \n",
              "1               1           201.225                        1                2   \n",
              "2               1           152.237                        0                0   \n",
              "\n",
              "   Number of Rotatable Bonds  Polar Surface Area  \\\n",
              "0                          7              202.32   \n",
              "1                          2               42.24   \n",
              "2                          4               17.07   \n",
              "\n",
              "   measured log solubility in mols per litre  \\\n",
              "0                                      -0.77   \n",
              "1                                      -3.30   \n",
              "2                                      -2.06   \n",
              "\n",
              "                                              smiles  \n",
              "0  OCC3OC(OCC2OC(OC(C#N)c1ccccc1)C(O)C(O)C2O)C(O)...  \n",
              "1                             Cc1occc1C(=O)Nc2ccccc2  \n",
              "2                               CC(C)=CCCC(C)=CC(=O)  "
            ]
          },
          "execution_count": 8,
          "metadata": {},
          "output_type": "execute_result"
        }
      ],
      "source": [
        "dataset = pd.read_csv(\"delaney-processed.csv\")\n",
        "print(dataset.shape)\n",
        "dataset[:3]"
      ]
    },
    {
      "cell_type": "markdown",
      "metadata": {
        "id": "taI04MSGCocV"
      },
      "source": [
        "## Deepchem이 제공하는 load_  함수를 사용하는 방법\n",
        "- 특성을 ECFP 로 선택"
      ]
    },
    {
      "cell_type": "code",
      "execution_count": 10,
      "metadata": {
        "id": "GpZujntMtzBq"
      },
      "outputs": [],
      "source": [
        "import deepchem as dc\n",
        "tasks, datasets, transformers = dc.molnet.load_delaney(featurizer='ECFP')\n",
        "train_dataset, valid_dataset, test_dataset = datasets"
      ]
    },
    {
      "cell_type": "code",
      "execution_count": 11,
      "metadata": {
        "colab": {
          "base_uri": "https://localhost:8080/"
        },
        "id": "IkUaDtmMt9iV",
        "outputId": "3e917a33-1c5a-4ff8-b805-c6d2a2504153"
      },
      "outputs": [
        {
          "data": {
            "text/plain": [
              "<DiskDataset X.shape: (902, 1024), y.shape: (902, 1), w.shape: (902, 1), ids: ['CC(C)=CCCC(C)=CC(=O)' 'CCCC=C' 'CCCCCCCCCCCCCC' ...\n",
              " 'Nc2cccc3nc1ccccc1cc23 ' 'C1CCCCCC1' 'OC1CCCCCC1'], task_names: ['measured log solubility in mols per litre']>"
            ]
          },
          "execution_count": 11,
          "metadata": {},
          "output_type": "execute_result"
        }
      ],
      "source": [
        "train_dataset"
      ]
    },
    {
      "cell_type": "markdown",
      "metadata": {
        "id": "hqEjFjU4c_9q"
      },
      "source": [
        "# 랜덤포레스트 모델\n",
        "-`deepChem`은 `SklearnModel`을 통해서 `scikit-learn` 의 모델들을 사용할 수 있게 한다"
      ]
    },
    {
      "cell_type": "code",
      "execution_count": 12,
      "metadata": {
        "id": "kSpYdUDkc_9r"
      },
      "outputs": [],
      "source": [
        "from sklearn.ensemble import RandomForestRegressor\n",
        "rfr = RandomForestRegressor()\n",
        "dc_rfr = dc.models.SklearnModel(rfr)\n",
        "\n",
        "#train_dataset에 포함된 X, w, y값을 사용하여 모델 훈련\n",
        "dc_rfr.fit(train_dataset)"
      ]
    },
    {
      "cell_type": "markdown",
      "metadata": {
        "id": "63-ylGaPc_9t"
      },
      "source": [
        "## 모델 학습과 성능 평가\n",
        "- `deepchem`의 `Evaluator` 객체의 `compute_model_performance()`로 평가"
      ]
    },
    {
      "cell_type": "code",
      "execution_count": 13,
      "metadata": {
        "colab": {
          "base_uri": "https://localhost:8080/"
        },
        "id": "OG3FfI20c_9u",
        "outputId": "e6ef6910-aca0-49b6-9d1c-59eb4b9c9906"
      },
      "outputs": [
        {
          "name": "stdout",
          "output_type": "stream",
          "text": [
            "{'r2_score': 0.15300044950608083, 'rms_score': 1.8193331090573495}\n"
          ]
        }
      ],
      "source": [
        "from deepchem.utils.evaluate import Evaluator\n",
        "metric1 = dc.metrics.Metric(dc.metrics.r2_score)\n",
        "metric2 = dc.metrics.Metric(dc.metrics.rms_score)\n",
        "\n",
        "evaluator = Evaluator(dc_rfr, valid_dataset, transformers)\n",
        "scores = evaluator.compute_model_performance([metric1, metric2])\n",
        "print(scores)"
      ]
    },
    {
      "cell_type": "markdown",
      "metadata": {
        "id": "eDfVtZztc_9w"
      },
      "source": [
        "## 모델 최적화\n",
        "- 하이퍼 파라미터 튜닝 수행\n",
        "- model_dir은 dc.models.SklearnModel 함수의 인자로 다른 디렉토리에 생성한 모델이 있는 경우에 불러오기 위한 인자임"
      ]
    },
    {
      "cell_type": "code",
      "execution_count": 14,
      "metadata": {
        "id": "UPp2apHl_kB-"
      },
      "outputs": [],
      "source": [
        "def rf_model_builder(n_estimators, max_features, max_depth, model_dir):\n",
        "  rfr = RandomForestRegressor(\n",
        "      n_estimators=n_estimators, max_features=max_features, max_depth=max_depth)\n",
        "  return dc.models.SklearnModel(rfr, model_dir)\n",
        "\n",
        "#하이퍼파라미터의 여러개의 값 설정 \n",
        "params_dict = {\n",
        "    \"n_estimators\": [50, 100],\n",
        "    \"max_features\": [0.1, 0.15, 0.2],\n",
        "    \"max_depth\" : [17, 19, 21]\n",
        "}\n",
        "\n",
        "metric = dc.metrics.Metric(dc.metrics.r2_score)\n",
        "optimizer = dc.hyper.GridHyperparamOpt(rf_model_builder)\n",
        "\n",
        "# 최고 성능의 모델, 최고 성능의 하이퍼파라미터, 모든 결과를 리턴한다\n",
        "best_rf, best_rf_hyperparams, all_rf_results = optimizer.hyperparam_search(\n",
        "    params_dict, train_dataset, valid_dataset, metric, transformers)"
      ]
    },
    {
      "cell_type": "code",
      "execution_count": 15,
      "metadata": {
        "colab": {
          "base_uri": "https://localhost:8080/"
        },
        "id": "p4Hkcr045QvM",
        "outputId": "7f1d5bfc-7a59-438d-fd1e-35aa2042a145"
      },
      "outputs": [
        {
          "name": "stdout",
          "output_type": "stream",
          "text": [
            "{'n_estimators': 100, 'max_features': 0.1, 'max_depth': 19}\n",
            "{'_max_depth_17_max_features_0.100000_n_estimators_50': 0.2308853589031412, '_max_depth_19_max_features_0.100000_n_estimators_50': 0.22276966671587517, '_max_depth_21_max_features_0.100000_n_estimators_50': 0.24188337929299641, '_max_depth_17_max_features_0.150000_n_estimators_50': 0.22675924203714115, '_max_depth_19_max_features_0.150000_n_estimators_50': 0.23268305405489043, '_max_depth_21_max_features_0.150000_n_estimators_50': 0.2071830090710408, '_max_depth_17_max_features_0.200000_n_estimators_50': 0.23532203588727507, '_max_depth_19_max_features_0.200000_n_estimators_50': 0.20170011938142896, '_max_depth_21_max_features_0.200000_n_estimators_50': 0.2352188447035478, '_max_depth_17_max_features_0.100000_n_estimators_100': 0.21471291104769497, '_max_depth_19_max_features_0.100000_n_estimators_100': 0.27655343969250024, '_max_depth_21_max_features_0.100000_n_estimators_100': 0.24868490162585133, '_max_depth_17_max_features_0.150000_n_estimators_100': 0.20949962925407073, '_max_depth_19_max_features_0.150000_n_estimators_100': 0.2213831138139879, '_max_depth_21_max_features_0.150000_n_estimators_100': 0.25125904980240565, '_max_depth_17_max_features_0.200000_n_estimators_100': 0.21822210706376, '_max_depth_19_max_features_0.200000_n_estimators_100': 0.24322727124734844, '_max_depth_21_max_features_0.200000_n_estimators_100': 0.22951100123055435}\n"
          ]
        }
      ],
      "source": [
        "#최고 성능을 얻은 모델 하이퍼파라미터 출력\n",
        "print(best_rf_hyperparams)\n",
        "#모든 탐색 성능 평가 결과 출력\n",
        "print(all_rf_results)"
      ]
    },
    {
      "cell_type": "code",
      "execution_count": 16,
      "metadata": {
        "colab": {
          "base_uri": "https://localhost:8080/"
        },
        "id": "AODC00oP9UvK",
        "outputId": "f90ccbc4-f446-4429-ddf2-61107d2ae4bf"
      },
      "outputs": [
        {
          "data": {
            "text/plain": [
              "0.27655343969250024"
            ]
          },
          "execution_count": 16,
          "metadata": {},
          "output_type": "execute_result"
        }
      ],
      "source": [
        "# 최대 성능값 찾기 (R2)\n",
        "max(all_rf_results.values())"
      ]
    },
    {
      "cell_type": "code",
      "execution_count": 17,
      "metadata": {
        "colab": {
          "base_uri": "https://localhost:8080/",
          "height": 36
        },
        "id": "6wpwhHPW-37a",
        "outputId": "7f2ba988-7fdc-4457-8a4c-b22549867cac"
      },
      "outputs": [
        {
          "data": {
            "text/plain": [
              "'_max_depth_19_max_features_0.100000_n_estimators_100'"
            ]
          },
          "execution_count": 17,
          "metadata": {},
          "output_type": "execute_result"
        }
      ],
      "source": [
        "# 딕셔너리에서 최대 value를 갖는 키 찾기\n",
        "max(all_rf_results, key=all_rf_results.get)"
      ]
    },
    {
      "cell_type": "markdown",
      "metadata": {
        "id": "HjxxC7E7lVIr"
      },
      "source": [
        "# 컨볼류션 모델을 사용\n",
        "- load_delaney() 함수를 사용하여 데이터를 다운로드하면서 featurizer 옵션을 선택\n"
      ]
    },
    {
      "cell_type": "code",
      "execution_count": 18,
      "metadata": {
        "id": "ftuqcCo3zRYE"
      },
      "outputs": [],
      "source": [
        "tasks, datasets, transformers = dc.molnet.load_delaney(featurizer='GraphConv')\n",
        "train_dataset, valid_dataset, test_dataset = datasets"
      ]
    },
    {
      "cell_type": "code",
      "execution_count": 19,
      "metadata": {
        "colab": {
          "base_uri": "https://localhost:8080/"
        },
        "id": "gdlQ8se8zRUM",
        "outputId": "743db193-91b7-485e-bcd3-a6cd144b6617"
      },
      "outputs": [
        {
          "data": {
            "text/plain": [
              "<deepchem.feat.mol_graphs.ConvMol at 0x14080de20>"
            ]
          },
          "execution_count": 19,
          "metadata": {},
          "output_type": "execute_result"
        }
      ],
      "source": [
        "train_dataset.X[0]"
      ]
    },
    {
      "cell_type": "markdown",
      "metadata": {
        "id": "S_lP07t1lVIs"
      },
      "source": [
        "## 모델 구성\n",
        "- GraphConvModel 클래스를 사용한다\n",
        "- 이 프로그램에서 사용할 객체 이름을 dc_gcn이라고 지정함\n",
        " - 객체에서는 클래스에서 미리 정의된 함수와 파라미터들을 사용할 수 있게 된다\n",
        "- 회귀분석이며 작업(목적 변수 y) 수는 하나임을 표현\n",
        "- dropout=0.2 : 데이터를 랜덤하게 20% 사용하지 않도록 지정 (더 다양한 데이터를 사용한 효과를 얻어 성능을 개선시킴)\n",
        "\n"
      ]
    },
    {
      "cell_type": "markdown",
      "metadata": {
        "id": "96oImnBE33M0"
      },
      "source": [
        "# 학습\n",
        "- 훈련 데이터를 몇 번 반복하여 사용할지를 지정한다 (nb_epoch)\n"
      ]
    },
    {
      "cell_type": "code",
      "execution_count": 20,
      "metadata": {
        "colab": {
          "base_uri": "https://localhost:8080/"
        },
        "id": "MVPsNTIuzRRS",
        "outputId": "addb9abf-02fd-4b51-92c8-32cdc7248a9e"
      },
      "outputs": [
        {
          "name": "stderr",
          "output_type": "stream",
          "text": [
            "2022-11-12 16:27:19.101059: I tensorflow/core/platform/cpu_feature_guard.cc:142] This TensorFlow binary is optimized with oneAPI Deep Neural Network Library (oneDNN) to use the following CPU instructions in performance-critical operations:  AVX2 FMA\n",
            "To enable them in other operations, rebuild TensorFlow with the appropriate compiler flags.\n",
            "2022-11-12 16:27:22.862456: I tensorflow/compiler/mlir/mlir_graph_optimization_pass.cc:185] None of the MLIR Optimization Passes are enabled (registered 2)\n"
          ]
        },
        {
          "data": {
            "text/plain": [
              "0.11501485824584962"
            ]
          },
          "execution_count": 20,
          "metadata": {},
          "output_type": "execute_result"
        }
      ],
      "source": [
        "dc_gcn = dc.models.GraphConvModel(n_tasks=1, mode='regression', dropout=0.2)\n",
        "dc_gcn.fit(train_dataset, nb_epoch=100)"
      ]
    },
    {
      "cell_type": "markdown",
      "metadata": {
        "id": "-oUu-X9QlVIs"
      },
      "source": [
        "# 모델 평가\n",
        "\n",
        "- 훈련된 모델의 성능을 평가한다.\n",
        " - evaluate() 함수를 사용하겠다\n",
        " - 측정할 성능평가 지표(metrics)로 mae와 r2_score 사용\n",
        "- 훈련 데이터에 대한 성능과, 검증 데이터에 대한 성능을 모두 출력해본다 (과대적합인지를 파악하기 위함)"
      ]
    },
    {
      "cell_type": "code",
      "execution_count": 21,
      "metadata": {
        "colab": {
          "base_uri": "https://localhost:8080/"
        },
        "id": "COnQTIDqlVIs",
        "outputId": "ccac8fc5-a2dd-4481-af0d-601415d2b696"
      },
      "outputs": [
        {
          "name": "stdout",
          "output_type": "stream",
          "text": [
            "Training set score: {'mae_score': 0.7847717396343045, 'r2_score': 0.7881306951606688}\n",
            "Test set score: {'mae_score': 1.200628265392533, 'r2_score': 0.5158277097778782}\n"
          ]
        }
      ],
      "source": [
        "metric1 = dc.metrics.Metric(dc.metrics.mae_score)\n",
        "metric2 = dc.metrics.Metric(dc.metrics.r2_score)\n",
        "print(\"Training set score:\", dc_gcn.evaluate(train_dataset, [metric1, metric2], transformers))\n",
        "print(\"Test set score:\", dc_gcn.evaluate(test_dataset, [metric1, metric2], transformers))"
      ]
    },
    {
      "cell_type": "markdown",
      "metadata": {
        "id": "sRgjvuxez8vn"
      },
      "source": [
        "- R2 점수로 0.55를 얻었다"
      ]
    },
    {
      "cell_type": "markdown",
      "metadata": {
        "id": "WXOl0yI24Dny"
      },
      "source": [
        "## 샘플 테스트 데이터에 대한 예측"
      ]
    },
    {
      "cell_type": "code",
      "execution_count": 22,
      "metadata": {
        "colab": {
          "base_uri": "https://localhost:8080/"
        },
        "id": "tY_t9ERX1A0b",
        "outputId": "f888cc68-5425-4b18-937a-f69043c7d91b"
      },
      "outputs": [
        {
          "name": "stdout",
          "output_type": "stream",
          "text": [
            "[-1.8627975] [-1.60114461] c1cc2ccc3cccc4ccc(c1)c2c34\n",
            "[0.711629] [0.20848251] Cc1cc(=O)[nH]c(=S)[nH]1\n",
            "[-0.99516207] [-0.01602738] Oc1ccc(cc1)C2(OC(=O)c3ccccc23)c4ccc(O)cc4 \n",
            "[-1.978529] [-2.82191713] c1ccc2c(c1)cc3ccc4cccc5ccc2c3c45\n",
            "[-1.425494] [-0.52891635] C1=Cc2cccc3cccc1c23\n",
            "[1.6902766] [1.10168349] CC1CO1\n",
            "[0.1936384] [-0.88987406] CCN2c1ccccc1N(C)C(=S)c3cccnc23 \n",
            "[-0.87637967] [-0.52649706] CC12CCC3C(CCc4cc(O)ccc34)C2CCC1=O\n",
            "[-1.389262] [-0.76358725] Cn2cc(c1ccccc1)c(=O)c(c2)c3cccc(c3)C(F)(F)F\n",
            "[0.26544434] [-0.64020358] ClC(Cl)(Cl)C(NC=O)N1C=CN(C=C1)C(NC=O)C(Cl)(Cl)Cl \n",
            "[-0.03304435] [-0.38569452] COc2c1occc1cc3ccc(=O)oc23 \n",
            "[0.08336934] [-0.62568785] CN2C(=C(O)c1ccccc1S2(=O)=O)C(=O)Nc3ccccn3 \n",
            "[0.42803073] [-0.39585553] Cc3cc2nc1c(=O)[nH]c(=O)nc1n(CC(O)C(O)C(O)CO)c2cc3C\n",
            "[-0.49608988] [-2.05306753] c1ccc(cc1)c2ccc(cc2)c3ccccc3\n",
            "[-0.5771209] [-0.29666474] CC34CC(=O)C1C(CCC2=CC(=O)CCC12C)C3CCC4(=O) \n",
            "[-0.7109309] [-0.73213651] c1ccc2c(c1)sc3ccccc23\n",
            "[-0.72451764] [-1.27744393] CC23Cc1cnoc1C=C2CCC4C3CCC5(C)C4CCC5(O)C#C\n",
            "[0.8582269] [0.0081655] OC(C(=O)c1ccccc1)c2ccccc2\n",
            "[1.5431299] [0.97588054] OCC2OC(Oc1ccccc1CO)C(O)C(O)C2O\n",
            "[-0.8042635] [-0.10796031] CC3C2CCC1(C)C=CC(=O)C(=C1C2OC3=O)C\n",
            "[0.6980315] [0.59847167] O=Cc2ccc1OCOc1c2 \n",
            "[-0.42929703] [-0.60149498] CC1CCCCC1NC(=O)Nc2ccccc2\n",
            "[0.5619227] [-0.34988907] CC(=O)N(S(=O)c1ccc(N)cc1)c2onc(C)c2C \n",
            "[0.72500336] [0.34686576] C1N(C(=O)NCC(C)C)C(=O)NC1\n",
            "[0.493221] [0.62750312] CNC(=O)Oc1ccccc1C2OCCO2\n",
            "[0.09637572] [0.14848418] CC1=C(CCCO1)C(=O)Nc2ccccc2 \n",
            "[0.074783] [0.02268122] Cn2c(=O)on(c1ccc(Cl)c(Cl)c1)c2=O\n",
            "[-1.3807027] [-0.85310089] C1Cc2cccc3cccc1c23\n",
            "[-1.8989587] [-2.72079091] c1ccc2cc3c4cccc5cccc(c3cc2c1)c45\n",
            "[0.3198792] [0.42476682] Nc1cc(nc(N)n1=O)N2CCCCC2 \n",
            "[-0.31111673] [0.01300407] O=c2c(C3CCCc4ccccc43)c(O)c1ccccc1o2 \n",
            "[-1.8952198] [-2.4851523] CC(C)C(Nc1ccc(cc1Cl)C(F)(F)F)C(=O)OC(C#N)c2cccc(Oc3ccccc3)c2\n",
            "[-1.5244341] [-2.15516147] Cc1c(F)c(F)c(COC(=O)C2C(C=C(Cl)C(F)(F)F)C2(C)C)c(F)c1F\n",
            "[1.3811891] [1.00975056] c2ccc1[nH]nnc1c2\n",
            "[1.3118194] [0.82588471] c2ccc1ocnc1c2\n",
            "[0.4378424] [-0.90390593] CCOC(=O)c1cncn1C(C)c2ccccc2\n",
            "[0.343215] [-0.91067993] CCN2c1ccccc1N(C)C(=O)c3ccccc23 \n",
            "[-0.2983599] [-0.82455329] OCC(O)COC(=O)c1ccccc1Nc2ccnc3cc(Cl)ccc23\n",
            "[2.2460966] [1.26909819] OCC1OC(OC2C(O)C(O)C(O)OC2CO)C(O)C(O)C1O\n",
            "[-1.0902963] [-1.14825397] CC34CCc1c(ccc2cc(O)ccc12)C3CCC4=O\n",
            "[-0.8481508] [-2.1343556] ClC1=C(Cl)C(Cl)(C(=C1Cl)Cl)C2(Cl)C(=C(Cl)C(=C2Cl)Cl)Cl\n",
            "[0.03201333] [-1.15744727] ClC1(C(=O)C2(Cl)C3(Cl)C14Cl)C5(Cl)C2(Cl)C3(Cl)C(Cl)(Cl)C45Cl\n",
            "[0.7382193] [-0.1045733] Oc1ccc(c(O)c1)c3oc2cc(O)cc(O)c2c(=O)c3O \n",
            "[0.69296515] [0.53073162] C1SC(=S)NC1(=O)\n",
            "[-0.77669525] [-1.22567118] ClC(Cl)C(Cl)(Cl)SN2C(=O)C1CC=CCC1C2=O \n",
            "[-1.5228453] [-1.66452995] ClC1=C(Cl)C2(Cl)C3C4CC(C=C4)C3C1(Cl)C2(Cl)Cl\n",
            "[1.0078251] [0.24525568] CC(=O)Nc1nnc(s1)S(N)(=O)=O \n",
            "[0.05827433] [-0.13215318] CC1=C(SCCO1)C(=O)Nc2ccccc2\n",
            "[0.10167488] [-0.97067826] CN(C(=O)COc1nc2ccccc2s1)c3ccccc3\n",
            "[0.17530459] [-0.23376326] CN(C(=O)NC(C)(C)c1ccccc1)c2ccccc2\n",
            "[1.8327256] [1.21297072] Nc1nccs1 \n",
            "[0.49873543] [-1.2595412] CN(C=Nc1ccc(C)cc1C)C=Nc2ccc(C)cc2C\n",
            "[0.82958454] [0.49686159] OCC(O)C2OC1OC(OC1C2O)C(Cl)(Cl)Cl \n",
            "[0.34398907] [0.22396595] Nc3nc(N)c2nc(c1ccccc1)c(N)nc2n3\n",
            "[-0.37771785] [-0.44182199] CC2Nc1cc(Cl)c(cc1C(=O)N2c3ccccc3C)S(N)(=O)=O \n",
            "[0.24784353] [0.47895886] CN1CC(O)N(C1=O)c2nnc(s2)C(C)(C)C\n",
            "[-0.45797598] [0.08267956] CCC1(C(=O)NC(=O)NC1=O)C2=CCC3CCC2C3\n",
            "[-0.6170144] [-1.51840498] CCC(C)C(=O)OC2CC(C)C=C3C=CC(C)C(CCC1CC(O)CC(=O)O1)C23 \n",
            "[-0.30780733] [-0.34795364] CC2Cc1ccccc1N2NC(=O)c3ccc(Cl)c(c3)S(N)(=O)=O \n",
            "[-0.3150524] [-0.83858516] o1c2ccccc2c3ccccc13\n",
            "[0.3322512] [-0.13699176] O=C(Nc1ccccc1)Nc2ccccc2\n",
            "[-1.9662101] [-2.59498796] c1ccc2c(c1)c3cccc4c3c2cc5ccccc54\n",
            "[-0.7575153] [0.13106531] COc1ccc(cc1)C(O)(C2CC2)c3cncnc3 \n",
            "[0.44801635] [0.09042128] c1cnc2c(c1)ccc3ncccc23\n",
            "[1.953857] [1.18877785] OCC1OC(CO)(OC2OC(COC3OC(CO)C(O)C(O)C3O)C(O)C(O)C2O)C(O)C1O\n",
            "[-0.11607738] [-0.82697258] CCOC(=O)c1ccccc1S(=O)(=O)NN(C=O)c2nc(Cl)cc(OC)n2\n",
            "[-1.1087892] [-1.16857599] CC34CCC1C(=CCc2cc(O)ccc12)C3CCC4=O\n",
            "[0.622276] [0.37589721] CN(C)C(=O)Oc1cc(C)nn1c2ccccc2\n",
            "[-0.5982159] [-0.24344041] OC(Cn1cncn1)(c2ccc(F)cc2)c3ccccc3F\n",
            "[-1.6431155] [-2.00952036] Cc1c2ccccc2c(C)c3ccc4ccccc4c13\n",
            "[-0.5485952] [-0.59181783] Cc3nnc4CN=C(c1ccccc1Cl)c2cc(Cl)ccc2n34\n",
            "[0.03835628] [-0.15634606] Cc3ccnc4N(C1CC1)c2ncccc2C(=O)Nc34 \n",
            "[-1.7148967] [-2.87272217] c1cc2cccc3c4cccc5cccc(c(c1)c23)c54\n",
            "[-0.5438629] [-0.34069577] COc1cc(cc(OC)c1O)C6C2C(COC2=O)C(OC4OC3COC(C)OC3C(O)C4O)c7cc5OCOc5cc67\n",
            "[1.5440304] [0.27622256] O=c1[nH]cnc2nc[nH]c12 \n",
            "[-1.0339218] [-2.15467761] C1C(O)CCC2(C)CC3CCC4(C)C5(C)CC6OCC(C)CC6OC5CC4C3C=C21\n",
            "[0.64522535] [-0.02812382] Cc1ccccc1n3c(C)nc2ccccc2c3=O\n",
            "[-0.6179257] [-2.77401524] CCOc1ccc(cc1)C(C)(C)COCc3cccc(Oc2ccccc2)c3\n",
            "[0.34143198] [0.25638441] CCC1(CCC(=O)NC1=O)c2ccccc2 \n",
            "[0.6331695] [0.84040043] CC1CC(C)C(=O)C(C1)C(O)CC2CC(=O)NC(=O)C2 \n",
            "[-0.4249218] [-0.86277804] CC(=O)C3CCC4C2CC=C1CC(O)CCC1(C)C2CCC34C \n",
            "[0.07642716] [-1.52082426] Cc1ccc(OP(=O)(Oc2cccc(C)c2)Oc3ccccc3C)cc1\n",
            "[0.53071404] [0.29702844] CSc1nnc(c(=O)n1N)C(C)(C)C\n",
            "[0.84211135] [0.44363727] Nc1ncnc2n(ccc12)C3OC(CO)C(O)C3O \n",
            "[1.2383121] [0.47460415] O=C2NC(=O)C1(CC1)C(=O)N2 \n",
            "[0.09331263] [-0.08376743] C1Cc2ccccc2C1\n",
            "[0.9181017] [0.68556602] c1ccc2cnccc2c1\n",
            "[1.2646058] [0.79201468] OCC1OC(C(O)C1O)n2cnc3c(O)ncnc23\n",
            "[-0.27999648] [-1.2401869] c2(Cl)c(Cl)c(Cl)c1nccnc1c2(Cl) \n",
            "[0.303119] [0.6129874] C1OC1c2ccccc2 \n",
            "[0.1979084] [-0.58214068] CCC(=C(CC)c1ccc(O)cc1)c2ccc(O)cc2 \n",
            "[-1.4204283] [-1.51598569] c1ccc2c(c1)c3cccc4cccc2c34\n",
            "[-1.2324128] [-1.93984487] CC(C)C(C(=O)OC(C#N)c1cccc(Oc2ccccc2)c1)c3ccc(OC(F)F)cc3\n",
            "[-0.77714705] [-0.30295489] CCCC1COC(Cn2cncn2)(O1)c3ccc(Cl)cc3Cl\n",
            "[0.3724206] [-0.24827899] O=C2CN(N=Cc1ccc(o1)N(=O)=O)C(=O)N2 \n",
            "[2.3825886] [1.06442646] NC(=O)c1cnccn1\n",
            "[-1.6656022] [-1.48259952] OC4=C(C1CCC(CC1)c2ccc(Cl)cc2)C(=O)c3ccccc3C4=O\n",
            "[1.0009496] [0.0275198] O=C(Cn1ccnc1N(=O)=O)NCc2ccccc2\n",
            "[0.7008782] [0.33718861] CCC1(C(=O)NC(=O)NC1=O)C2=CCCCC2 \n",
            "[-0.2386747] [-0.91600236] COC(=O)C1=C(C)NC(=C(C1c2ccccc2N(=O)=O)C(=O)OC)C \n",
            "[1.4847363] [0.58637523] O=C2NC(=O)C1(CCC1)C(=O)N2\n",
            "[-0.8102719] [-0.62084928] CCCOP(=S)(OCCC)SCC(=O)N1CCCCC1C\n",
            "[0.27172112] [-0.30827732] N(c1ccccc1)c2ccccc2\n",
            "[-2.253924] [-1.95145746] ClC(Cl)=C(c1ccc(Cl)cc1)c2ccc(Cl)cc2\n",
            "[-0.37673938] [-0.83568202] O=c2[nH]c1CCCc1c(=O)n2C3CCCCC3\n",
            "[0.22895922] [0.10977558] CCC1(C(=O)NCNC1=O)c2ccccc2\n",
            "[0.9980497] [1.90488697] O=C1CCCN1\n",
            "[-1.3895159] [-0.75149081] COc5cc4OCC3Oc2c1CC(Oc1ccc2C(=O)C3c4cc5OC)C(C)=C \n",
            "[-1.5329142] [-1.65630437] ClC4=C(Cl)C5(Cl)C3C1CC(C2OC12)C3C4(Cl)C5(Cl)Cl\n",
            "[1.4120717] [0.74362893] c1ccsc1\n",
            "[-1.2603811] [-2.42079925] c1ccc2c(c1)ccc3c2ccc4c5ccccc5ccc43\n",
            "[0.5266016] [-0.20957039] Cc1occc1C(=O)Nc2ccccc2\n",
            "[0.7832615] [1.01458914] OCC3OC(OCC2OC(OC(C#N)c1ccccc1)C(O)C(O)C2O)C(O)C(O)C3O \n"
          ]
        }
      ],
      "source": [
        "solubilities = dc_gcn.predict_on_batch(test_dataset.X)\n",
        "for molecule, solubility, test_solubility in zip(test_dataset.ids, solubilities, test_dataset.y):\n",
        "    print(solubility, test_solubility, molecule)"
      ]
    },
    {
      "cell_type": "code",
      "execution_count": 23,
      "metadata": {
        "colab": {
          "base_uri": "https://localhost:8080/",
          "height": 283
        },
        "id": "aH03Ejwc1BNd",
        "outputId": "2a438e9f-6fd2-4f66-bd2d-8d55cc382d53"
      },
      "outputs": [
        {
          "data": {
            "text/plain": [
              "<matplotlib.legend.Legend at 0x1402c8d30>"
            ]
          },
          "execution_count": 23,
          "metadata": {},
          "output_type": "execute_result"
        },
        {
          "data": {
            "image/png": "[encoded data removed]",
            "text/plain": [
              "<Figure size 432x288 with 1 Axes>"
            ]
          },
          "metadata": {
            "image/png": {
              "height": 248,
              "width": 370
            },
            "needs_background": "light"
          },
          "output_type": "display_data"
        }
      ],
      "source": [
        "# 60개의 테스트 샘플만 비교했다\n",
        "plt.plot(test_dataset.y[:60], \"r.-\", label='Real Value')\n",
        "plt.plot(solubilities[:60], \"b.-\",  label='Prediction')\n",
        "plt.legend()"
      ]
    },
    {
      "cell_type": "markdown",
      "metadata": {
        "id": "o_p8EyZK3s4d"
      },
      "source": [
        "## 임의의 샘플에 적용해보기"
      ]
    },
    {
      "cell_type": "code",
      "execution_count": 24,
      "metadata": {
        "colab": {
          "base_uri": "https://localhost:8080/"
        },
        "id": "tvsk2Hxd1gmf",
        "outputId": "b8a2668f-6670-4478-a8c3-7805ff722ba7"
      },
      "outputs": [
        {
          "name": "stdout",
          "output_type": "stream",
          "text": [
            "\n",
            "Molecule: COC(C)(C)CCCC(C)CC=CC(C)=CC(=O)OC(C)C\n",
            "Predicted solubility: [-1.0398129]\n",
            "\n",
            "Molecule: CCOC(=O)CC\n",
            "Predicted solubility: [1.5254315]\n",
            "\n",
            "Molecule: CSc1nc(NC(C)C)nc(NC(C)C)n1\n",
            "Predicted solubility: [0.25363216]\n",
            "\n",
            "Molecule: CC(C#C)N(C)C(=O)Nc1ccc(Cl)cc1\n",
            "Predicted solubility: [-0.12023598]\n",
            "\n",
            "Molecule: Cc1cc2ccccc2cc1C\n",
            "Predicted solubility: [-0.648777]\n"
          ]
        }
      ],
      "source": [
        "smiles = ['COC(C)(C)CCCC(C)CC=CC(C)=CC(=O)OC(C)C',\n",
        "          'CCOC(=O)CC',\n",
        "          'CSc1nc(NC(C)C)nc(NC(C)C)n1',\n",
        "          'CC(C#C)N(C)C(=O)Nc1ccc(Cl)cc1',\n",
        "          'Cc1cc2ccccc2cc1C']\n",
        "mols = [Chem.MolFromSmiles(s) for s in smiles]\n",
        "featurizer = dc.feat.ConvMolFeaturizer()\n",
        "x = featurizer.featurize(mols)\n",
        "predicted_solubility = dc_gcn.predict_on_batch(x)\n",
        "for m,s in zip(smiles, predicted_solubility):\n",
        "    print()\n",
        "    print('Molecule:', m)\n",
        "    print('Predicted solubility:', s)"
      ]
    },
    {
      "cell_type": "markdown",
      "metadata": {
        "id": "YcPD2PveL-D4"
      },
      "source": [
        "## ConvMol  소개"
      ]
    },
    {
      "cell_type": "code",
      "execution_count": 25,
      "metadata": {
        "colab": {
          "base_uri": "https://localhost:8080/"
        },
        "id": "zLPbPGtcGws_",
        "outputId": "4e924cb9-fcd5-4ec4-fd4d-7b153e0a98fa"
      },
      "outputs": [
        {
          "data": {
            "text/plain": [
              "<deepchem.feat.mol_graphs.ConvMol at 0x14092b5b0>"
            ]
          },
          "execution_count": 25,
          "metadata": {},
          "output_type": "execute_result"
        }
      ],
      "source": [
        "x[1]"
      ]
    },
    {
      "cell_type": "code",
      "execution_count": 26,
      "metadata": {
        "colab": {
          "base_uri": "https://localhost:8080/",
          "height": 167
        },
        "id": "MfNIPAWK_leD",
        "outputId": "e7593839-f8b8-4875-b342-dc556d638565"
      },
      "outputs": [
        {
          "data": {
            "image/png": "[encoded data removed]",
            "text/plain": [
              "<rdkit.Chem.rdchem.Mol at 0x141568fa0>"
            ]
          },
          "execution_count": 26,
          "metadata": {},
          "output_type": "execute_result"
        }
      ],
      "source": [
        "# 두번째 분자 보기\n",
        "mol = Chem.MolFromSmiles(\"CCOC(=O)CC\")\n",
        "# for atom in mol.GetAtoms():\n",
        "#   atom.SetAtomMapNum(atom.GetIdx())\n",
        "mol"
      ]
    },
    {
      "cell_type": "code",
      "execution_count": 27,
      "metadata": {
        "colab": {
          "base_uri": "https://localhost:8080/"
        },
        "id": "wdZ3Iu6K97vU",
        "outputId": "71c35cb2-ab7e-44f4-fc67-f82d3d25a05d"
      },
      "outputs": [
        {
          "data": {
            "text/plain": [
              "(7, 75)"
            ]
          },
          "execution_count": 27,
          "metadata": {},
          "output_type": "execute_result"
        }
      ],
      "source": [
        "# ConvMol 특성의 구조 (원자가 7이고, 특성 벡터수가 75임)\n",
        "x[1].atom_features.shape"
      ]
    },
    {
      "cell_type": "code",
      "execution_count": 28,
      "metadata": {
        "colab": {
          "base_uri": "https://localhost:8080/"
        },
        "id": "Hj_c0_wjBbMk",
        "outputId": "332994fc-cad5-4eae-919b-a7ab3a38bc7d"
      },
      "outputs": [
        {
          "data": {
            "text/plain": [
              "array([[1., 0., 0., 0., 0., 0., 0., 0., 0., 0., 0., 0., 0., 0., 0., 0.,\n",
              "        0., 0., 0., 0., 0., 0., 0., 0., 0., 0., 0., 0., 0., 0., 0., 0.,\n",
              "        0., 0., 0., 0., 0., 0., 0., 0., 0., 0., 0., 0., 0., 1., 0., 0.,\n",
              "        0., 0., 0., 0., 0., 0., 0., 0., 0., 0., 1., 0., 0., 0., 0., 0.,\n",
              "        0., 0., 1., 0., 0., 0., 0., 0., 0., 1., 0.],\n",
              "       [0., 0., 1., 0., 0., 0., 0., 0., 0., 0., 0., 0., 0., 0., 0., 0.,\n",
              "        0., 0., 0., 0., 0., 0., 0., 0., 0., 0., 0., 0., 0., 0., 0., 0.,\n",
              "        0., 0., 0., 0., 0., 0., 0., 0., 0., 0., 0., 0., 0., 1., 0., 0.,\n",
              "        0., 0., 0., 0., 0., 0., 0., 1., 0., 0., 0., 0., 0., 0., 0., 0.,\n",
              "        0., 1., 0., 0., 0., 0., 1., 0., 0., 0., 0.],\n",
              "       [1., 0., 0., 0., 0., 0., 0., 0., 0., 0., 0., 0., 0., 0., 0., 0.,\n",
              "        0., 0., 0., 0., 0., 0., 0., 0., 0., 0., 0., 0., 0., 0., 0., 0.,\n",
              "        0., 0., 0., 0., 0., 0., 0., 0., 0., 0., 0., 0., 0., 1., 0., 0.,\n",
              "        0., 0., 0., 0., 0., 0., 0., 0., 0., 0., 1., 0., 0., 0., 0., 0.,\n",
              "        0., 0., 1., 0., 0., 0., 0., 0., 0., 1., 0.],\n",
              "       [1., 0., 0., 0., 0., 0., 0., 0., 0., 0., 0., 0., 0., 0., 0., 0.,\n",
              "        0., 0., 0., 0., 0., 0., 0., 0., 0., 0., 0., 0., 0., 0., 0., 0.,\n",
              "        0., 0., 0., 0., 0., 0., 0., 0., 0., 0., 0., 0., 0., 0., 1., 0.,\n",
              "        0., 0., 0., 0., 0., 0., 0., 0., 0., 1., 0., 0., 0., 0., 0., 0.,\n",
              "        0., 0., 1., 0., 0., 0., 0., 0., 1., 0., 0.],\n",
              "       [0., 0., 1., 0., 0., 0., 0., 0., 0., 0., 0., 0., 0., 0., 0., 0.,\n",
              "        0., 0., 0., 0., 0., 0., 0., 0., 0., 0., 0., 0., 0., 0., 0., 0.,\n",
              "        0., 0., 0., 0., 0., 0., 0., 0., 0., 0., 0., 0., 0., 0., 1., 0.,\n",
              "        0., 0., 0., 0., 0., 0., 0., 1., 0., 0., 0., 0., 0., 0., 0., 0.,\n",
              "        0., 1., 0., 0., 0., 0., 1., 0., 0., 0., 0.],\n",
              "       [1., 0., 0., 0., 0., 0., 0., 0., 0., 0., 0., 0., 0., 0., 0., 0.,\n",
              "        0., 0., 0., 0., 0., 0., 0., 0., 0., 0., 0., 0., 0., 0., 0., 0.,\n",
              "        0., 0., 0., 0., 0., 0., 0., 0., 0., 0., 0., 0., 0., 0., 1., 0.,\n",
              "        0., 0., 0., 0., 0., 0., 0., 0., 0., 1., 0., 0., 0., 0., 0., 0.,\n",
              "        0., 0., 1., 0., 0., 0., 0., 0., 1., 0., 0.],\n",
              "       [1., 0., 0., 0., 0., 0., 0., 0., 0., 0., 0., 0., 0., 0., 0., 0.,\n",
              "        0., 0., 0., 0., 0., 0., 0., 0., 0., 0., 0., 0., 0., 0., 0., 0.,\n",
              "        0., 0., 0., 0., 0., 0., 0., 0., 0., 0., 0., 0., 0., 0., 0., 1.,\n",
              "        0., 0., 0., 0., 0., 0., 0., 1., 0., 0., 0., 0., 0., 0., 0., 0.,\n",
              "        0., 1., 0., 0., 0., 0., 1., 0., 0., 0., 0.]])"
            ]
          },
          "execution_count": 28,
          "metadata": {},
          "output_type": "execute_result"
        }
      ],
      "source": [
        "x[1].get_atom_features()"
      ]
    },
    {
      "cell_type": "code",
      "execution_count": 29,
      "metadata": {
        "colab": {
          "base_uri": "https://localhost:8080/"
        },
        "id": "R98WUQRf_CsF",
        "outputId": "53727a45-6147-4dd4-9abb-b4b0188e611f"
      },
      "outputs": [
        {
          "data": {
            "text/plain": [
              "[[3], [6], [5], [0, 4], [3, 6], [6, 2], [4, 1, 5]]"
            ]
          },
          "execution_count": 29,
          "metadata": {},
          "output_type": "execute_result"
        }
      ],
      "source": [
        "# 7개 원자의 인접 노드 번호들 보기\n",
        "x[1].get_adjacency_list()"
      ]
    },
    {
      "cell_type": "markdown",
      "metadata": {
        "id": "WlgWqOz0AByR"
      },
      "source": [
        "# 분류에 적용 예\n",
        "- tox21 데이터 다운로드\n",
        "- featurizer='GraphConv' 적용"
      ]
    },
    {
      "cell_type": "code",
      "execution_count": 30,
      "metadata": {
        "id": "JMi2V8Jncj1W"
      },
      "outputs": [
        {
          "name": "stderr",
          "output_type": "stream",
          "text": [
            "[16:27:58] WARNING: not removing hydrogen atom without neighbors\n",
            "[16:28:23] WARNING: not removing hydrogen atom without neighbors\n"
          ]
        }
      ],
      "source": [
        "tasks, datasets, transformers = dc.molnet.load_tox21(featurizer='GraphConv')\n",
        "train_dataset, valid_dataset, test_dataset = datasets"
      ]
    },
    {
      "cell_type": "markdown",
      "metadata": {
        "id": "d2f1PekXPhEd"
      },
      "source": [
        "# 모델 정의, 학습, 평가\n",
        "- GraphConvModel 모델 사용\n",
        "- 기본 모델 구조를 사용한다"
      ]
    },
    {
      "cell_type": "code",
      "execution_count": 31,
      "metadata": {
        "colab": {
          "base_uri": "https://localhost:8080/"
        },
        "id": "Y9n3jTNHcj1a",
        "outputId": "0b736852-66b9-4a5a-c558-dcae547f55d5"
      },
      "outputs": [
        {
          "name": "stdout",
          "output_type": "stream",
          "text": [
            "WARNING:tensorflow:5 out of the last 1004 calls to <function KerasModel._create_gradient_fn.<locals>.apply_gradient_for_batch at 0x141ac9b80> triggered tf.function retracing. Tracing is expensive and the excessive number of tracings could be due to (1) creating @tf.function repeatedly in a loop, (2) passing tensors with different shapes, (3) passing Python objects instead of tensors. For (1), please define your @tf.function outside of the loop. For (2), @tf.function has experimental_relax_shapes=True option that relaxes argument shapes that can avoid unnecessary retracing. For (3), please refer to https://www.tensorflow.org/guide/function#controlling_retracing and https://www.tensorflow.org/api_docs/python/tf/function for  more details.\n",
            "WARNING:tensorflow:5 out of the last 19 calls to <function KerasModel._compute_model at 0x16867a310> triggered tf.function retracing. Tracing is expensive and the excessive number of tracings could be due to (1) creating @tf.function repeatedly in a loop, (2) passing tensors with different shapes, (3) passing Python objects instead of tensors. For (1), please define your @tf.function outside of the loop. For (2), @tf.function has experimental_relax_shapes=True option that relaxes argument shapes that can avoid unnecessary retracing. For (3), please refer to https://www.tensorflow.org/guide/function#controlling_retracing and https://www.tensorflow.org/api_docs/python/tf/function for  more details.\n",
            "Training set score: {'roc_auc_score': 0.9695964286882788, 'accuracy_score': 0.8983743082162622}\n",
            "Test set score: {'roc_auc_score': 0.7099999740139743, 'accuracy_score': 0.797406462585034}\n"
          ]
        }
      ],
      "source": [
        "n_tasks = len(tasks)\n",
        "model = dc.models.GraphConvModel(n_tasks, mode='classification')\n",
        "model.fit(train_dataset, nb_epoch=50)\n",
        "metric1 = dc.metrics.Metric(dc.metrics.roc_auc_score)\n",
        "metric2 = dc.metrics.Metric(dc.metrics.accuracy_score)\n",
        "print('Training set score:', model.evaluate(train_dataset, [metric1, metric2], transformers))\n",
        "print('Test set score:', model.evaluate(test_dataset, [metric1, metric2], transformers))"
      ]
    },
    {
      "cell_type": "code",
      "execution_count": 39,
      "metadata": {},
      "outputs": [
        {
          "name": "stdout",
          "output_type": "stream",
          "text": [
            "Training set score: {'roc_auc_score': 0.9695964286882788, 'accuracy_score': 0.8983743082162622}\n",
            "Test set score: {'roc_auc_score': 0.7099999740139743, 'accuracy_score': 0.797406462585034}\n"
          ]
        }
      ],
      "source": [
        "print('Training set score:', model.evaluate(train_dataset, [metric1, metric2], transformers))\n",
        "print('Test set score:', model.evaluate(test_dataset, [metric1, metric2], transformers))"
      ]
    },
    {
      "cell_type": "markdown",
      "metadata": {
        "id": "l-LBxrKN6CMs"
      },
      "source": [
        "# GCN을 직접 구현하는 방법\n",
        "-  `GraphConv` layer: 그래프 컨볼류션을 수행 \n",
        "- `GraphPool` layer: 주변 노드의 특성 벡터로부터 max-pooling을 수행\n",
        "\n",
        "- `GraphGather`: 노드(원자) 단위의 특성을 수집하여 그래프 단위(분자)의 특성을 계산: a graph level feature vector \n",
        "\n",
        "- 이외에 [Dense](https://keras.io/api/layers/core_layers/dense/), [BatchNormalization](https://keras.io/api/layers/normalization_layers/batch_normalization/), [Softmax](https://keras.io/api/layers/activation_layers/softmax/) 를 사용한다"
      ]
    },
    {
      "cell_type": "code",
      "execution_count": 32,
      "metadata": {
        "id": "71_E0CAUcj1n"
      },
      "outputs": [],
      "source": [
        "batch_size = 100\n",
        "\n",
        "class MyGraphConvModel(tf.keras.Model):\n",
        "\n",
        "  def __init__(self):\n",
        "    super(MyGraphConvModel, self).__init__()\n",
        "    self.gc1 = GraphConv(128, activation_fn=tf.nn.tanh)\n",
        "    self.batch_norm1 = layers.BatchNormalization()\n",
        "    self.gp1 = GraphPool()\n",
        "\n",
        "    self.gc2 = GraphConv(128, activation_fn=tf.nn.tanh)\n",
        "    self.batch_norm2 = layers.BatchNormalization()\n",
        "    self.gp2 = GraphPool()\n",
        "\n",
        "    self.dense1 = layers.Dense(256, activation=tf.nn.tanh)\n",
        "    self.batch_norm3 = layers.BatchNormalization()\n",
        "    self.readout = GraphGather(batch_size=batch_size, activation_fn=tf.nn.tanh)\n",
        "\n",
        "    self.dense2 = layers.Dense(n_tasks*2)\n",
        "    self.logits = layers.Reshape((n_tasks, 2))\n",
        "    self.softmax = layers.Softmax()\n",
        "\n",
        "  def call(self, inputs):\n",
        "    gc1_output = self.gc1(inputs)\n",
        "    batch_norm1_output = self.batch_norm1(gc1_output)\n",
        "    gp1_output = self.gp1([batch_norm1_output] + inputs[1:])\n",
        "\n",
        "    gc2_output = self.gc2([gp1_output] + inputs[1:])\n",
        "    batch_norm2_output = self.batch_norm1(gc2_output)\n",
        "    gp2_output = self.gp2([batch_norm2_output] + inputs[1:])\n",
        "\n",
        "    dense1_output = self.dense1(gp2_output)\n",
        "    batch_norm3_output = self.batch_norm3(dense1_output)\n",
        "    readout_output = self.readout([batch_norm3_output] + inputs[1:])\n",
        "\n",
        "    logits_output = self.logits(self.dense2(readout_output))\n",
        "    return self.softmax(logits_output)"
      ]
    },
    {
      "cell_type": "code",
      "execution_count": 33,
      "metadata": {
        "id": "31Wr0t2zcj1q"
      },
      "outputs": [],
      "source": [
        "# 케라스 모델 사용\n",
        "gcn_model = dc.models.KerasModel(MyGraphConvModel(), loss=dc.models.losses.CategoricalCrossEntropy())"
      ]
    },
    {
      "cell_type": "code",
      "execution_count": 34,
      "metadata": {
        "colab": {
          "base_uri": "https://localhost:8080/"
        },
        "id": "qa4rAZYgWfjz",
        "outputId": "a086a354-d83c-42ba-e6b7-ad94fbb31451"
      },
      "outputs": [
        {
          "data": {
            "text/plain": [
              "<deepchem.feat.mol_graphs.ConvMol at 0x1650996d0>"
            ]
          },
          "execution_count": 34,
          "metadata": {},
          "output_type": "execute_result"
        }
      ],
      "source": [
        "# 입력은 ConvMol 타입임\n",
        "test_dataset.X[0]"
      ]
    },
    {
      "cell_type": "markdown",
      "metadata": {
        "id": "4nxJ5vYfV8kd"
      },
      "source": [
        "# 입력 데이터 생성"
      ]
    },
    {
      "cell_type": "markdown",
      "metadata": {
        "id": "DVgGpFbUWfjz"
      },
      "source": [
        "- 모델은 ndarray 타입의 어레이를 사용하므로 `ConvMol` 객체로부터 X, y, w 를 생성해 주는 함수가 필요하다\n",
        "- 배치단위로 데이터를 생성해야 한다\n",
        "- 주요 변수:\n",
        " - `atom_features`: 각 원자에 대한 특성 표현 벡터이며 크기는 75이다. \n",
        " - `degree_slice`: 주어진 degree에 대해서 원자를 구분하는 인덱싱 \n",
        " - `membership`: 분자 내에서 원자의 멤버쉽을 정의 (atom `i` belongs to molecule `membership[i]`). `deg_adjs`: 특정 degree에 대한, 인접 원자 리스트\n",
        " \n",
        "- [구현 소스 코드](https://github.com/deepchem/deepchem/blob/master/deepchem/feat/mol_graphs.py)"
      ]
    },
    {
      "cell_type": "markdown",
      "metadata": {
        "id": "4vQbwm2fTDWR"
      },
      "source": [
        "## Data Generator\n",
        "- X, y, w를 계속 자동으로 생성해주는 함수 정의"
      ]
    },
    {
      "cell_type": "code",
      "execution_count": 35,
      "metadata": {
        "id": "o-cPAG0I8Tc4"
      },
      "outputs": [],
      "source": [
        "def data_generator(dataset, epochs=1):\n",
        "  for ind, (X_b, y_b, w_b, ids_b) in enumerate(dataset.iterbatches(batch_size, \n",
        "              epochs, deterministic=False, pad_batches=True)):\n",
        "    multiConvMol = ConvMol.agglomerate_mols(X_b)\n",
        "    inputs = [multiConvMol.get_atom_features(), multiConvMol.deg_slice, \n",
        "              np.array(multiConvMol.membership)]\n",
        "              \n",
        "    for i in range(1, len(multiConvMol.get_deg_adjacency_lists())):\n",
        "      inputs.append(multiConvMol.get_deg_adjacency_lists()[i])\n",
        "    labels = [to_one_hot(y_b.flatten(), 2).reshape(-1, n_tasks, 2)]\n",
        "    weights = [w_b]\n",
        "    yield (inputs, labels, weights)"
      ]
    },
    {
      "cell_type": "markdown",
      "metadata": {
        "id": "VSTbjm9Hcj1v"
      },
      "source": [
        "- 모델을 훈련시키기 위해서 fit_generator(generator)를 사용한다\n",
        " - generator는 위에서 정의한 data_generator 함수가 생성해준다"
      ]
    },
    {
      "cell_type": "code",
      "execution_count": 36,
      "metadata": {
        "colab": {
          "base_uri": "https://localhost:8080/"
        },
        "id": "59WW4rhwcj1w",
        "outputId": "9d84177b-6bc4-40e8-902f-578782a21329"
      },
      "outputs": [
        {
          "data": {
            "text/plain": [
              "0.21011489868164063"
            ]
          },
          "execution_count": 36,
          "metadata": {},
          "output_type": "execute_result"
        }
      ],
      "source": [
        "# from re import VERBOSE\n",
        "gcn_model.fit_generator(data_generator(train_dataset, epochs=50))"
      ]
    },
    {
      "cell_type": "markdown",
      "metadata": {
        "id": "skrL9YEEcj13"
      },
      "source": [
        "## 성능 평가\n",
        "- 위에서 정의한 generator를 사용한다"
      ]
    },
    {
      "cell_type": "code",
      "execution_count": 37,
      "metadata": {
        "colab": {
          "base_uri": "https://localhost:8080/"
        },
        "id": "f3prNsgGcj14",
        "outputId": "a2e75ef6-24c8-43e6-bccb-1de419e0817b",
        "scrolled": true
      },
      "outputs": [
        {
          "name": "stdout",
          "output_type": "stream",
          "text": [
            "WARNING:tensorflow:5 out of the last 60 calls to <function KerasModel._compute_model at 0x1689c5ee0> triggered tf.function retracing. Tracing is expensive and the excessive number of tracings could be due to (1) creating @tf.function repeatedly in a loop, (2) passing tensors with different shapes, (3) passing Python objects instead of tensors. For (1), please define your @tf.function outside of the loop. For (2), @tf.function has experimental_relax_shapes=True option that relaxes argument shapes that can avoid unnecessary retracing. For (3), please refer to https://www.tensorflow.org/guide/function#controlling_retracing and https://www.tensorflow.org/api_docs/python/tf/function for  more details.\n",
            "Training set score: {'roc_auc_score': 0.773343170451544, 'accuracy_score': 0.9113095238095238}\n",
            "Test set score: {'roc_auc_score': 0.5918911799747225, 'accuracy_score': 0.8729166666666668}\n"
          ]
        }
      ],
      "source": [
        "print('Training set score:', gcn_model.evaluate_generator(data_generator(train_dataset), [metric1, metric2], transformers))\n",
        "print('Test set score:', gcn_model.evaluate_generator(data_generator(test_dataset), [metric1, metric2], transformers))"
      ]
    },
    {
      "cell_type": "code",
      "execution_count": null,
      "metadata": {
        "id": "a-hA71CqrVqR"
      },
      "outputs": [],
      "source": []
    }
  ],
  "metadata": {
    "accelerator": "GPU",
    "colab": {
      "collapsed_sections": [],
      "provenance": [],
      "toc_visible": true
    },
    "kernelspec": {
      "display_name": "Python 3.9.7 64-bit",
      "language": "python",
      "name": "python3"
    },
    "language_info": {
      "codemirror_mode": {
        "name": "ipython",
        "version": 3
      },
      "file_extension": ".py",
      "mimetype": "text/x-python",
      "name": "python",
      "nbconvert_exporter": "python",
      "pygments_lexer": "ipython3",
      "version": "3.9.7"
    },
    "toc": {
      "base_numbering": 1,
      "nav_menu": {},
      "number_sections": false,
      "sideBar": true,
      "skip_h1_title": false,
      "title_cell": "Table of Contents",
      "title_sidebar": "Contents",
      "toc_cell": false,
      "toc_position": {},
      "toc_section_display": true,
      "toc_window_display": false
    },
    "vscode": {
      "interpreter": {
        "hash": "aee8b7b246df8f9039afb4144a1f6fd8d2ca17a180786b69acc140d282b71a49"
      }
    }
  },
  "nbformat": 4,
  "nbformat_minor": 0
}
